{
 "cells": [
  {
   "cell_type": "markdown",
   "metadata": {
    "id": "g1hQiFW7isGe"
   },
   "source": [
    "# Итоговая работа."
   ]
  },
  {
   "cell_type": "code",
   "execution_count": 58,
   "metadata": {
    "id": "NyZ7GotDi1Mp"
   },
   "outputs": [],
   "source": [
    "import matplotlib.pyplot as plt\n",
    "import numpy as np\n",
    "\n",
    "from scipy.optimize import differential_evolution\n",
    "from scipy.optimize import minimize\n",
    "from scipy.stats import norm\n",
    "%matplotlib inline\n",
    "from scipy.optimize import curve_fit"
   ]
  },
  {
   "cell_type": "markdown",
   "metadata": {
    "id": "VZFf_auXisJd"
   },
   "source": [
    "## Задание 1"
   ]
  },
  {
   "cell_type": "markdown",
   "metadata": {
    "id": "39rGnTIojFlV"
   },
   "source": [
    "\n",
    "Вычислите производную функции: \n",
    "\n",
    "$tg^2(sin(x) + cos(2x+3))$ \n",
    "\n",
    "в точке $x_0=1$\n"
   ]
  },
  {
   "cell_type": "markdown",
   "metadata": {},
   "source": [
    "#### РЕШЕНИЕ ЗАДАНИЯ 1:"
   ]
  },
  {
   "cell_type": "code",
   "execution_count": 2,
   "metadata": {
    "id": "9NqehLwAL-p6"
   },
   "outputs": [
    {
     "name": "stdout",
     "output_type": "stream",
     "text": [
      "Производная функции в точке X₀:  57.06531269460301\n"
     ]
    }
   ],
   "source": [
    "### YOUR CODE HERE\n",
    "from scipy.misc import derivative #для подсчета производной \n",
    "\n",
    "def func(x):\n",
    "    return np.tan(np.sin(x) + np.cos(2*x+3))**2\n",
    "x = 1\n",
    "print('Производная функции в точке X\\u2080: ', derivative(func, 1.0, n=1))# считаем производную, указывая функцию, значение х (1.0) и порядок производной (n=1)\n"
   ]
  },
  {
   "cell_type": "markdown",
   "metadata": {
    "id": "P0dJuDCHlitb"
   },
   "source": [
    "## Задание 2"
   ]
  },
  {
   "cell_type": "markdown",
   "metadata": {
    "id": "9t_CAEu4ljXX"
   },
   "source": [
    "Дан объект в $2D$ пространстве"
   ]
  },
  {
   "cell_type": "code",
   "execution_count": 43,
   "metadata": {
    "colab": {
     "base_uri": "https://localhost:8080/",
     "height": 286
    },
    "id": "jOSkPagdljlG",
    "outputId": "82d8f12e-7f64-4653-fb17-000eb83b0e3c"
   },
   "outputs": [
    {
     "data": {
      "text/plain": [
       "(-200.0, 200.0)"
      ]
     },
     "execution_count": 43,
     "metadata": {},
     "output_type": "execute_result"
    },
    {
     "data": {
      "image/png": "[encoded data removed]",
      "text/plain": [
       "<Figure size 432x288 with 1 Axes>"
      ]
     },
     "metadata": {
      "needs_background": "light"
     },
     "output_type": "display_data"
    }
   ],
   "source": [
    "import numpy as np\n",
    "import matplotlib.pyplot as plt\n",
    "\n",
    "A = [\n",
    "[-100, -100, 1],\n",
    "[0, 100, 1],\n",
    "[100, -100, 1],\n",
    "[-100, -100, 1]\n",
    "]\n",
    "\n",
    "A = np.array(A)\n",
    "\n",
    "x = A[:,0]\n",
    "y = A[:,1]\n",
    "plt.plot(x, y)\n",
    "plt.ylim([-200, 200])\n",
    "plt.xlim([-200, 200]) "
   ]
  },
  {
   "cell_type": "markdown",
   "metadata": {
    "id": "ALnwba_5lkFh"
   },
   "source": [
    "При помощи матричных операций выполните:\n",
    "- Смещение объекта и масштабирование (применить 2 матрицы трансформаций). Смещение на (200, 300) и масштабирование на (0.5, 1.2)\n"
   ]
  },
  {
   "cell_type": "markdown",
   "metadata": {},
   "source": [
    "#### РЕШЕНИЕ ЗАДАНИЯ 2:"
   ]
  },
  {
   "cell_type": "code",
   "execution_count": 56,
   "metadata": {},
   "outputs": [],
   "source": [
    "A1 = A + [200, 300, 0] # смещаем матрицу на указанные величины вынес в отдельную ячейку ля удобства"
   ]
  },
  {
   "cell_type": "markdown",
   "metadata": {},
   "source": [
    "На  вский случай сделал три варианта:\n",
    "   - смещение\n",
    "   - трансформация\n",
    "   - смещение и трансформация"
   ]
  },
  {
   "cell_type": "code",
   "execution_count": 55,
   "metadata": {},
   "outputs": [
    {
     "data": {
      "image/png": "[encoded data removed]",
      "text/plain": [
       "<Figure size 432x288 with 1 Axes>"
      ]
     },
     "metadata": {
      "needs_background": "light"
     },
     "output_type": "display_data"
    }
   ],
   "source": [
    "\n",
    "trans_mat = np.array([[0.5,0,0],[0,1.2,0],[0,0,1]])\n",
    "\n",
    "transf = trans_mat@A.transpose()\n",
    "transform = transf.transpose()\n",
    "transf_move = trans_mat@A1.transpose()\n",
    "transform_and_move = transf_move.transpose()\n",
    "\n",
    "\n",
    "x = transform[:,0]\n",
    "y = transform[:,1]\n",
    "plt.plot(x, y)\n",
    "plt.ylim([-200, 400])\n",
    "plt.xlim([-200, 400]) \n",
    "x1 = A1[:,0]\n",
    "y1 = A1[:,1]\n",
    "plt.plot(x1, y1)\n",
    "plt.ylim([-200, 400])\n",
    "plt.xlim([-200, 400])\n",
    "x2 = transform_and_move[:,0]\n",
    "y2 = transform_and_move[:,1]\n",
    "plt.plot(x2, y2)\n",
    "plt.ylim([-200, 500])\n",
    "plt.xlim([-200, 500]) \n",
    "plt.show()"
   ]
  },
  {
   "cell_type": "code",
   "execution_count": null,
   "metadata": {},
   "outputs": [],
   "source": []
  },
  {
   "cell_type": "markdown",
   "metadata": {
    "id": "QRJEo5ydjFjG"
   },
   "source": [
    "## Задание 3\n"
   ]
  },
  {
   "cell_type": "markdown",
   "metadata": {
    "id": "j1IOvxF8L1v4"
   },
   "source": [
    "Найдите собственные значения и собственные вектора матрицы:"
   ]
  },
  {
   "cell_type": "code",
   "execution_count": 62,
   "metadata": {
    "id": "6aq0Aa8NL4gW"
   },
   "outputs": [
    {
     "name": "stdout",
     "output_type": "stream",
     "text": [
      "[[1 4]\n",
      " [1 1]]\n"
     ]
    }
   ],
   "source": [
    "m = np.array([[1, 4],\n",
    "              [1, 1]])\n",
    "print(m)"
   ]
  },
  {
   "cell_type": "markdown",
   "metadata": {},
   "source": [
    "#### РЕШЕНИЕ ЗАДАНИЯ 3:"
   ]
  },
  {
   "cell_type": "code",
   "execution_count": 9,
   "metadata": {
    "id": "UOAdFwznMdY5"
   },
   "outputs": [
    {
     "name": "stdout",
     "output_type": "stream",
     "text": [
      "собственные значения:  [ 3. -1.] \n",
      "\n",
      "собственный вектор: \n",
      " [[ 0.89442719 -0.89442719]\n",
      " [ 0.4472136   0.4472136 ]]\n"
     ]
    }
   ],
   "source": [
    "self_value, self_matrix = np.linalg.eig(m)\n",
    "print('собственные значения: ', self_value, '\\n')\n",
    "\n",
    "print('собственный вектор: \\n',self_matrix)"
   ]
  },
  {
   "cell_type": "markdown",
   "metadata": {
    "id": "T1y3_xiwjFpC"
   },
   "source": [
    "## Задание 4\n"
   ]
  },
  {
   "cell_type": "markdown",
   "metadata": {
    "id": "iJnhteBQMScA"
   },
   "source": [
    "Дана функция с неизвестными параметрами a и b, вам также известны значения функции `fx` в точках `x`. \n",
    "\n",
    "Найдите оптимальные параметры a, b, минимизирующие абсолютную ошибку `error`.\n"
   ]
  },
  {
   "cell_type": "code",
   "execution_count": 119,
   "metadata": {
    "id": "eCUHicv7MSix"
   },
   "outputs": [],
   "source": [
    "def f(x, a, b):\n",
    "    return np.e**a * np.sin(b*x) + x"
   ]
  },
  {
   "cell_type": "code",
   "execution_count": 60,
   "metadata": {
    "id": "99KsJtMSMSk7"
   },
   "outputs": [],
   "source": [
    "x = np.array([0.        , 0.26315789, 0.52631579, 0.78947368, 1.05263158,\n",
    "              1.31578947, 1.57894737, 1.84210526, 2.10526316, 2.36842105,\n",
    "              2.63157895, 2.89473684, 3.15789474, 3.42105263, 3.68421053,\n",
    "              3.94736842, 4.21052632, 4.47368421, 4.73684211, 5.        ])\n",
    "\n",
    "fx = np.array([  0.        , -12.01819092, -18.90968634, -17.68786571,\n",
    "                -8.7529108 ,   4.27524517,  16.06801336,  21.81250213,\n",
    "                19.22059845,   9.48411207,  -3.22273056, -13.48576488,\n",
    "               -16.91096359, -11.95866834,  -0.58630088,  12.56873816,\n",
    "                22.12489421,  24.20292139,  18.04522521,   6.33211092])"
   ]
  },
  {
   "cell_type": "code",
   "execution_count": 133,
   "metadata": {
    "id": "ZVBTEvLlMSnf"
   },
   "outputs": [
    {
     "data": {
      "image/png": "[encoded data removed]",
      "text/plain": [
       "<Figure size 432x288 with 1 Axes>"
      ]
     },
     "metadata": {
      "needs_background": "light"
     },
     "output_type": "display_data"
    }
   ],
   "source": [
    "plt.plot(x, fx)\n",
    "plt.show()"
   ]
  },
  {
   "cell_type": "code",
   "execution_count": 63,
   "metadata": {
    "id": "S_hiJIdNMSpt"
   },
   "outputs": [],
   "source": [
    "def error(params):\n",
    "    return np.sum(np.abs(fx - f(x, params[0], params[1])))\n"
   ]
  },
  {
   "cell_type": "markdown",
   "metadata": {},
   "source": [
    "#### ВОПРОС:"
   ]
  },
  {
   "cell_type": "markdown",
   "metadata": {},
   "source": [
    "если честно, не понял, как решать данную задачу, поскольку вышестоящая функция меня очень смущает. Что такое params? Предполагается, что я должен внести туда предполагаемые мною значения? Я посмотрел в ДЗ, где мы реализовывали подобную задачу. Там был код:\n",
    "\n",
    "    > def f(x, a, b):\n",
    "    > return np.e**a * np.sin(b*x) + x\n",
    "    > p0 = [0.5,0.6]\n",
    "    > res = curve_fit(f, x, y, p0 = p0, method = 'trf')\n",
    "    > res\n",
    "Но когда я пытаюсь вместо f подставить errors, а вместо y - fx, мне выдается ошибка, что функция errors берет только один аргумент, а дано три.\n",
    "В общем, ничего не понятно, но очень интересно. И поскольку для зачета требуется решение 4/5, то прошу зачесть, ибо сил уже нет"
   ]
  },
  {
   "cell_type": "markdown",
   "metadata": {
    "id": "w994ooEPPv5W"
   },
   "source": [
    "## Задание 5\n",
    "\n"
   ]
  },
  {
   "cell_type": "markdown",
   "metadata": {
    "id": "ABMPXsuhisMO"
   },
   "source": [
    "Дана матрица рейтингов фильмов (строки - пользователи (10 человек), столбцы - фильмы (15 фильмов))"
   ]
  },
  {
   "cell_type": "code",
   "execution_count": 64,
   "metadata": {
    "id": "D4_Vshevi-4P"
   },
   "outputs": [],
   "source": [
    "raitings = np.array([[ 4,  4,  9,  4,  1,  6, 10,  7,  9,  6,  9,  2,  8,  6,  6],\n",
    "                     [ 9,  2,  5, 10,  7,  8, 10,  5,  6,  2,  1,  6,  8,  9,  7],\n",
    "                     [ 1,  6,  8,  8,  4,  9,  3,  8, 10,  5,  2,  6,  8,  1,  6],\n",
    "                     [ 6,  1,  9,  7,  7,  9,  2,  3,  5,  1,  6,  6,  3,  2,  7],\n",
    "                     [ 3,  7,  3,  5,  7,  9,  9,  6,  2,  9,  1,  2,  8, 10,  6],\n",
    "                     [ 8,  3,  7,  3,  8,  6,  1,  8,  8,  6,  1,  9,  4, 10,  1],\n",
    "                     [ 9,  8,  4,  8,  8, 10,  6,  1,  1,  2,  9,  5,  2,  7,  2],\n",
    "                     [ 4,  1,  6,  4,  3, 10,  4,  4,  2,  8,  7,  9,  3,  8,  3],\n",
    "                     [ 2,  7,  7,  6, 10,  6,  8,  9,  8,  6, 10,  1,  7, 10,  4],\n",
    "                     [ 5, 10,  8,  8,  9,  7,  2,  9,  9, 10,  8,  8,  8,  6, 10]])"
   ]
  },
  {
   "cell_type": "markdown",
   "metadata": {
    "id": "FuYpBPsTjBVa"
   },
   "source": [
    "Необходимо найти наиболее похожего пользователя по косинусной метрике для каждого из пользователей (ответ: 10 пар вида (x, y), где y - наиболее похожий пользователь на пользователя x)."
   ]
  },
  {
   "cell_type": "markdown",
   "metadata": {},
   "source": [
    "#### РЕШЕНИЕ ЗАДАНИЯ 5:"
   ]
  },
  {
   "cell_type": "code",
   "execution_count": 65,
   "metadata": {
    "id": "dY3dBHLbKY_I"
   },
   "outputs": [],
   "source": [
    "### YOUR CODE HERE\n",
    "def angle_between(v1, v2):\n",
    "    scalar_value = v1.dot(v2)\n",
    "    norms = np.linalg.norm(v1) * np.linalg.norm(v2)\n",
    " \n",
    "    return np.rad2deg(np.arccos(scalar_value / norms))\n"
   ]
  },
  {
   "cell_type": "code",
   "execution_count": 75,
   "metadata": {},
   "outputs": [
    {
     "data": {
      "text/plain": [
       "{'user 1 and user 9': 24.4033,\n",
       " 'user 2 and user 5': 29.3805,\n",
       " 'user 3 and user 10': 23.2588,\n",
       " 'user 4 and user 10': 30.8102,\n",
       " 'user 5 and user 9': 28.4197,\n",
       " 'user 6 and user 10': 31.2238,\n",
       " 'user 7 and user 4': 33.6185,\n",
       " 'user 8 and user 6': 32.3798,\n",
       " 'user 9 and user 1': 24.4033,\n",
       " 'user 10 and user 3': 23.2588}"
      ]
     },
     "execution_count": 75,
     "metadata": {},
     "output_type": "execute_result"
    }
   ],
   "source": [
    "x = ''\n",
    "dict_ = {}\n",
    "for i, rate1 in enumerate(raitings):\n",
    "    minimum = 50\n",
    "    b = 0\n",
    "    for j, rate2 in enumerate(raitings):\n",
    "        if i != j:\n",
    "            b =  round(angle_between(rate1, rate2),4)\n",
    "            if b < minimum:\n",
    "                minimum = b\n",
    "                x = 'user ' + str(i+1) + ' and user ' +  str(j+1) # i+1 в данном случае сделано ислючительно ля наглядности, покольку пользователь 0 звучит странно\n",
    "    dict_[x] = minimum \n",
    "dict_                \n",
    "            "
   ]
  }
 ],
 "metadata": {
  "colab": {
   "collapsed_sections": [],
   "name": "HW_X_upd",
   "provenance": []
  },
  "kernelspec": {
   "display_name": "Python 3",
   "language": "python",
   "name": "python3"
  },
  "language_info": {
   "codemirror_mode": {
    "name": "ipython",
    "version": 3
   },
   "file_extension": ".py",
   "mimetype": "text/x-python",
   "name": "python",
   "nbconvert_exporter": "python",
   "pygments_lexer": "ipython3",
   "version": "3.8.8"
  }
 },
 "nbformat": 4,
 "nbformat_minor": 1
}
