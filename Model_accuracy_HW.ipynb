{
 "cells": [
  {
   "cell_type": "code",
   "execution_count": 146,
   "id": "5ee157f0",
   "metadata": {},
   "outputs": [],
   "source": [
    "import pandas as pd\n",
    "import numpy as np\n",
    "from sklearn.linear_model import LogisticRegression\n",
    "from sklearn.model_selection import train_test_split\n",
    "from sklearn.preprocessing import LabelEncoder, OneHotEncoder\n",
    "from sklearn.metrics import roc_curve\n",
    "from matplotlib import pyplot as plt\n",
    "from sklearn.metrics import roc_auc_score\n",
    "from pylab import rcParams\n",
    "rcParams['figure.figsize'] = 15,5"
   ]
  },
  {
   "cell_type": "markdown",
   "id": "876f6709",
   "metadata": {},
   "source": [
    "### Задание\n",
    "\n",
    "#### Цель: \n",
    "Закрепить знания о математическом смысле метрик TPR, FPR. Изучить построение ROC-кривой, графика Precision-Recall.\n",
    "\n",
    "\n",
    "#### Описание задания:\n",
    "\n",
    "Решить задачу классификации при помощи обучения модели логистической регрессии. Качество модели оценивается путем подсчета метрик TPR, FPR и построения графиков ROC-кривой, Precision-Recall. Данные для обучения модели хранятся в файле athletes.csv, который можно найти в материалах к занятию.\n",
    "\n",
    "#### Этапы работы:\n",
    "\n",
    "1. Преобразуйте данные:\n",
    "- a. проверьте наличие пропущенных значений. Преобразуйте/удалите пропуски по необходимости;\n",
    "- b. закодируйте категориальные переменные числовыми значениями по необходимости.\n",
    "\n",
    "2. Разделите выборку на обучающее (80% данных) и тестовое (20% данных) подмножества.\n",
    "3. Постройте ROC-кривую с помощью функции sklearn.metrics. roc_curve.\n",
    "4. Вычислите значение ROC-AUC метрики с помощью функции sklearn.metrics.roc_auc_score.\n",
    "5. Реализуйте подсчет метрик TPR, FPR «вручную», без использования готовых функций из библиотеки sklearn.\n",
    "6. Постройте ROC-кривую с помощью вычисленных в п. 5 метрик: объедините графики из п. 3 и п. 6 в один. Сравните, сделайте вывод.\n",
    "7. Постройте график Precision-Recall, используя метрики, посчитанные в п. 5.\n",
    "8. Вычислите значение ROC-AUC метрики, используя метрики, посчитанные в п. 5.\n",
    "9. Сформулируйте выводы по проделанной работе:\n",
    "- a. как по полученным графикам сделать вывод о качестве модели? Как вы оцениваете обученную модель исходя из подсчитанных метрик?\n",
    "- b. может ли ROC-кривая проходить ниже диагонали"
   ]
  },
  {
   "cell_type": "code",
   "execution_count": 3,
   "id": "225e8ded",
   "metadata": {},
   "outputs": [
    {
     "data": {
      "text/html": [
       "<div>\n",
       "<style scoped>\n",
       "    .dataframe tbody tr th:only-of-type {\n",
       "        vertical-align: middle;\n",
       "    }\n",
       "\n",
       "    .dataframe tbody tr th {\n",
       "        vertical-align: top;\n",
       "    }\n",
       "\n",
       "    .dataframe thead th {\n",
       "        text-align: right;\n",
       "    }\n",
       "</style>\n",
       "<table border=\"1\" class=\"dataframe\">\n",
       "  <thead>\n",
       "    <tr style=\"text-align: right;\">\n",
       "      <th></th>\n",
       "      <th>id</th>\n",
       "      <th>name</th>\n",
       "      <th>nationality</th>\n",
       "      <th>sex</th>\n",
       "      <th>dob</th>\n",
       "      <th>height</th>\n",
       "      <th>weight</th>\n",
       "      <th>sport</th>\n",
       "      <th>gold</th>\n",
       "      <th>silver</th>\n",
       "      <th>bronze</th>\n",
       "    </tr>\n",
       "  </thead>\n",
       "  <tbody>\n",
       "    <tr>\n",
       "      <th>0</th>\n",
       "      <td>736041664</td>\n",
       "      <td>A Jesus Garcia</td>\n",
       "      <td>ESP</td>\n",
       "      <td>male</td>\n",
       "      <td>10/17/69</td>\n",
       "      <td>1.72</td>\n",
       "      <td>64.0</td>\n",
       "      <td>athletics</td>\n",
       "      <td>0</td>\n",
       "      <td>0</td>\n",
       "      <td>0</td>\n",
       "    </tr>\n",
       "    <tr>\n",
       "      <th>1</th>\n",
       "      <td>532037425</td>\n",
       "      <td>A Lam Shin</td>\n",
       "      <td>KOR</td>\n",
       "      <td>female</td>\n",
       "      <td>9/23/86</td>\n",
       "      <td>1.68</td>\n",
       "      <td>56.0</td>\n",
       "      <td>fencing</td>\n",
       "      <td>0</td>\n",
       "      <td>0</td>\n",
       "      <td>0</td>\n",
       "    </tr>\n",
       "    <tr>\n",
       "      <th>2</th>\n",
       "      <td>435962603</td>\n",
       "      <td>Aaron Brown</td>\n",
       "      <td>CAN</td>\n",
       "      <td>male</td>\n",
       "      <td>5/27/92</td>\n",
       "      <td>1.98</td>\n",
       "      <td>79.0</td>\n",
       "      <td>athletics</td>\n",
       "      <td>0</td>\n",
       "      <td>0</td>\n",
       "      <td>1</td>\n",
       "    </tr>\n",
       "    <tr>\n",
       "      <th>3</th>\n",
       "      <td>521041435</td>\n",
       "      <td>Aaron Cook</td>\n",
       "      <td>MDA</td>\n",
       "      <td>male</td>\n",
       "      <td>1/2/91</td>\n",
       "      <td>1.83</td>\n",
       "      <td>80.0</td>\n",
       "      <td>taekwondo</td>\n",
       "      <td>0</td>\n",
       "      <td>0</td>\n",
       "      <td>0</td>\n",
       "    </tr>\n",
       "    <tr>\n",
       "      <th>4</th>\n",
       "      <td>33922579</td>\n",
       "      <td>Aaron Gate</td>\n",
       "      <td>NZL</td>\n",
       "      <td>male</td>\n",
       "      <td>11/26/90</td>\n",
       "      <td>1.81</td>\n",
       "      <td>71.0</td>\n",
       "      <td>cycling</td>\n",
       "      <td>0</td>\n",
       "      <td>0</td>\n",
       "      <td>0</td>\n",
       "    </tr>\n",
       "  </tbody>\n",
       "</table>\n",
       "</div>"
      ],
      "text/plain": [
       "          id            name nationality     sex       dob  height  weight  \\\n",
       "0  736041664  A Jesus Garcia         ESP    male  10/17/69    1.72    64.0   \n",
       "1  532037425      A Lam Shin         KOR  female   9/23/86    1.68    56.0   \n",
       "2  435962603     Aaron Brown         CAN    male   5/27/92    1.98    79.0   \n",
       "3  521041435      Aaron Cook         MDA    male    1/2/91    1.83    80.0   \n",
       "4   33922579      Aaron Gate         NZL    male  11/26/90    1.81    71.0   \n",
       "\n",
       "       sport  gold  silver  bronze  \n",
       "0  athletics     0       0       0  \n",
       "1    fencing     0       0       0  \n",
       "2  athletics     0       0       1  \n",
       "3  taekwondo     0       0       0  \n",
       "4    cycling     0       0       0  "
      ]
     },
     "execution_count": 3,
     "metadata": {},
     "output_type": "execute_result"
    }
   ],
   "source": [
    "data = pd.read_csv('athletes.csv')\n",
    "data.head()"
   ]
  },
  {
   "cell_type": "markdown",
   "id": "56f5b9dc",
   "metadata": {},
   "source": [
    "#### 1. Преобразуйте данные:\n",
    "- a. проверьте наличие пропущенных значений. Преобразуйте/удалите пропуски по необходимости;\n",
    "- b. закодируйте категориальные переменные числовыми значениями по необходимости."
   ]
  },
  {
   "cell_type": "code",
   "execution_count": 137,
   "id": "7eeb7eeb",
   "metadata": {},
   "outputs": [
    {
     "name": "stdout",
     "output_type": "stream",
     "text": [
      "<class 'pandas.core.frame.DataFrame'>\n",
      "Int64Index: 10858 entries, 0 to 11537\n",
      "Data columns (total 11 columns):\n",
      " #   Column       Non-Null Count  Dtype  \n",
      "---  ------       --------------  -----  \n",
      " 0   id           10858 non-null  int64  \n",
      " 1   name         10858 non-null  object \n",
      " 2   nationality  10858 non-null  object \n",
      " 3   sex          10858 non-null  object \n",
      " 4   dob          10858 non-null  object \n",
      " 5   height       10858 non-null  float64\n",
      " 6   weight       10858 non-null  float64\n",
      " 7   sport        10858 non-null  object \n",
      " 8   gold         10858 non-null  int64  \n",
      " 9   silver       10858 non-null  int64  \n",
      " 10  bronze       10858 non-null  int64  \n",
      "dtypes: float64(2), int64(4), object(5)\n",
      "memory usage: 1017.9+ KB\n"
     ]
    }
   ],
   "source": [
    "data.info()"
   ]
  },
  {
   "cell_type": "code",
   "execution_count": 10,
   "id": "63cdd955",
   "metadata": {},
   "outputs": [],
   "source": [
    "# чисто теоретически можно было бы поработать с пропусками, попытавшись воссоздать их значения аналитически, но будем проще\n",
    "data = data.dropna(axis=0)"
   ]
  },
  {
   "cell_type": "code",
   "execution_count": 11,
   "id": "b5d51072",
   "metadata": {},
   "outputs": [
    {
     "name": "stdout",
     "output_type": "stream",
     "text": [
      "<class 'pandas.core.frame.DataFrame'>\n",
      "Int64Index: 10858 entries, 0 to 11537\n",
      "Data columns (total 11 columns):\n",
      " #   Column       Non-Null Count  Dtype  \n",
      "---  ------       --------------  -----  \n",
      " 0   id           10858 non-null  int64  \n",
      " 1   name         10858 non-null  object \n",
      " 2   nationality  10858 non-null  object \n",
      " 3   sex          10858 non-null  object \n",
      " 4   dob          10858 non-null  object \n",
      " 5   height       10858 non-null  float64\n",
      " 6   weight       10858 non-null  float64\n",
      " 7   sport        10858 non-null  object \n",
      " 8   gold         10858 non-null  int64  \n",
      " 9   silver       10858 non-null  int64  \n",
      " 10  bronze       10858 non-null  int64  \n",
      "dtypes: float64(2), int64(4), object(5)\n",
      "memory usage: 1017.9+ KB\n"
     ]
    }
   ],
   "source": [
    "data.info()"
   ]
  },
  {
   "cell_type": "code",
   "execution_count": 14,
   "id": "70792a61",
   "metadata": {},
   "outputs": [
    {
     "data": {
      "text/plain": [
       "array(['male', 'female'], dtype=object)"
      ]
     },
     "execution_count": 14,
     "metadata": {},
     "output_type": "execute_result"
    }
   ],
   "source": [
    "#в качестве Y возьмем пол и видим, что данные требуют кодирования\n",
    "data['sex'].unique()"
   ]
  },
  {
   "cell_type": "code",
   "execution_count": 25,
   "id": "d6274945",
   "metadata": {},
   "outputs": [
    {
     "data": {
      "text/plain": [
       "LabelEncoder()"
      ]
     },
     "execution_count": 25,
     "metadata": {},
     "output_type": "execute_result"
    }
   ],
   "source": [
    "le = LabelEncoder()\n",
    "le.fit( data['sex'] )"
   ]
  },
  {
   "cell_type": "code",
   "execution_count": 29,
   "id": "97ab386e",
   "metadata": {},
   "outputs": [
    {
     "data": {
      "text/plain": [
       "0    1\n",
       "1    0\n",
       "2    1\n",
       "3    1\n",
       "4    1\n",
       "dtype: int32"
      ]
     },
     "execution_count": 29,
     "metadata": {},
     "output_type": "execute_result"
    }
   ],
   "source": [
    "Y = pd.Series(data = le.transform(data['sex']))\n",
    "Y.head()"
   ]
  },
  {
   "cell_type": "markdown",
   "id": "74c078b8",
   "metadata": {},
   "source": [
    "Теперь разберемся с Х"
   ]
  },
  {
   "cell_type": "code",
   "execution_count": 33,
   "id": "c4bfb998",
   "metadata": {},
   "outputs": [
    {
     "data": {
      "text/html": [
       "<div>\n",
       "<style scoped>\n",
       "    .dataframe tbody tr th:only-of-type {\n",
       "        vertical-align: middle;\n",
       "    }\n",
       "\n",
       "    .dataframe tbody tr th {\n",
       "        vertical-align: top;\n",
       "    }\n",
       "\n",
       "    .dataframe thead th {\n",
       "        text-align: right;\n",
       "    }\n",
       "</style>\n",
       "<table border=\"1\" class=\"dataframe\">\n",
       "  <thead>\n",
       "    <tr style=\"text-align: right;\">\n",
       "      <th></th>\n",
       "      <th>nationality</th>\n",
       "      <th>dob</th>\n",
       "      <th>height</th>\n",
       "      <th>weight</th>\n",
       "      <th>gold</th>\n",
       "      <th>silver</th>\n",
       "      <th>bronze</th>\n",
       "    </tr>\n",
       "  </thead>\n",
       "  <tbody>\n",
       "    <tr>\n",
       "      <th>0</th>\n",
       "      <td>ESP</td>\n",
       "      <td>10/17/69</td>\n",
       "      <td>1.72</td>\n",
       "      <td>64.0</td>\n",
       "      <td>0</td>\n",
       "      <td>0</td>\n",
       "      <td>0</td>\n",
       "    </tr>\n",
       "    <tr>\n",
       "      <th>1</th>\n",
       "      <td>KOR</td>\n",
       "      <td>9/23/86</td>\n",
       "      <td>1.68</td>\n",
       "      <td>56.0</td>\n",
       "      <td>0</td>\n",
       "      <td>0</td>\n",
       "      <td>0</td>\n",
       "    </tr>\n",
       "    <tr>\n",
       "      <th>2</th>\n",
       "      <td>CAN</td>\n",
       "      <td>5/27/92</td>\n",
       "      <td>1.98</td>\n",
       "      <td>79.0</td>\n",
       "      <td>0</td>\n",
       "      <td>0</td>\n",
       "      <td>1</td>\n",
       "    </tr>\n",
       "    <tr>\n",
       "      <th>3</th>\n",
       "      <td>MDA</td>\n",
       "      <td>1/2/91</td>\n",
       "      <td>1.83</td>\n",
       "      <td>80.0</td>\n",
       "      <td>0</td>\n",
       "      <td>0</td>\n",
       "      <td>0</td>\n",
       "    </tr>\n",
       "    <tr>\n",
       "      <th>4</th>\n",
       "      <td>NZL</td>\n",
       "      <td>11/26/90</td>\n",
       "      <td>1.81</td>\n",
       "      <td>71.0</td>\n",
       "      <td>0</td>\n",
       "      <td>0</td>\n",
       "      <td>0</td>\n",
       "    </tr>\n",
       "  </tbody>\n",
       "</table>\n",
       "</div>"
      ],
      "text/plain": [
       "  nationality       dob  height  weight  gold  silver  bronze\n",
       "0         ESP  10/17/69    1.72    64.0     0       0       0\n",
       "1         KOR   9/23/86    1.68    56.0     0       0       0\n",
       "2         CAN   5/27/92    1.98    79.0     0       0       1\n",
       "3         MDA    1/2/91    1.83    80.0     0       0       0\n",
       "4         NZL  11/26/90    1.81    71.0     0       0       0"
      ]
     },
     "execution_count": 33,
     "metadata": {},
     "output_type": "execute_result"
    }
   ],
   "source": [
    "datax = data.drop(['id', 'name', 'sport', 'sex'], axis=1)\n",
    "datax.head()"
   ]
  },
  {
   "cell_type": "markdown",
   "id": "4144148e",
   "metadata": {},
   "source": [
    "#### Почему я убрал колонку Sport.\n",
    "данная колонка актуальна в том случае, если мы хотим сделать прогноз конкретно по выборке, относящейся к определенному виду спорта. В данном же случае нас больше интересует вообще количество медалистов вне зависимости от вида спорта. Т.о., эта колонка будеи просто лишней и может созлдавать дополнительный шум при обучении"
   ]
  },
  {
   "cell_type": "code",
   "execution_count": 34,
   "id": "5bd1f549",
   "metadata": {},
   "outputs": [],
   "source": [
    "X = pd.get_dummies(datax, columns=['nationality', 'dob', 'height', 'weight', 'gold', 'silver', 'bronze'])"
   ]
  },
  {
   "cell_type": "code",
   "execution_count": 138,
   "id": "b0f65c30",
   "metadata": {},
   "outputs": [
    {
     "data": {
      "text/html": [
       "<div>\n",
       "<style scoped>\n",
       "    .dataframe tbody tr th:only-of-type {\n",
       "        vertical-align: middle;\n",
       "    }\n",
       "\n",
       "    .dataframe tbody tr th {\n",
       "        vertical-align: top;\n",
       "    }\n",
       "\n",
       "    .dataframe thead th {\n",
       "        text-align: right;\n",
       "    }\n",
       "</style>\n",
       "<table border=\"1\" class=\"dataframe\">\n",
       "  <thead>\n",
       "    <tr style=\"text-align: right;\">\n",
       "      <th></th>\n",
       "      <th>nationality_AFG</th>\n",
       "      <th>nationality_ALB</th>\n",
       "      <th>nationality_ALG</th>\n",
       "      <th>nationality_AND</th>\n",
       "      <th>nationality_ANG</th>\n",
       "      <th>nationality_ANT</th>\n",
       "      <th>nationality_ARG</th>\n",
       "      <th>nationality_ARM</th>\n",
       "      <th>nationality_ARU</th>\n",
       "      <th>nationality_ASA</th>\n",
       "      <th>...</th>\n",
       "      <th>gold_2</th>\n",
       "      <th>gold_3</th>\n",
       "      <th>gold_4</th>\n",
       "      <th>gold_5</th>\n",
       "      <th>silver_0</th>\n",
       "      <th>silver_1</th>\n",
       "      <th>silver_2</th>\n",
       "      <th>bronze_0</th>\n",
       "      <th>bronze_1</th>\n",
       "      <th>bronze_2</th>\n",
       "    </tr>\n",
       "  </thead>\n",
       "  <tbody>\n",
       "    <tr>\n",
       "      <th>0</th>\n",
       "      <td>0</td>\n",
       "      <td>0</td>\n",
       "      <td>0</td>\n",
       "      <td>0</td>\n",
       "      <td>0</td>\n",
       "      <td>0</td>\n",
       "      <td>0</td>\n",
       "      <td>0</td>\n",
       "      <td>0</td>\n",
       "      <td>0</td>\n",
       "      <td>...</td>\n",
       "      <td>0</td>\n",
       "      <td>0</td>\n",
       "      <td>0</td>\n",
       "      <td>0</td>\n",
       "      <td>1</td>\n",
       "      <td>0</td>\n",
       "      <td>0</td>\n",
       "      <td>1</td>\n",
       "      <td>0</td>\n",
       "      <td>0</td>\n",
       "    </tr>\n",
       "    <tr>\n",
       "      <th>1</th>\n",
       "      <td>0</td>\n",
       "      <td>0</td>\n",
       "      <td>0</td>\n",
       "      <td>0</td>\n",
       "      <td>0</td>\n",
       "      <td>0</td>\n",
       "      <td>0</td>\n",
       "      <td>0</td>\n",
       "      <td>0</td>\n",
       "      <td>0</td>\n",
       "      <td>...</td>\n",
       "      <td>0</td>\n",
       "      <td>0</td>\n",
       "      <td>0</td>\n",
       "      <td>0</td>\n",
       "      <td>1</td>\n",
       "      <td>0</td>\n",
       "      <td>0</td>\n",
       "      <td>1</td>\n",
       "      <td>0</td>\n",
       "      <td>0</td>\n",
       "    </tr>\n",
       "    <tr>\n",
       "      <th>2</th>\n",
       "      <td>0</td>\n",
       "      <td>0</td>\n",
       "      <td>0</td>\n",
       "      <td>0</td>\n",
       "      <td>0</td>\n",
       "      <td>0</td>\n",
       "      <td>0</td>\n",
       "      <td>0</td>\n",
       "      <td>0</td>\n",
       "      <td>0</td>\n",
       "      <td>...</td>\n",
       "      <td>0</td>\n",
       "      <td>0</td>\n",
       "      <td>0</td>\n",
       "      <td>0</td>\n",
       "      <td>1</td>\n",
       "      <td>0</td>\n",
       "      <td>0</td>\n",
       "      <td>0</td>\n",
       "      <td>1</td>\n",
       "      <td>0</td>\n",
       "    </tr>\n",
       "    <tr>\n",
       "      <th>3</th>\n",
       "      <td>0</td>\n",
       "      <td>0</td>\n",
       "      <td>0</td>\n",
       "      <td>0</td>\n",
       "      <td>0</td>\n",
       "      <td>0</td>\n",
       "      <td>0</td>\n",
       "      <td>0</td>\n",
       "      <td>0</td>\n",
       "      <td>0</td>\n",
       "      <td>...</td>\n",
       "      <td>0</td>\n",
       "      <td>0</td>\n",
       "      <td>0</td>\n",
       "      <td>0</td>\n",
       "      <td>1</td>\n",
       "      <td>0</td>\n",
       "      <td>0</td>\n",
       "      <td>1</td>\n",
       "      <td>0</td>\n",
       "      <td>0</td>\n",
       "    </tr>\n",
       "    <tr>\n",
       "      <th>4</th>\n",
       "      <td>0</td>\n",
       "      <td>0</td>\n",
       "      <td>0</td>\n",
       "      <td>0</td>\n",
       "      <td>0</td>\n",
       "      <td>0</td>\n",
       "      <td>0</td>\n",
       "      <td>0</td>\n",
       "      <td>0</td>\n",
       "      <td>0</td>\n",
       "      <td>...</td>\n",
       "      <td>0</td>\n",
       "      <td>0</td>\n",
       "      <td>0</td>\n",
       "      <td>0</td>\n",
       "      <td>1</td>\n",
       "      <td>0</td>\n",
       "      <td>0</td>\n",
       "      <td>1</td>\n",
       "      <td>0</td>\n",
       "      <td>0</td>\n",
       "    </tr>\n",
       "  </tbody>\n",
       "</table>\n",
       "<p>5 rows × 5870 columns</p>\n",
       "</div>"
      ],
      "text/plain": [
       "   nationality_AFG  nationality_ALB  nationality_ALG  nationality_AND  \\\n",
       "0                0                0                0                0   \n",
       "1                0                0                0                0   \n",
       "2                0                0                0                0   \n",
       "3                0                0                0                0   \n",
       "4                0                0                0                0   \n",
       "\n",
       "   nationality_ANG  nationality_ANT  nationality_ARG  nationality_ARM  \\\n",
       "0                0                0                0                0   \n",
       "1                0                0                0                0   \n",
       "2                0                0                0                0   \n",
       "3                0                0                0                0   \n",
       "4                0                0                0                0   \n",
       "\n",
       "   nationality_ARU  nationality_ASA  ...  gold_2  gold_3  gold_4  gold_5  \\\n",
       "0                0                0  ...       0       0       0       0   \n",
       "1                0                0  ...       0       0       0       0   \n",
       "2                0                0  ...       0       0       0       0   \n",
       "3                0                0  ...       0       0       0       0   \n",
       "4                0                0  ...       0       0       0       0   \n",
       "\n",
       "   silver_0  silver_1  silver_2  bronze_0  bronze_1  bronze_2  \n",
       "0         1         0         0         1         0         0  \n",
       "1         1         0         0         1         0         0  \n",
       "2         1         0         0         0         1         0  \n",
       "3         1         0         0         1         0         0  \n",
       "4         1         0         0         1         0         0  \n",
       "\n",
       "[5 rows x 5870 columns]"
      ]
     },
     "execution_count": 138,
     "metadata": {},
     "output_type": "execute_result"
    }
   ],
   "source": [
    "X.head()"
   ]
  },
  {
   "cell_type": "markdown",
   "id": "50bd3871",
   "metadata": {},
   "source": [
    "#### 2. Разделите выборку на обучающее (80% данных) и тестовое (20% данных) подмножества."
   ]
  },
  {
   "cell_type": "code",
   "execution_count": 38,
   "id": "a4285919",
   "metadata": {},
   "outputs": [],
   "source": [
    "X_train, X_test, y_train, y_test = train_test_split(X, Y, test_size=0.2)"
   ]
  },
  {
   "cell_type": "code",
   "execution_count": 39,
   "id": "dc5170cc",
   "metadata": {},
   "outputs": [],
   "source": [
    "model = LogisticRegression()"
   ]
  },
  {
   "cell_type": "code",
   "execution_count": 40,
   "id": "919fbfc6",
   "metadata": {},
   "outputs": [
    {
     "name": "stderr",
     "output_type": "stream",
     "text": [
      "C:\\ProgramData\\Anaconda3\\lib\\site-packages\\sklearn\\linear_model\\_logistic.py:763: ConvergenceWarning: lbfgs failed to converge (status=1):\n",
      "STOP: TOTAL NO. of ITERATIONS REACHED LIMIT.\n",
      "\n",
      "Increase the number of iterations (max_iter) or scale the data as shown in:\n",
      "    https://scikit-learn.org/stable/modules/preprocessing.html\n",
      "Please also refer to the documentation for alternative solver options:\n",
      "    https://scikit-learn.org/stable/modules/linear_model.html#logistic-regression\n",
      "  n_iter_i = _check_optimize_result(\n"
     ]
    },
    {
     "data": {
      "text/plain": [
       "LogisticRegression()"
      ]
     },
     "execution_count": 40,
     "metadata": {},
     "output_type": "execute_result"
    }
   ],
   "source": [
    "model.fit(X_train, y_train)"
   ]
  },
  {
   "cell_type": "code",
   "execution_count": 43,
   "id": "ee62ecb8",
   "metadata": {},
   "outputs": [
    {
     "data": {
      "text/plain": [
       "0.8650702279530279"
      ]
     },
     "execution_count": 43,
     "metadata": {},
     "output_type": "execute_result"
    }
   ],
   "source": [
    "model.score(X_train, y_train) "
   ]
  },
  {
   "cell_type": "code",
   "execution_count": 140,
   "id": "7281b28b",
   "metadata": {},
   "outputs": [
    {
     "data": {
      "text/plain": [
       "0.8043278084714549"
      ]
     },
     "execution_count": 140,
     "metadata": {},
     "output_type": "execute_result"
    }
   ],
   "source": [
    "model.score(X_test, y_test) "
   ]
  },
  {
   "cell_type": "markdown",
   "id": "8c247faf",
   "metadata": {},
   "source": [
    "#### 3. Постройте ROC-кривую с помощью функции sklearn.metrics. roc_curve."
   ]
  },
  {
   "cell_type": "code",
   "execution_count": 47,
   "id": "d372f744",
   "metadata": {},
   "outputs": [],
   "source": [
    "fpr, tpr, thres = roc_curve( y_test, predictions[:, 1])"
   ]
  },
  {
   "cell_type": "code",
   "execution_count": 127,
   "id": "7b7c495e",
   "metadata": {},
   "outputs": [
    {
     "data": {
      "text/plain": [
       "[<matplotlib.lines.Line2D at 0x2bd026bd0a0>]"
      ]
     },
     "execution_count": 127,
     "metadata": {},
     "output_type": "execute_result"
    },
    {
     "data": {
      "image/png": "[encoded data removed]",
      "text/plain": [
       "<Figure size 1080x360 with 1 Axes>"
      ]
     },
     "metadata": {
      "needs_background": "light"
     },
     "output_type": "display_data"
    }
   ],
   "source": [
    "plt.plot( fpr, tpr )"
   ]
  },
  {
   "cell_type": "markdown",
   "id": "df5d0485",
   "metadata": {},
   "source": [
    "#### 4. Вычислите значение ROC-AUC метрики с помощью функции sklearn.metrics.roc_auc_score."
   ]
  },
  {
   "cell_type": "code",
   "execution_count": 142,
   "id": "d0c1b9ba",
   "metadata": {},
   "outputs": [
    {
     "data": {
      "text/plain": [
       "0.8744627038239846"
      ]
     },
     "execution_count": 142,
     "metadata": {},
     "output_type": "execute_result"
    }
   ],
   "source": [
    "roc_auc_score(y_test, predictions[:, 1])"
   ]
  },
  {
   "cell_type": "markdown",
   "id": "a1bb6c15",
   "metadata": {},
   "source": [
    "#### 5. Реализуйте подсчет метрик TPR, FPR «вручную», без использования готовых функций из библиотеки sklearn."
   ]
  },
  {
   "cell_type": "code",
   "execution_count": 171,
   "id": "f47a7a1b",
   "metadata": {},
   "outputs": [],
   "source": [
    "thresholds = np.arange(0.0, 1.01, .01)\n",
    "fprate = []\n",
    "tprate = []\n",
    "preds = predictions[:, 1]\n",
    "precision = []\n",
    "P = sum(y_test) # данное значение равно TP+ FN\n",
    "N = len(y_test) - P # данное значение равно FP + TN\n",
    "for thresh in thresholds:\n",
    "    FP=0\n",
    "    TP=0\n",
    "    for predicted_prob, actual in zip( predictions[:, 1], y_test ):\n",
    "        if (predicted_prob > thresh):\n",
    "            if actual == 1:\n",
    "                TP = TP + 1\n",
    "            if actual == 0:\n",
    "                FP = FP + 1\n",
    "    fprate.append(FP/float(N))\n",
    "    tprate.append(TP/float(P))\n",
    "    precision.append(actual/(tp+fp))"
   ]
  },
  {
   "cell_type": "markdown",
   "id": "0d0f04bd",
   "metadata": {},
   "source": [
    "#### 6. Постройте ROC-кривую с помощью вычисленных в п. 5 метрик: объедините графики из п. 3 и п. 6 в один. Сравните, сделайте вывод."
   ]
  },
  {
   "cell_type": "code",
   "execution_count": 179,
   "id": "50828517",
   "metadata": {},
   "outputs": [
    {
     "data": {
      "image/png": "[encoded data removed]",
      "text/plain": [
       "<Figure size 1080x360 with 1 Axes>"
      ]
     },
     "metadata": {
      "needs_background": "light"
     },
     "output_type": "display_data"
    }
   ],
   "source": [
    "plt.plot(fprate,tprate, label = 'своя реализация', c='r', linewidth=7.0)\n",
    "plt.plot(fpr,tpr, label = 'реализация из коробки', c='b' )\n",
    "plt.xlabel('False Positive Rate')\n",
    "plt.ylabel('True Positive Rate')\n",
    "plt.legend( loc = 0 )\n",
    "plt.show()\n"
   ]
  },
  {
   "cell_type": "markdown",
   "id": "5f316412",
   "metadata": {},
   "source": [
    "Как видно, теперь кривые идентичны"
   ]
  },
  {
   "cell_type": "markdown",
   "id": "063b1778",
   "metadata": {},
   "source": [
    "#### 7. Постройте график Precision-Recall, используя метрики, посчитанные в п. 5."
   ]
  },
  {
   "cell_type": "code",
   "execution_count": 174,
   "id": "fc3c2b6b",
   "metadata": {},
   "outputs": [
    {
     "data": {
      "image/png": "[encoded data removed]",
      "text/plain": [
       "<Figure size 1080x360 with 1 Axes>"
      ]
     },
     "metadata": {
      "needs_background": "light"
     },
     "output_type": "display_data"
    }
   ],
   "source": [
    "plt.plot(precision1,tprate, c='r' )\n",
    "plt.xlabel('Precision')\n",
    "plt.ylabel('Recall (True Positive Rate)')\n",
    "\n",
    "plt.show()"
   ]
  },
  {
   "cell_type": "markdown",
   "id": "5dcf9327",
   "metadata": {},
   "source": [
    "не понял, почему так получилось"
   ]
  },
  {
   "cell_type": "markdown",
   "id": "67da69d2",
   "metadata": {},
   "source": [
    "#### 8. Вычислите значение ROC-AUC метрики, используя метрики, посчитанные в п. 5\n"
   ]
  },
  {
   "cell_type": "code",
   "execution_count": 133,
   "id": "d9bf5121",
   "metadata": {},
   "outputs": [],
   "source": [
    "from sklearn.metrics import auc"
   ]
  },
  {
   "cell_type": "code",
   "execution_count": 164,
   "id": "c7991e0c",
   "metadata": {},
   "outputs": [
    {
     "data": {
      "text/plain": [
       "0.874463128900073"
      ]
     },
     "execution_count": 164,
     "metadata": {},
     "output_type": "execute_result"
    }
   ],
   "source": [
    "auc( fprate, tprate )"
   ]
  },
  {
   "cell_type": "markdown",
   "id": "88909bda",
   "metadata": {},
   "source": [
    "Значение идентично \"значению из коробки\""
   ]
  },
  {
   "cell_type": "markdown",
   "id": "c5bedf02",
   "metadata": {},
   "source": [
    "#### 9. Сформулируйте выводы по проделанной работе:\n",
    "- a. как по полученным графикам сделать вывод о качестве модели? Как вы оцениваете обученную модель исходя из подсчитанных метрик?\n",
    "- b. может ли ROC-кривая проходить ниже диагонали"
   ]
  },
  {
   "cell_type": "markdown",
   "id": "dd79766a",
   "metadata": {},
   "source": [
    "- а. не понял, почему такой странный график precision / recall.\n",
    "- b. если качество модели плохое, то вполне может"
   ]
  },
  {
   "cell_type": "code",
   "execution_count": null,
   "id": "de6a43ad",
   "metadata": {},
   "outputs": [],
   "source": []
  }
 ],
 "metadata": {
  "kernelspec": {
   "display_name": "Python 3",
   "language": "python",
   "name": "python3"
  },
  "language_info": {
   "codemirror_mode": {
    "name": "ipython",
    "version": 3
   },
   "file_extension": ".py",
   "mimetype": "text/x-python",
   "name": "python",
   "nbconvert_exporter": "python",
   "pygments_lexer": "ipython3",
   "version": "3.8.8"
  }
 },
 "nbformat": 4,
 "nbformat_minor": 5
}
