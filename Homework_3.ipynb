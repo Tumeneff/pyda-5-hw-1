{
 "cells": [
  {
   "cell_type": "markdown",
   "metadata": {
    "toc": true
   },
   "source": [
    "<h1>Table of Contents<span class=\"tocSkip\"></span></h1>\n",
    "<div class=\"toc\"><ul class=\"toc-item\"></ul></div>"
   ]
  },
  {
   "cell_type": "code",
   "execution_count": 266,
   "metadata": {
    "scrolled": true
   },
   "outputs": [
    {
     "name": "stdout",
     "output_type": "stream",
     "text": [
      "Результат: 98, 35, 4, 15, 48, 79, 213, 54, 119, 85, 25\n"
     ]
    }
   ],
   "source": [
    "#Решение Задачи №1\n",
    "ids = {'user1': [213, 213, 213, 15, 213], \n",
    "       'user2': [54, 54, 119, 119, 119], \n",
    "       'user3': [213, 98, 98, 35],\n",
    "       'user4': [48, 54, 25, 79, 48],\n",
    "       'user5': [85, 213, 4, 79, 85]\n",
    "}\n",
    "values_list = list(ids.values()) # создаю список из значений словаря\n",
    "b_set = set() # объявляю пустое множество\n",
    "#type(b_set) #просто проверил тип переменной b_set\n",
    "for i in values_list: # для каждого значения в списке values_list:\n",
    "    a = set(i) # объявляю переменную а, которая равна множеству из каждого элемента values_list\n",
    "    b_set = b_set | a # доавляю а в b_set, если его там нет\n",
    "print('Результат:', (', '.join(str(i) for i in b_set))) # вывожу значения из b_set не как множество, а как элементы строки"
   ]
  },
  {
   "cell_type": "code",
   "execution_count": 267,
   "metadata": {},
   "outputs": [
    {
     "name": "stdout",
     "output_type": "stream",
     "text": [
      "Поисковых запросов, содержащих 3 слов(а): 36.4 %\n",
      "Поисковых запросов, содержащих 2 слов(а): 27.3 %\n",
      "Поисковых запросов, содержащих 6 слов(а): 9.1 %\n",
      "Поисковых запросов, содержащих 4 слов(а): 18.2 %\n",
      "Поисковых запросов, содержащих 5 слов(а): 9.1 %\n"
     ]
    }
   ],
   "source": [
    "#Решение Задачи №2\n",
    "queries = [\n",
    "    'смотреть сериалы онлайн',\n",
    "    'новости спорта',\n",
    "    'афиша кино',\n",
    "    'курс доллара',\n",
    "    'сериалы этим летом',\n",
    "    'ваще не знаю, что за запрос',\n",
    "    'курс по питону',\n",
    "    'сериалы про спорт',\n",
    "    'сериалы не про спорт',\n",
    "    'сериалы не про российский спорт',\n",
    "    'еще один непонятный запрос',\n",
    "]\n",
    "nd_list = [] #объявляю пустой список\n",
    "for i in queries: #в элементах исходного списка\n",
    "    a_l = i.split(' ') #разделяем элементы по ' '\n",
    "    a = [len(a_l)] #a равно длине элементов в подсписках a_l в списке queries\n",
    "    nd_list.append(a) #добавляем a в ранее пустой список nd_list\n",
    "    int_duplicates = [int(i[0]) for i in nd_list] #получаем цифры из списка nd_list\n",
    "array_d = {}.fromkeys(int_duplicates, 0) #создаем словарь из числового ряда int_duplicates, где каждое число становится ключом, \n",
    "                                         #а значением 0 \n",
    "for a in int_duplicates: #для цифр из списка int_duplicates\n",
    "    array_d[a] += 1 #считаем сколько раз повторяется каждая цифра и \"кладем\" в значение values в словаре array_d \n",
    "                    #вместо исходных нулей\n",
    "x = sum(list(array_d.values())) # создаем переменную, равную сумме всех значений из array_d, \n",
    "                                #чтобы потом применить в итоговых расчетах для получения процента\n",
    "\n",
    "for response, value in array_d.items():\n",
    "    print('Поисковых запросов, содержащих', response, 'слов(а):', round((value*100)/(x), 1), '%')"
   ]
  },
  {
   "cell_type": "code",
   "execution_count": 268,
   "metadata": {
    "scrolled": false
   },
   "outputs": [
    {
     "data": {
      "text/plain": [
       "{'vk': {'revenue': 103, 'cost': 98, 'ROI': 5.1},\n",
       " 'yandex': {'revenue': 179, 'cost': 153, 'ROI': 16.99},\n",
       " 'facebook': {'revenue': 103, 'cost': 110, 'ROI': -6.36},\n",
       " 'adwords': {'revenue': 35, 'cost': 34, 'ROI': 2.94},\n",
       " 'twitter': {'revenue': 11, 'cost': 24, 'ROI': -54.17},\n",
       " 'snapchat': {'revenue': 12, 'cost': 22, 'ROI': -45.45}}"
      ]
     },
     "execution_count": 268,
     "metadata": {},
     "output_type": "execute_result"
    }
   ],
   "source": [
    "#Решение Задачи №3\n",
    "results = {\n",
    "    'vk': {'revenue': 103, 'cost': 98},\n",
    "    'yandex': {'revenue': 179, 'cost': 153},\n",
    "    'facebook': {'revenue': 103, 'cost': 110},\n",
    "    'adwords': {'revenue': 35, 'cost': 34},\n",
    "    'twitter': {'revenue': 11, 'cost': 24},\n",
    "    'snapchat': {'revenue': 12, 'cost': 22},\n",
    "}\n",
    "\n",
    "for source, data in results.items(): # для ключей source, data в словаре results:\n",
    "    i = data['revenue'] # i равно value для ключа 'revenue'\n",
    "    j = data['cost'] # j равно value для ключа 'cost'\n",
    "    data['ROI'] = round(((i / j - 1) * 100),2) # вводим новый вложенный элемент key:value, где ключа 'ROI', а value - формула\n",
    "results # выводим итоговый словарь"
   ]
  },
  {
   "cell_type": "code",
   "execution_count": 269,
   "metadata": {},
   "outputs": [
    {
     "name": "stdout",
     "output_type": "stream",
     "text": [
      "Максимальный объем продаж на рекламном канале:  vk\n"
     ]
    }
   ],
   "source": [
    "#Решение Задачи №4\n",
    "\n",
    "stats = {'facebook': 55, 'yandex': 115, 'vk': 120, 'google': 99, 'email': 42, 'ok': 98}\n",
    "values_list = list(stats.values()) # создаю список из значений словаря\n",
    "a = sorted(values_list) # объявляю переменную, которая является отсортированным списком values_list, \n",
    "                        # тем самым определив самое большое значение последним элементом\n",
    "b = (a[-1]) # объявляю переменную и, равную самому большому значению в списке а\n",
    "for source, value in stats.items(): # для source и values в элементах словаря stats:\n",
    "    if value == b: # если знаечние ключа равно переменной b:\n",
    "        print('Максимальный объем продаж на рекламном канале: ', source) # выводим на экран текст, подставляя значение ключа"
   ]
  },
  {
   "cell_type": "code",
   "execution_count": 270,
   "metadata": {},
   "outputs": [
    {
     "name": "stdout",
     "output_type": "stream",
     "text": [
      "Результат:  {'2018-01-01': {'yandex': {'cpc': {100: {}}}}}\n"
     ]
    }
   ],
   "source": [
    "#Решение Задачи №5 \n",
    "\n",
    "#Решение исходя четко из условий задачи, а не исходя из примеров в условиях задачи, \n",
    "#вариант, как в примерах рассмотрен ниже\n",
    "\n",
    "my_list = ['2018-01-01', 'yandex', 'cpc', 100]\n",
    "my_list.reverse() #инвертируем список, поскольку в дальнейшем счетчик элементов засовывает их в словарь с конца списка  \n",
    "my_dict = {} #объявляем пустой словарь\n",
    "for key in my_list[0::]:#для всех элементов списка my_list\n",
    "    my_dict = {key: my_dict} #заносим элементы из списка в виде, где кажый элемент будет ключом, а значением вложенный словарь\n",
    "print('Результат: ', my_dict) "
   ]
  },
  {
   "cell_type": "code",
   "execution_count": 278,
   "metadata": {},
   "outputs": [
    {
     "name": "stdout",
     "output_type": "stream",
     "text": [
      "Результат:  {'2018-01-01': {'yandex': {'cpc': 100}}}\n"
     ]
    }
   ],
   "source": [
    "#Решение Задачи №5 \n",
    "\n",
    "#Решение исходя не из условий задачи, а исходя из примеров в условиях задачи, \n",
    "#где последний уровень вложений явлется не ключом, а значением ключа\n",
    "my_list = ['2018-01-01', 'yandex', 'cpc', 100]\n",
    "my_list.reverse()       #инвертируем список, поскольку в дальнейшем счетчик элементов засовывает их в словарь с конца списка  \n",
    "my_dict = {}            #объявляем пустой словарь\n",
    "\n",
    "#Поскольку в примере предпоследнее значение в списке является последним вложенным ключом, убираем последнее значение,\n",
    "#а так как счетчик запихивает все в словарь с конца списка, последний нужный является первым в списке, т.е., с индексом [0]. \n",
    "#Поэтому, убираем его из диапазона для счетчика, указав [1::] код ниже:\n",
    "\n",
    "for key in my_list[1::]:\n",
    "    my_dict = {key: my_dict} #заносим элементы из списка в виде, где кажый элемент будет ключом, а значением вложенный словарь\n",
    "    for source, data in my_dict.items(): #переходим непосредственно на уровень словаря и: \n",
    "        if source == my_list[1]: #если один из ключей идентичен указанному элементу из списка\n",
    "            my_dict[my_list[1]] = my_list[0] #ключ идентичный элементу списка my_list[1] получает значение элемента my_list[0]\n",
    "\n",
    "print('Результат: ', my_dict) #аллилуйя, все работает!"
   ]
  },
  {
   "cell_type": "code",
   "execution_count": 277,
   "metadata": {},
   "outputs": [
    {
     "name": "stdout",
     "output_type": "stream",
     "text": [
      "Введите количество персон: 9\n",
      "\n",
      "Результат:\n",
      "\n",
      "сыр: 450 гр\n",
      "томаты: 18 шт\n",
      "огурцы: 180 гр\n",
      "маслины: 90 гр\n",
      "оливковое масло: 180 мл\n",
      "салат: 90 гр\n",
      "перец: 180 гр\n",
      "\n",
      "сыр: 180 гр\n",
      "колбаса: 270 гр\n",
      "бекон: 270 гр\n",
      "оливки: 90 гр\n",
      "томаты: 180 гр\n",
      "тесто: 900 гр\n",
      "\n",
      "лимон: 9 шт\n",
      "вода: 1800 мл\n",
      "сахар: 90 гр\n",
      "лайм: 180 гр\n",
      "\n"
     ]
    }
   ],
   "source": [
    "#Решение Задачи №6 \n",
    "cook_book = {\n",
    "  'салат': [\n",
    "     {'ingridient_name': 'сыр', 'quantity': 50, 'measure': 'гр'},\n",
    "     {'ingridient_name': 'томаты', 'quantity': 2, 'measure': 'шт'},\n",
    "     {'ingridient_name': 'огурцы', 'quantity': 20, 'measure': 'гр'},\n",
    "     {'ingridient_name': 'маслины', 'quantity': 10, 'measure': 'гр'},\n",
    "     {'ingridient_name': 'оливковое масло', 'quantity': 20, 'measure': 'мл'},\n",
    "     {'ingridient_name': 'салат', 'quantity': 10, 'measure': 'гр'},\n",
    "     {'ingridient_name': 'перец', 'quantity': 20, 'measure': 'гр'}\n",
    "    ],\n",
    "  'пицца': [\n",
    "     {'ingridient_name': 'сыр', 'quantity': 20, 'measure': 'гр'},\n",
    "     {'ingridient_name': 'колбаса', 'quantity': 30, 'measure': 'гр'},\n",
    "     {'ingridient_name': 'бекон', 'quantity': 30, 'measure': 'гр'},\n",
    "     {'ingridient_name': 'оливки', 'quantity': 10, 'measure': 'гр'},\n",
    "     {'ingridient_name': 'томаты', 'quantity': 20, 'measure': 'гр'},\n",
    "     {'ingridient_name': 'тесто', 'quantity': 100, 'measure': 'гр'},   \n",
    "    ],\n",
    "  'лимонад': [\n",
    "     {'ingridient_name': 'лимон', 'quantity': 1, 'measure': 'шт'},\n",
    "     {'ingridient_name': 'вода', 'quantity': 200, 'measure': 'мл'},\n",
    "     {'ingridient_name': 'сахар', 'quantity': 10, 'measure': 'гр'},\n",
    "     {'ingridient_name': 'лайм', 'quantity': 20, 'measure': 'гр'},    \n",
    "    ]\n",
    "}\n",
    "person = int(input('Введите количество персон: '))      #вводим количество персон\n",
    "\n",
    "print('\\nРезультат:\\n')                                 #текст про результат\n",
    "for key, value in cook_book.items():                    #идем на уровень ключа и значенийм cook_book\n",
    "    for dishes in value:                                #идем на уровень ключей и в уровне значений cook_book\n",
    "        dishes['quantity'] = dishes['quantity']*person  #значения ключей 'quantity' умножаются на количество персон\n",
    "        a_list = list(dishes.values())                  #создаем список из всех значений dishes\n",
    "        \n",
    "#согласно примеру, нужно к названию ингридиента добавить \":\", что и делаем, определяя ингридент по a_list[0::3]\n",
    "# а дальше конкатентация с \":\" и опять вставляем другие элементы из dishes\n",
    "        print(''.join(str(i) for i in a_list[0::3]) + ':', ' '.join(str(i) for i in a_list[1::])) \n",
    "    \n",
    "    print('')"
   ]
  }
 ],
 "metadata": {
  "kernelspec": {
   "display_name": "Python 3",
   "language": "python",
   "name": "python3"
  },
  "language_info": {
   "codemirror_mode": {
    "name": "ipython",
    "version": 3
   },
   "file_extension": ".py",
   "mimetype": "text/x-python",
   "name": "python",
   "nbconvert_exporter": "python",
   "pygments_lexer": "ipython3",
   "version": "3.8.3"
  },
  "toc": {
   "base_numbering": 1,
   "nav_menu": {},
   "number_sections": true,
   "sideBar": true,
   "skip_h1_title": false,
   "title_cell": "Table of Contents",
   "title_sidebar": "Contents",
   "toc_cell": true,
   "toc_position": {},
   "toc_section_display": true,
   "toc_window_display": false
  }
 },
 "nbformat": 4,
 "nbformat_minor": 4
}
