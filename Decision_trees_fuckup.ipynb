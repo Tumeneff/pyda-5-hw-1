{
 "cells": [
  {
   "cell_type": "code",
   "execution_count": 85,
   "id": "f4981401",
   "metadata": {},
   "outputs": [],
   "source": []
  },
  {
   "cell_type": "markdown",
   "id": "0aea1ace",
   "metadata": {},
   "source": [
    "Задача:\n",
    "    \n",
    "    - построить модель регрессии, дерево решений, \n",
    "    - оптимизировать параметры и сравнить результаты."
   ]
  },
  {
   "cell_type": "markdown",
   "id": "e877d19c",
   "metadata": {},
   "source": [
    "Поскольку мы используем boston, то у него логичнее применять именно линейную регрессию."
   ]
  },
  {
   "cell_type": "code",
   "execution_count": 211,
   "id": "6a744973",
   "metadata": {},
   "outputs": [],
   "source": [
    "from sklearn.model_selection import train_test_split\n",
    "from sklearn.datasets import load_boston\n",
    "import pandas as pd\n",
    "from sklearn.linear_model import LinearRegression \n",
    "import numpy as np\n",
    "boston = load_boston()\n"
   ]
  },
  {
   "cell_type": "code",
   "execution_count": 208,
   "id": "8f4524e1",
   "metadata": {},
   "outputs": [],
   "source": [
    "X_boston = pd.DataFrame(boston.data, columns=boston.feature_names)\n",
    "y_boston = pd.DataFrame(boston.target, columns=['MEDV'])\n",
    "boston_df = pd.concat([X_boston,y_boston], axis=1)"
   ]
  },
  {
   "cell_type": "code",
   "execution_count": 209,
   "id": "bc3a4913",
   "metadata": {},
   "outputs": [],
   "source": [
    "X = boston_df[['LSTAT','RM', 'PTRATIO']]\n",
    "Y = boston_df['MEDV']"
   ]
  },
  {
   "cell_type": "code",
   "execution_count": 210,
   "id": "a8a44946",
   "metadata": {},
   "outputs": [
    {
     "data": {
      "text/plain": [
       "count    506.000000\n",
       "mean      22.532806\n",
       "std        9.197104\n",
       "min        5.000000\n",
       "25%       17.025000\n",
       "50%       21.200000\n",
       "75%       25.000000\n",
       "max       50.000000\n",
       "Name: MEDV, dtype: float64"
      ]
     },
     "execution_count": 210,
     "metadata": {},
     "output_type": "execute_result"
    }
   ],
   "source": [
    "Y.describe()"
   ]
  },
  {
   "cell_type": "code",
   "execution_count": 212,
   "id": "92330ea1",
   "metadata": {},
   "outputs": [],
   "source": [
    "def get_score(X,y, random_seed=42, model=None):\n",
    "  if model is None:\n",
    "    model = LinearRegression()\n",
    "  X_train, X_test, y_train, y_test = train_test_split(X, y, test_size=0.3, random_state=random_seed )  \n",
    "  model.fit(X_train, y_train)\n",
    "  return model.score(X_test, y_test)"
   ]
  },
  {
   "cell_type": "markdown",
   "id": "c08832e2",
   "metadata": {},
   "source": [
    "Сразу применяем Dummies для данных в Х"
   ]
  },
  {
   "cell_type": "code",
   "execution_count": 213,
   "id": "6a42114c",
   "metadata": {},
   "outputs": [],
   "source": [
    "def get_one_hot(X, cols):\n",
    "    for each in cols:\n",
    "        dummies = pd.get_dummies(X[each], prefix=each, drop_first=False)\n",
    "        X = pd.concat([X, dummies], axis=1)\n",
    "    return X"
   ]
  },
  {
   "cell_type": "code",
   "execution_count": 214,
   "id": "d2951241",
   "metadata": {},
   "outputs": [],
   "source": [
    "X_full = boston_df.drop(['MEDV'], axis=1)"
   ]
  },
  {
   "cell_type": "code",
   "execution_count": 215,
   "id": "cfd01486",
   "metadata": {},
   "outputs": [
    {
     "data": {
      "text/html": [
       "<div>\n",
       "<style scoped>\n",
       "    .dataframe tbody tr th:only-of-type {\n",
       "        vertical-align: middle;\n",
       "    }\n",
       "\n",
       "    .dataframe tbody tr th {\n",
       "        vertical-align: top;\n",
       "    }\n",
       "\n",
       "    .dataframe thead th {\n",
       "        text-align: right;\n",
       "    }\n",
       "</style>\n",
       "<table border=\"1\" class=\"dataframe\">\n",
       "  <thead>\n",
       "    <tr style=\"text-align: right;\">\n",
       "      <th></th>\n",
       "      <th>CRIM</th>\n",
       "      <th>ZN</th>\n",
       "      <th>INDUS</th>\n",
       "      <th>CHAS</th>\n",
       "      <th>NOX</th>\n",
       "      <th>RM</th>\n",
       "      <th>AGE</th>\n",
       "      <th>DIS</th>\n",
       "      <th>RAD</th>\n",
       "      <th>TAX</th>\n",
       "      <th>...</th>\n",
       "      <th>LSTAT_30.62</th>\n",
       "      <th>LSTAT_30.63</th>\n",
       "      <th>LSTAT_30.81</th>\n",
       "      <th>LSTAT_31.99</th>\n",
       "      <th>LSTAT_34.02</th>\n",
       "      <th>LSTAT_34.37</th>\n",
       "      <th>LSTAT_34.41</th>\n",
       "      <th>LSTAT_34.77</th>\n",
       "      <th>LSTAT_36.98</th>\n",
       "      <th>LSTAT_37.97</th>\n",
       "    </tr>\n",
       "  </thead>\n",
       "  <tbody>\n",
       "    <tr>\n",
       "      <th>0</th>\n",
       "      <td>0.00632</td>\n",
       "      <td>18.0</td>\n",
       "      <td>2.31</td>\n",
       "      <td>0.0</td>\n",
       "      <td>0.538</td>\n",
       "      <td>6.575</td>\n",
       "      <td>65.2</td>\n",
       "      <td>4.0900</td>\n",
       "      <td>1.0</td>\n",
       "      <td>296.0</td>\n",
       "      <td>...</td>\n",
       "      <td>0</td>\n",
       "      <td>0</td>\n",
       "      <td>0</td>\n",
       "      <td>0</td>\n",
       "      <td>0</td>\n",
       "      <td>0</td>\n",
       "      <td>0</td>\n",
       "      <td>0</td>\n",
       "      <td>0</td>\n",
       "      <td>0</td>\n",
       "    </tr>\n",
       "    <tr>\n",
       "      <th>1</th>\n",
       "      <td>0.02731</td>\n",
       "      <td>0.0</td>\n",
       "      <td>7.07</td>\n",
       "      <td>0.0</td>\n",
       "      <td>0.469</td>\n",
       "      <td>6.421</td>\n",
       "      <td>78.9</td>\n",
       "      <td>4.9671</td>\n",
       "      <td>2.0</td>\n",
       "      <td>242.0</td>\n",
       "      <td>...</td>\n",
       "      <td>0</td>\n",
       "      <td>0</td>\n",
       "      <td>0</td>\n",
       "      <td>0</td>\n",
       "      <td>0</td>\n",
       "      <td>0</td>\n",
       "      <td>0</td>\n",
       "      <td>0</td>\n",
       "      <td>0</td>\n",
       "      <td>0</td>\n",
       "    </tr>\n",
       "    <tr>\n",
       "      <th>2</th>\n",
       "      <td>0.02729</td>\n",
       "      <td>0.0</td>\n",
       "      <td>7.07</td>\n",
       "      <td>0.0</td>\n",
       "      <td>0.469</td>\n",
       "      <td>7.185</td>\n",
       "      <td>61.1</td>\n",
       "      <td>4.9671</td>\n",
       "      <td>2.0</td>\n",
       "      <td>242.0</td>\n",
       "      <td>...</td>\n",
       "      <td>0</td>\n",
       "      <td>0</td>\n",
       "      <td>0</td>\n",
       "      <td>0</td>\n",
       "      <td>0</td>\n",
       "      <td>0</td>\n",
       "      <td>0</td>\n",
       "      <td>0</td>\n",
       "      <td>0</td>\n",
       "      <td>0</td>\n",
       "    </tr>\n",
       "    <tr>\n",
       "      <th>3</th>\n",
       "      <td>0.03237</td>\n",
       "      <td>0.0</td>\n",
       "      <td>2.18</td>\n",
       "      <td>0.0</td>\n",
       "      <td>0.458</td>\n",
       "      <td>6.998</td>\n",
       "      <td>45.8</td>\n",
       "      <td>6.0622</td>\n",
       "      <td>3.0</td>\n",
       "      <td>222.0</td>\n",
       "      <td>...</td>\n",
       "      <td>0</td>\n",
       "      <td>0</td>\n",
       "      <td>0</td>\n",
       "      <td>0</td>\n",
       "      <td>0</td>\n",
       "      <td>0</td>\n",
       "      <td>0</td>\n",
       "      <td>0</td>\n",
       "      <td>0</td>\n",
       "      <td>0</td>\n",
       "    </tr>\n",
       "    <tr>\n",
       "      <th>4</th>\n",
       "      <td>0.06905</td>\n",
       "      <td>0.0</td>\n",
       "      <td>2.18</td>\n",
       "      <td>0.0</td>\n",
       "      <td>0.458</td>\n",
       "      <td>7.147</td>\n",
       "      <td>54.2</td>\n",
       "      <td>6.0622</td>\n",
       "      <td>3.0</td>\n",
       "      <td>222.0</td>\n",
       "      <td>...</td>\n",
       "      <td>0</td>\n",
       "      <td>0</td>\n",
       "      <td>0</td>\n",
       "      <td>0</td>\n",
       "      <td>0</td>\n",
       "      <td>0</td>\n",
       "      <td>0</td>\n",
       "      <td>0</td>\n",
       "      <td>0</td>\n",
       "      <td>0</td>\n",
       "    </tr>\n",
       "  </tbody>\n",
       "</table>\n",
       "<p>5 rows × 2849 columns</p>\n",
       "</div>"
      ],
      "text/plain": [
       "      CRIM    ZN  INDUS  CHAS    NOX     RM   AGE     DIS  RAD    TAX  ...  \\\n",
       "0  0.00632  18.0   2.31   0.0  0.538  6.575  65.2  4.0900  1.0  296.0  ...   \n",
       "1  0.02731   0.0   7.07   0.0  0.469  6.421  78.9  4.9671  2.0  242.0  ...   \n",
       "2  0.02729   0.0   7.07   0.0  0.469  7.185  61.1  4.9671  2.0  242.0  ...   \n",
       "3  0.03237   0.0   2.18   0.0  0.458  6.998  45.8  6.0622  3.0  222.0  ...   \n",
       "4  0.06905   0.0   2.18   0.0  0.458  7.147  54.2  6.0622  3.0  222.0  ...   \n",
       "\n",
       "   LSTAT_30.62  LSTAT_30.63  LSTAT_30.81  LSTAT_31.99  LSTAT_34.02  \\\n",
       "0            0            0            0            0            0   \n",
       "1            0            0            0            0            0   \n",
       "2            0            0            0            0            0   \n",
       "3            0            0            0            0            0   \n",
       "4            0            0            0            0            0   \n",
       "\n",
       "   LSTAT_34.37  LSTAT_34.41  LSTAT_34.77  LSTAT_36.98  LSTAT_37.97  \n",
       "0            0            0            0            0            0  \n",
       "1            0            0            0            0            0  \n",
       "2            0            0            0            0            0  \n",
       "3            0            0            0            0            0  \n",
       "4            0            0            0            0            0  \n",
       "\n",
       "[5 rows x 2849 columns]"
      ]
     },
     "execution_count": 215,
     "metadata": {},
     "output_type": "execute_result"
    }
   ],
   "source": [
    "X_hot = get_one_hot(X_full, X_full)\n",
    "X_hot.head()"
   ]
  },
  {
   "cell_type": "code",
   "execution_count": 216,
   "id": "706ffd29",
   "metadata": {},
   "outputs": [
    {
     "data": {
      "text/plain": [
       "0.791332762428727"
      ]
     },
     "execution_count": 216,
     "metadata": {},
     "output_type": "execute_result"
    }
   ],
   "source": [
    "get_score(X_hot,Y)"
   ]
  },
  {
   "cell_type": "markdown",
   "id": "3da143e3",
   "metadata": {},
   "source": [
    "Модель получилась очень неплохого качества"
   ]
  },
  {
   "cell_type": "markdown",
   "id": "e5e6f27f",
   "metadata": {},
   "source": [
    "А теперь попробуем с Decision Tree"
   ]
  },
  {
   "cell_type": "code",
   "execution_count": 217,
   "id": "283a6dbd",
   "metadata": {},
   "outputs": [],
   "source": [
    "from sklearn.tree import DecisionTreeClassifier\n",
    "from sklearn.preprocessing import LabelEncoder\n",
    "le = LabelEncoder()"
   ]
  },
  {
   "cell_type": "code",
   "execution_count": 206,
   "id": "a5593490",
   "metadata": {},
   "outputs": [],
   "source": [
    "clf = DecisionTreeClassifier(max_depth=10)"
   ]
  },
  {
   "cell_type": "markdown",
   "id": "4ae15ca5",
   "metadata": {},
   "source": [
    "Поскольку у нам нужна классификационная модель, а изначально в столбце MEDV идут разные значения, то я решил перевести данные в классы на основе перцентилей"
   ]
  },
  {
   "cell_type": "code",
   "execution_count": 218,
   "id": "2e22e96c",
   "metadata": {},
   "outputs": [],
   "source": [
    "Y_n = np.where((Y > 0 )&(Y <= 17.02), 1, Y)\n",
    "Y_n = np.where((Y > 17.02 )&(Y <=21.02), 2, Y)\n",
    "Y_n = np.where((Y > 17.02 )&(Y <= 21.2), 3, Y)\n",
    "Y_n = np.where((Y > 21.2 )&(Y <= 25), 4, Y)\n",
    "Y_n = np.where((Y > 25 )&(Y <= 50), 5, Y)"
   ]
  },
  {
   "cell_type": "code",
   "execution_count": 220,
   "id": "777b467a",
   "metadata": {},
   "outputs": [
    {
     "data": {
      "text/plain": [
       "0    137\n",
       "1    113\n",
       "2      0\n",
       "3      0\n",
       "4      0\n",
       "dtype: int64"
      ]
     },
     "execution_count": 220,
     "metadata": {},
     "output_type": "execute_result"
    }
   ],
   "source": [
    "le.fit(Y_n)\n",
    "Y_n = pd.Series(data = le.transform(Y_n))# делаем label encoding, ибо это у нас уже классификация.\n",
    "Y_n.head()"
   ]
  },
  {
   "cell_type": "markdown",
   "id": "fe3f3971",
   "metadata": {},
   "source": [
    "И вот тут какая-то очень странная история. Я понимаю, то я ошибся и Label Encoding здесь, по-хорошему, применяться не должен, но что тогда? Как разбить данные в Y на изначальные классы? Или оставить вообще только два класса?"
   ]
  },
  {
   "cell_type": "code",
   "execution_count": 221,
   "id": "48c4550b",
   "metadata": {},
   "outputs": [
    {
     "data": {
      "text/plain": [
       "DecisionTreeClassifier(max_depth=10)"
      ]
     },
     "execution_count": 221,
     "metadata": {},
     "output_type": "execute_result"
    }
   ],
   "source": [
    "clf.fit(X_hot, Y_n)"
   ]
  },
  {
   "cell_type": "code",
   "execution_count": 222,
   "id": "470c0097",
   "metadata": {},
   "outputs": [
    {
     "data": {
      "text/plain": [
       "array([137, 104,   0,   0,   0,   0,   0,   0, 128,   0,   0,   0,   0,\n",
       "       146,  80, 146, 128,  32,  80,  80,  32,  94,  32,  32,  32,  32,\n",
       "        32,  32,  94, 108,  32,  94,  32,  32,  32, 110,  98,  91, 110,\n",
       "         0,   0,   0,   0, 110, 110,  91,  98, 110,  92,  92, 110, 126,\n",
       "       146, 110, 104,   0, 104,   0, 119, 110,  69, 110, 119, 146,   0,\n",
       "       104,  92, 117,  92, 107, 145, 110, 145, 110, 138, 110, 110, 110,\n",
       "       110, 110,   0,   0, 145, 126, 110,   0, 110, 110, 133,   0, 110,\n",
       "       126, 126, 146, 104,   0, 110,   0,   0,   0,   0,   0, 110, 110,\n",
       "       110,  93,  93, 110, 110, 110, 110, 125, 110, 110, 110, 110, 110,\n",
       "       110, 110,  37, 110, 110, 110,  37, 110, 110,  58,  61, 110,  57,\n",
       "       110,  94,  80,  58,  57,  57, 110, 110,  37,  57, 110,  57,  38,\n",
       "        57,  57,  57,  57,  57,  57,  57,  94,  94,  80,  57,  57,  57,\n",
       "        57,   0, 140, 146,   0,   0,   0,   0,  80, 146,   0,  80,  80,\n",
       "        80,  57,  80, 128, 110,  37,   0, 110, 143,   0,   0,   0,   0,\n",
       "         0,   0,   0,   0,   0,   0,   0,   0,   0,   0,   0,   0,   0,\n",
       "         0,   0,   0,   0,   0,   0, 126,   0,   0,   0, 123, 141,  98,\n",
       "       141,  98, 114,  98,  98,   0,  98, 146, 110,   0, 110, 110,   0,\n",
       "       110,   0,   0,   0,   0,   0,   0,   0,   0, 110,   0,   0,   0,\n",
       "         0, 110,   0,   0, 134, 130, 117, 110, 110, 134,  69,  69, 110,\n",
       "       110, 110,   0, 145, 145,   0,   0, 104, 107,   0,   0,   0,   0,\n",
       "         0,   0,   0,   0,   0,  80,   0,   0,   0, 105,  98,   0, 141,\n",
       "         0,   0,   0,   0,   0,   0,   0,   0,   0,   0,   0,   0, 117,\n",
       "        99, 104, 120, 145,   0,   0,   0,   0,   0,   0,   0,  92, 104,\n",
       "         0, 145, 117,   0,   0,   0,   0,   0,   0, 125, 110,  94, 118,\n",
       "       110, 110, 135,  61, 110,  37, 110, 110, 110, 128, 110,  98, 146,\n",
       "       146, 146, 110,  91, 110, 110,  69, 126, 119, 119, 104,  37, 126,\n",
       "       104, 110, 110,   0, 126,   0,   0, 126, 110, 104, 142,   0, 104,\n",
       "       138, 110,   0,  69, 104,  32,  94,  80, 111, 146,  97,  80,  32,\n",
       "       116,   0,  94, 111,   0,   0,   0,   0,   0,  41,  41,  52,  42,\n",
       "        37,   0,   4,  17,   4,  32,  32,  12,   4,   0,   0,   4,  32,\n",
       "        32,  32,  32,  32,  32,  66,  32,  32,   0,  32,   0,   4,  32,\n",
       "         0,  12,   0,  26,   0,  32,   0,  80,  70,  12,  12,  12,   4,\n",
       "         6,  12,  12,   9,  66,  32, 111,  32,  32,   8,  32,  12,  32,\n",
       "        32,  32,  44,  80,  66,  32,  38,   8,   8,  32,  32,   0,  32,\n",
       "        32,  66,  32,  66,  32,  32,  44,  66,  38,  54,  32,  76,  51,\n",
       "        44,  32,  32,  32,  32,  63,  32, 111,  80, 111,  97,  32,  32,\n",
       "        89,  32,  32,  94,  66,   0,  32,  32,  66,   8,  32, 111,  80,\n",
       "       134, 146,  80, 104, 110,  32, 104, 128, 128, 128, 110, 110,  37,\n",
       "       110, 128,  58,  58, 110, 128, 110, 121, 104, 136, 117, 110],\n",
       "      dtype=int64)"
      ]
     },
     "execution_count": 222,
     "metadata": {},
     "output_type": "execute_result"
    }
   ],
   "source": [
    "clf.predict(X_hot)"
   ]
  },
  {
   "cell_type": "code",
   "execution_count": null,
   "id": "59c2ed88",
   "metadata": {},
   "outputs": [],
   "source": []
  },
  {
   "cell_type": "markdown",
   "id": "21cc8b75",
   "metadata": {},
   "source": [
    "Какое-то очень низкое качество модели. Что я сделал не так?"
   ]
  },
  {
   "cell_type": "markdown",
   "id": "415b1574",
   "metadata": {},
   "source": [
    "А еще возникли проблемы с визуализацией дерева. Все что я смог - это сделать текстовый вариант визуализации"
   ]
  },
  {
   "cell_type": "code",
   "execution_count": 224,
   "id": "73c8f91d",
   "metadata": {},
   "outputs": [
    {
     "name": "stdout",
     "output_type": "stream",
     "text": [
      "|--- feature_5 <= 6.55\n",
      "|   |--- feature_563 <= 0.50\n",
      "|   |   |--- feature_7 <= 1.34\n",
      "|   |   |   |--- feature_12 <= 17.74\n",
      "|   |   |   |   |--- class: 0\n",
      "|   |   |   |--- feature_12 >  17.74\n",
      "|   |   |   |   |--- feature_7 <= 1.18\n",
      "|   |   |   |   |   |--- class: 41\n",
      "|   |   |   |   |--- feature_7 >  1.18\n",
      "|   |   |   |   |   |--- feature_1982 <= 0.50\n",
      "|   |   |   |   |   |   |--- class: 26\n",
      "|   |   |   |   |   |--- feature_1982 >  0.50\n",
      "|   |   |   |   |   |   |--- class: 38\n",
      "|   |   |--- feature_7 >  1.34\n",
      "|   |   |   |--- feature_12 <= 7.19\n",
      "|   |   |   |   |--- feature_1918 <= 0.50\n",
      "|   |   |   |   |   |--- feature_1960 <= 0.50\n",
      "|   |   |   |   |   |   |--- feature_7 <= 4.20\n",
      "|   |   |   |   |   |   |   |--- feature_0 <= 0.07\n",
      "|   |   |   |   |   |   |   |   |--- feature_613 <= 0.50\n",
      "|   |   |   |   |   |   |   |   |   |--- class: 143\n",
      "|   |   |   |   |   |   |   |   |--- feature_613 >  0.50\n",
      "|   |   |   |   |   |   |   |   |   |--- class: 146\n",
      "|   |   |   |   |   |   |   |--- feature_0 >  0.07\n",
      "|   |   |   |   |   |   |   |   |--- feature_605 <= 0.50\n",
      "|   |   |   |   |   |   |   |   |   |--- feature_878 <= 0.50\n",
      "|   |   |   |   |   |   |   |   |   |   |--- class: 0\n",
      "|   |   |   |   |   |   |   |   |   |--- feature_878 >  0.50\n",
      "|   |   |   |   |   |   |   |   |   |   |--- class: 140\n",
      "|   |   |   |   |   |   |   |   |--- feature_605 >  0.50\n",
      "|   |   |   |   |   |   |   |   |   |--- class: 118\n",
      "|   |   |   |   |   |   |--- feature_7 >  4.20\n",
      "|   |   |   |   |   |   |   |--- feature_7 <= 4.63\n",
      "|   |   |   |   |   |   |   |   |--- feature_644 <= 0.50\n",
      "|   |   |   |   |   |   |   |   |   |--- class: 128\n",
      "|   |   |   |   |   |   |   |   |--- feature_644 >  0.50\n",
      "|   |   |   |   |   |   |   |   |   |--- class: 138\n",
      "|   |   |   |   |   |   |   |--- feature_7 >  4.63\n",
      "|   |   |   |   |   |   |   |   |--- feature_4 <= 0.44\n",
      "|   |   |   |   |   |   |   |   |   |--- feature_1 <= 32.50\n",
      "|   |   |   |   |   |   |   |   |   |   |--- class: 145\n",
      "|   |   |   |   |   |   |   |   |   |--- feature_1 >  32.50\n",
      "|   |   |   |   |   |   |   |   |   |   |--- class: 104\n",
      "|   |   |   |   |   |   |   |   |--- feature_4 >  0.44\n",
      "|   |   |   |   |   |   |   |   |   |--- feature_2 <= 5.41\n",
      "|   |   |   |   |   |   |   |   |   |   |--- class: 119\n",
      "|   |   |   |   |   |   |   |   |   |--- feature_2 >  5.41\n",
      "|   |   |   |   |   |   |   |   |   |   |--- class: 146\n",
      "|   |   |   |   |   |--- feature_1960 >  0.50\n",
      "|   |   |   |   |   |   |--- class: 134\n",
      "|   |   |   |   |--- feature_1918 >  0.50\n",
      "|   |   |   |   |   |--- class: 0\n",
      "|   |   |   |--- feature_12 >  7.19\n",
      "|   |   |   |   |--- feature_0 <= 0.54\n",
      "|   |   |   |   |   |--- feature_5 <= 5.87\n",
      "|   |   |   |   |   |   |--- feature_2032 <= 0.50\n",
      "|   |   |   |   |   |   |   |--- feature_4 <= 0.50\n",
      "|   |   |   |   |   |   |   |   |--- feature_7 <= 5.54\n",
      "|   |   |   |   |   |   |   |   |   |--- feature_12 <= 10.81\n",
      "|   |   |   |   |   |   |   |   |   |   |--- class: 91\n",
      "|   |   |   |   |   |   |   |   |   |--- feature_12 >  10.81\n",
      "|   |   |   |   |   |   |   |   |   |   |--- class: 98\n",
      "|   |   |   |   |   |   |   |   |--- feature_7 >  5.54\n",
      "|   |   |   |   |   |   |   |   |   |--- feature_11 <= 396.00\n",
      "|   |   |   |   |   |   |   |   |   |   |--- class: 69\n",
      "|   |   |   |   |   |   |   |   |   |--- feature_11 >  396.00\n",
      "|   |   |   |   |   |   |   |   |   |   |--- class: 92\n",
      "|   |   |   |   |   |   |   |--- feature_4 >  0.50\n",
      "|   |   |   |   |   |   |   |   |--- feature_0 <= 0.25\n",
      "|   |   |   |   |   |   |   |   |   |--- feature_5 <= 5.69\n",
      "|   |   |   |   |   |   |   |   |   |   |--- class: 128\n",
      "|   |   |   |   |   |   |   |   |   |--- feature_5 >  5.69\n",
      "|   |   |   |   |   |   |   |   |   |   |--- class: 37\n",
      "|   |   |   |   |   |   |   |   |--- feature_0 >  0.25\n",
      "|   |   |   |   |   |   |   |   |   |--- feature_0 <= 0.26\n",
      "|   |   |   |   |   |   |   |   |   |   |--- class: 61\n",
      "|   |   |   |   |   |   |   |   |   |--- feature_0 >  0.26\n",
      "|   |   |   |   |   |   |   |   |   |   |--- class: 58\n",
      "|   |   |   |   |   |   |--- feature_2032 >  0.50\n",
      "|   |   |   |   |   |   |   |--- class: 93\n",
      "|   |   |   |   |   |--- feature_5 >  5.87\n",
      "|   |   |   |   |   |   |--- feature_2021 <= 0.50\n",
      "|   |   |   |   |   |   |   |--- feature_4 <= 0.41\n",
      "|   |   |   |   |   |   |   |   |--- feature_12 <= 8.51\n",
      "|   |   |   |   |   |   |   |   |   |--- feature_6 <= 38.75\n",
      "|   |   |   |   |   |   |   |   |   |   |--- class: 117\n",
      "|   |   |   |   |   |   |   |   |   |--- feature_6 >  38.75\n",
      "|   |   |   |   |   |   |   |   |   |   |--- class: 120\n",
      "|   |   |   |   |   |   |   |   |--- feature_12 >  8.51\n",
      "|   |   |   |   |   |   |   |   |   |--- feature_1909 <= 0.50\n",
      "|   |   |   |   |   |   |   |   |   |   |--- class: 107\n",
      "|   |   |   |   |   |   |   |   |   |--- feature_1909 >  0.50\n",
      "|   |   |   |   |   |   |   |   |   |   |--- class: 99\n",
      "|   |   |   |   |   |   |   |--- feature_4 >  0.41\n",
      "|   |   |   |   |   |   |   |   |--- feature_0 <= 0.05\n",
      "|   |   |   |   |   |   |   |   |   |--- feature_11 <= 395.58\n",
      "|   |   |   |   |   |   |   |   |   |   |--- class: 126\n",
      "|   |   |   |   |   |   |   |   |   |--- feature_11 >  395.58\n",
      "|   |   |   |   |   |   |   |   |   |   |--- class: 104\n",
      "|   |   |   |   |   |   |   |   |--- feature_0 >  0.05\n",
      "|   |   |   |   |   |   |   |   |   |--- feature_10 <= 16.25\n",
      "|   |   |   |   |   |   |   |   |   |   |--- class: 0\n",
      "|   |   |   |   |   |   |   |   |   |--- feature_10 >  16.25\n",
      "|   |   |   |   |   |   |   |   |   |   |--- class: 110\n",
      "|   |   |   |   |   |   |--- feature_2021 >  0.50\n",
      "|   |   |   |   |   |   |   |--- feature_6 <= 47.45\n",
      "|   |   |   |   |   |   |   |   |--- feature_202 <= 0.50\n",
      "|   |   |   |   |   |   |   |   |   |--- feature_6 <= 37.35\n",
      "|   |   |   |   |   |   |   |   |   |   |--- class: 0\n",
      "|   |   |   |   |   |   |   |   |   |--- feature_6 >  37.35\n",
      "|   |   |   |   |   |   |   |   |   |   |--- class: 146\n",
      "|   |   |   |   |   |   |   |   |--- feature_202 >  0.50\n",
      "|   |   |   |   |   |   |   |   |   |--- class: 123\n",
      "|   |   |   |   |   |   |   |--- feature_6 >  47.45\n",
      "|   |   |   |   |   |   |   |   |--- feature_6 <= 60.30\n",
      "|   |   |   |   |   |   |   |   |   |--- class: 141\n",
      "|   |   |   |   |   |   |   |   |--- feature_6 >  60.30\n",
      "|   |   |   |   |   |   |   |   |   |--- feature_656 <= 0.50\n",
      "|   |   |   |   |   |   |   |   |   |   |--- class: 114\n",
      "|   |   |   |   |   |   |   |   |   |--- feature_656 >  0.50\n",
      "|   |   |   |   |   |   |   |   |   |   |--- class: 105\n",
      "|   |   |   |   |--- feature_0 >  0.54\n",
      "|   |   |   |   |   |--- feature_12 <= 14.27\n",
      "|   |   |   |   |   |   |--- feature_12 <= 14.12\n",
      "|   |   |   |   |   |   |   |--- feature_680 <= 0.50\n",
      "|   |   |   |   |   |   |   |   |--- feature_12 <= 12.20\n",
      "|   |   |   |   |   |   |   |   |   |--- feature_12 <= 9.96\n",
      "|   |   |   |   |   |   |   |   |   |   |--- class: 146\n",
      "|   |   |   |   |   |   |   |   |   |--- feature_12 >  9.96\n",
      "|   |   |   |   |   |   |   |   |   |   |--- class: 80\n",
      "|   |   |   |   |   |   |   |   |--- feature_12 >  12.20\n",
      "|   |   |   |   |   |   |   |   |   |--- feature_0 <= 4.15\n",
      "|   |   |   |   |   |   |   |   |   |   |--- class: 94\n",
      "|   |   |   |   |   |   |   |   |   |--- feature_0 >  4.15\n",
      "|   |   |   |   |   |   |   |   |   |   |--- class: 111\n",
      "|   |   |   |   |   |   |   |--- feature_680 >  0.50\n",
      "|   |   |   |   |   |   |   |   |--- feature_948 <= 0.50\n",
      "|   |   |   |   |   |   |   |   |   |--- class: 104\n",
      "|   |   |   |   |   |   |   |   |--- feature_948 >  0.50\n",
      "|   |   |   |   |   |   |   |   |   |--- class: 110\n",
      "|   |   |   |   |   |   |--- feature_12 >  14.12\n",
      "|   |   |   |   |   |   |   |--- class: 97\n",
      "|   |   |   |   |   |--- feature_12 >  14.27\n",
      "|   |   |   |   |   |   |--- feature_2755 <= 0.50\n",
      "|   |   |   |   |   |   |   |--- feature_0 <= 14.07\n",
      "|   |   |   |   |   |   |   |   |--- feature_2 <= 18.84\n",
      "|   |   |   |   |   |   |   |   |   |--- feature_5 <= 6.41\n",
      "|   |   |   |   |   |   |   |   |   |   |--- class: 32\n",
      "|   |   |   |   |   |   |   |   |   |--- feature_5 >  6.41\n",
      "|   |   |   |   |   |   |   |   |   |   |--- class: 66\n",
      "|   |   |   |   |   |   |   |   |--- feature_2 >  18.84\n",
      "|   |   |   |   |   |   |   |   |   |--- feature_0 <= 3.16\n",
      "|   |   |   |   |   |   |   |   |   |   |--- class: 57\n",
      "|   |   |   |   |   |   |   |   |   |--- feature_0 >  3.16\n",
      "|   |   |   |   |   |   |   |   |   |   |--- class: 57\n",
      "|   |   |   |   |   |   |   |--- feature_0 >  14.07\n",
      "|   |   |   |   |   |   |   |   |--- feature_0 <= 18.45\n",
      "|   |   |   |   |   |   |   |   |   |--- feature_7 <= 1.87\n",
      "|   |   |   |   |   |   |   |   |   |   |--- class: 4\n",
      "|   |   |   |   |   |   |   |   |   |--- feature_7 >  1.87\n",
      "|   |   |   |   |   |   |   |   |   |   |--- class: 8\n",
      "|   |   |   |   |   |   |   |   |--- feature_0 >  18.45\n",
      "|   |   |   |   |   |   |   |   |   |--- feature_11 <= 357.21\n",
      "|   |   |   |   |   |   |   |   |   |   |--- class: 12\n",
      "|   |   |   |   |   |   |   |   |   |--- feature_11 >  357.21\n",
      "|   |   |   |   |   |   |   |   |   |   |--- class: 0\n",
      "|   |   |   |   |   |   |--- feature_2755 >  0.50\n",
      "|   |   |   |   |   |   |   |--- feature_697 <= 0.50\n",
      "|   |   |   |   |   |   |   |   |--- class: 89\n",
      "|   |   |   |   |   |   |   |--- feature_697 >  0.50\n",
      "|   |   |   |   |   |   |   |   |--- class: 44\n",
      "|   |--- feature_563 >  0.50\n",
      "|   |   |--- class: 0\n",
      "|--- feature_5 >  6.55\n",
      "|   |--- feature_10 <= 19.45\n",
      "|   |   |--- feature_1921 <= 0.50\n",
      "|   |   |   |--- feature_673 <= 0.50\n",
      "|   |   |   |   |--- feature_1320 <= 0.50\n",
      "|   |   |   |   |   |--- feature_1024 <= 0.50\n",
      "|   |   |   |   |   |   |--- feature_2475 <= 0.50\n",
      "|   |   |   |   |   |   |   |--- feature_1762 <= 0.50\n",
      "|   |   |   |   |   |   |   |   |--- feature_643 <= 0.50\n",
      "|   |   |   |   |   |   |   |   |   |--- feature_552 <= 0.50\n",
      "|   |   |   |   |   |   |   |   |   |   |--- class: 0\n",
      "|   |   |   |   |   |   |   |   |   |--- feature_552 >  0.50\n",
      "|   |   |   |   |   |   |   |   |   |   |--- class: 138\n",
      "|   |   |   |   |   |   |   |   |--- feature_643 >  0.50\n",
      "|   |   |   |   |   |   |   |   |   |--- class: 142\n",
      "|   |   |   |   |   |   |   |--- feature_1762 >  0.50\n",
      "|   |   |   |   |   |   |   |   |--- class: 133\n",
      "|   |   |   |   |   |   |--- feature_2475 >  0.50\n",
      "|   |   |   |   |   |   |   |--- class: 145\n",
      "|   |   |   |   |   |--- feature_1024 >  0.50\n",
      "|   |   |   |   |   |   |--- class: 117\n",
      "|   |   |   |   |--- feature_1320 >  0.50\n",
      "|   |   |   |   |   |--- class: 137\n",
      "|   |   |   |--- feature_673 >  0.50\n",
      "|   |   |   |   |--- feature_1769 <= 0.50\n",
      "|   |   |   |   |   |--- class: 125\n",
      "|   |   |   |   |--- feature_1769 >  0.50\n",
      "|   |   |   |   |   |--- class: 135\n",
      "|   |   |--- feature_1921 >  0.50\n",
      "|   |   |   |--- feature_2014 <= 0.50\n",
      "|   |   |   |   |--- feature_1 <= 41.25\n",
      "|   |   |   |   |   |--- feature_1075 <= 0.50\n",
      "|   |   |   |   |   |   |--- class: 130\n",
      "|   |   |   |   |   |--- feature_1075 >  0.50\n",
      "|   |   |   |   |   |   |--- class: 117\n",
      "|   |   |   |   |--- feature_1 >  41.25\n",
      "|   |   |   |   |   |--- class: 145\n",
      "|   |   |   |--- feature_2014 >  0.50\n",
      "|   |   |   |   |--- class: 125\n",
      "|   |--- feature_10 >  19.45\n",
      "|   |   |--- feature_4 <= 0.65\n",
      "|   |   |   |--- feature_9 <= 321.00\n",
      "|   |   |   |   |--- feature_1059 <= 0.50\n",
      "|   |   |   |   |   |--- feature_676 <= 0.50\n",
      "|   |   |   |   |   |   |--- feature_1 <= 12.50\n",
      "|   |   |   |   |   |   |   |--- class: 108\n",
      "|   |   |   |   |   |   |--- feature_1 >  12.50\n",
      "|   |   |   |   |   |   |   |--- class: 146\n",
      "|   |   |   |   |   |--- feature_676 >  0.50\n",
      "|   |   |   |   |   |   |--- feature_112 <= 0.50\n",
      "|   |   |   |   |   |   |   |--- class: 136\n",
      "|   |   |   |   |   |   |--- feature_112 >  0.50\n",
      "|   |   |   |   |   |   |   |--- class: 121\n",
      "|   |   |   |   |--- feature_1059 >  0.50\n",
      "|   |   |   |   |   |--- class: 117\n",
      "|   |   |   |--- feature_9 >  321.00\n",
      "|   |   |   |   |--- feature_671 <= 0.50\n",
      "|   |   |   |   |   |--- feature_11 <= 130.35\n",
      "|   |   |   |   |   |   |--- feature_1065 <= 0.50\n",
      "|   |   |   |   |   |   |   |--- class: 70\n",
      "|   |   |   |   |   |   |--- feature_1065 >  0.50\n",
      "|   |   |   |   |   |   |   |--- class: 44\n",
      "|   |   |   |   |   |--- feature_11 >  130.35\n",
      "|   |   |   |   |   |   |--- class: 0\n",
      "|   |   |   |   |--- feature_671 >  0.50\n",
      "|   |   |   |   |   |--- feature_1053 <= 0.50\n",
      "|   |   |   |   |   |   |--- class: 146\n",
      "|   |   |   |   |   |--- feature_1053 >  0.50\n",
      "|   |   |   |   |   |   |--- class: 134\n",
      "|   |   |--- feature_4 >  0.65\n",
      "|   |   |   |--- feature_11 <= 182.54\n",
      "|   |   |   |   |--- feature_5 <= 6.77\n",
      "|   |   |   |   |   |--- feature_1460 <= 0.50\n",
      "|   |   |   |   |   |   |--- class: 38\n",
      "|   |   |   |   |   |--- feature_1460 >  0.50\n",
      "|   |   |   |   |   |   |--- class: 51\n",
      "|   |   |   |   |--- feature_5 >  6.77\n",
      "|   |   |   |   |   |--- feature_12 <= 24.27\n",
      "|   |   |   |   |   |   |--- class: 9\n",
      "|   |   |   |   |   |--- feature_12 >  24.27\n",
      "|   |   |   |   |   |   |--- class: 6\n",
      "|   |   |   |--- feature_11 >  182.54\n",
      "|   |   |   |   |--- feature_4 <= 0.69\n",
      "|   |   |   |   |   |--- feature_5 <= 6.72\n",
      "|   |   |   |   |   |   |--- class: 42\n",
      "|   |   |   |   |   |--- feature_5 >  6.72\n",
      "|   |   |   |   |   |   |--- feature_1445 <= 0.50\n",
      "|   |   |   |   |   |   |   |--- feature_1511 <= 0.50\n",
      "|   |   |   |   |   |   |   |   |--- class: 37\n",
      "|   |   |   |   |   |   |   |--- feature_1511 >  0.50\n",
      "|   |   |   |   |   |   |   |   |--- class: 52\n",
      "|   |   |   |   |   |   |--- feature_1445 >  0.50\n",
      "|   |   |   |   |   |   |   |--- class: 17\n",
      "|   |   |   |   |--- feature_4 >  0.69\n",
      "|   |   |   |   |   |--- feature_1115 <= 0.50\n",
      "|   |   |   |   |   |   |--- feature_620 <= 0.50\n",
      "|   |   |   |   |   |   |   |--- feature_1494 <= 0.50\n",
      "|   |   |   |   |   |   |   |   |--- class: 63\n",
      "|   |   |   |   |   |   |   |--- feature_1494 >  0.50\n",
      "|   |   |   |   |   |   |   |   |--- class: 54\n",
      "|   |   |   |   |   |   |--- feature_620 >  0.50\n",
      "|   |   |   |   |   |   |   |--- class: 116\n",
      "|   |   |   |   |   |--- feature_1115 >  0.50\n",
      "|   |   |   |   |   |   |--- class: 76\n",
      "\n"
     ]
    }
   ],
   "source": [
    "text_representation = tree.export_text(clf)\n",
    "print(text_representation)\n"
   ]
  },
  {
   "cell_type": "code",
   "execution_count": 225,
   "id": "f0bea91a",
   "metadata": {},
   "outputs": [],
   "source": [
    "from matplotlib import pyplot as plt\n",
    "%matplotlib inline\n",
    "import seaborn as sns"
   ]
  },
  {
   "cell_type": "code",
   "execution_count": 226,
   "id": "065cf0f1",
   "metadata": {},
   "outputs": [
    {
     "ename": "KeyError",
     "evalue": "5",
     "output_type": "error",
     "traceback": [
      "\u001b[1;31m---------------------------------------------------------------------------\u001b[0m",
      "\u001b[1;31mKeyError\u001b[0m                                  Traceback (most recent call last)",
      "\u001b[1;32mC:\\ProgramData\\Anaconda3\\lib\\site-packages\\pandas\\core\\indexes\\base.py\u001b[0m in \u001b[0;36mget_loc\u001b[1;34m(self, key, method, tolerance)\u001b[0m\n\u001b[0;32m   3079\u001b[0m             \u001b[1;32mtry\u001b[0m\u001b[1;33m:\u001b[0m\u001b[1;33m\u001b[0m\u001b[1;33m\u001b[0m\u001b[0m\n\u001b[1;32m-> 3080\u001b[1;33m                 \u001b[1;32mreturn\u001b[0m \u001b[0mself\u001b[0m\u001b[1;33m.\u001b[0m\u001b[0m_engine\u001b[0m\u001b[1;33m.\u001b[0m\u001b[0mget_loc\u001b[0m\u001b[1;33m(\u001b[0m\u001b[0mcasted_key\u001b[0m\u001b[1;33m)\u001b[0m\u001b[1;33m\u001b[0m\u001b[1;33m\u001b[0m\u001b[0m\n\u001b[0m\u001b[0;32m   3081\u001b[0m             \u001b[1;32mexcept\u001b[0m \u001b[0mKeyError\u001b[0m \u001b[1;32mas\u001b[0m \u001b[0merr\u001b[0m\u001b[1;33m:\u001b[0m\u001b[1;33m\u001b[0m\u001b[1;33m\u001b[0m\u001b[0m\n",
      "\u001b[1;32mpandas\\_libs\\index.pyx\u001b[0m in \u001b[0;36mpandas._libs.index.IndexEngine.get_loc\u001b[1;34m()\u001b[0m\n",
      "\u001b[1;32mpandas\\_libs\\index.pyx\u001b[0m in \u001b[0;36mpandas._libs.index.IndexEngine.get_loc\u001b[1;34m()\u001b[0m\n",
      "\u001b[1;32mpandas\\_libs\\hashtable_class_helper.pxi\u001b[0m in \u001b[0;36mpandas._libs.hashtable.PyObjectHashTable.get_item\u001b[1;34m()\u001b[0m\n",
      "\u001b[1;32mpandas\\_libs\\hashtable_class_helper.pxi\u001b[0m in \u001b[0;36mpandas._libs.hashtable.PyObjectHashTable.get_item\u001b[1;34m()\u001b[0m\n",
      "\u001b[1;31mKeyError\u001b[0m: 5",
      "\nThe above exception was the direct cause of the following exception:\n",
      "\u001b[1;31mKeyError\u001b[0m                                  Traceback (most recent call last)",
      "\u001b[1;32m<ipython-input-226-b4a40de370d6>\u001b[0m in \u001b[0;36m<module>\u001b[1;34m\u001b[0m\n\u001b[0;32m      6\u001b[0m \u001b[1;33m\u001b[0m\u001b[0m\n\u001b[0;32m      7\u001b[0m \u001b[0mfig\u001b[0m \u001b[1;33m=\u001b[0m \u001b[0mplt\u001b[0m\u001b[1;33m.\u001b[0m\u001b[0mfigure\u001b[0m\u001b[1;33m(\u001b[0m\u001b[0mfigsize\u001b[0m\u001b[1;33m=\u001b[0m\u001b[1;33m(\u001b[0m\u001b[1;36m25\u001b[0m\u001b[1;33m,\u001b[0m\u001b[1;36m20\u001b[0m\u001b[1;33m)\u001b[0m\u001b[1;33m)\u001b[0m\u001b[1;33m\u001b[0m\u001b[1;33m\u001b[0m\u001b[0m\n\u001b[1;32m----> 8\u001b[1;33m _ = tree.plot_tree(clf, \n\u001b[0m\u001b[0;32m      9\u001b[0m                    \u001b[0mfeature_names\u001b[0m\u001b[1;33m=\u001b[0m\u001b[0mX_hot\u001b[0m\u001b[1;33m,\u001b[0m\u001b[1;33m\u001b[0m\u001b[1;33m\u001b[0m\u001b[0m\n\u001b[0;32m     10\u001b[0m                    \u001b[0mclass_names\u001b[0m\u001b[1;33m=\u001b[0m\u001b[0mY\u001b[0m\u001b[1;33m,\u001b[0m\u001b[1;33m\u001b[0m\u001b[1;33m\u001b[0m\u001b[0m\n",
      "\u001b[1;32mC:\\ProgramData\\Anaconda3\\lib\\site-packages\\sklearn\\utils\\validation.py\u001b[0m in \u001b[0;36minner_f\u001b[1;34m(*args, **kwargs)\u001b[0m\n\u001b[0;32m     61\u001b[0m             \u001b[0mextra_args\u001b[0m \u001b[1;33m=\u001b[0m \u001b[0mlen\u001b[0m\u001b[1;33m(\u001b[0m\u001b[0margs\u001b[0m\u001b[1;33m)\u001b[0m \u001b[1;33m-\u001b[0m \u001b[0mlen\u001b[0m\u001b[1;33m(\u001b[0m\u001b[0mall_args\u001b[0m\u001b[1;33m)\u001b[0m\u001b[1;33m\u001b[0m\u001b[1;33m\u001b[0m\u001b[0m\n\u001b[0;32m     62\u001b[0m             \u001b[1;32mif\u001b[0m \u001b[0mextra_args\u001b[0m \u001b[1;33m<=\u001b[0m \u001b[1;36m0\u001b[0m\u001b[1;33m:\u001b[0m\u001b[1;33m\u001b[0m\u001b[1;33m\u001b[0m\u001b[0m\n\u001b[1;32m---> 63\u001b[1;33m                 \u001b[1;32mreturn\u001b[0m \u001b[0mf\u001b[0m\u001b[1;33m(\u001b[0m\u001b[1;33m*\u001b[0m\u001b[0margs\u001b[0m\u001b[1;33m,\u001b[0m \u001b[1;33m**\u001b[0m\u001b[0mkwargs\u001b[0m\u001b[1;33m)\u001b[0m\u001b[1;33m\u001b[0m\u001b[1;33m\u001b[0m\u001b[0m\n\u001b[0m\u001b[0;32m     64\u001b[0m \u001b[1;33m\u001b[0m\u001b[0m\n\u001b[0;32m     65\u001b[0m             \u001b[1;31m# extra_args > 0\u001b[0m\u001b[1;33m\u001b[0m\u001b[1;33m\u001b[0m\u001b[1;33m\u001b[0m\u001b[0m\n",
      "\u001b[1;32mC:\\ProgramData\\Anaconda3\\lib\\site-packages\\sklearn\\tree\\_export.py\u001b[0m in \u001b[0;36mplot_tree\u001b[1;34m(decision_tree, max_depth, feature_names, class_names, label, filled, impurity, node_ids, proportion, rotate, rounded, precision, ax, fontsize)\u001b[0m\n\u001b[0;32m    192\u001b[0m         \u001b[0mproportion\u001b[0m\u001b[1;33m=\u001b[0m\u001b[0mproportion\u001b[0m\u001b[1;33m,\u001b[0m \u001b[0mrotate\u001b[0m\u001b[1;33m=\u001b[0m\u001b[0mrotate\u001b[0m\u001b[1;33m,\u001b[0m \u001b[0mrounded\u001b[0m\u001b[1;33m=\u001b[0m\u001b[0mrounded\u001b[0m\u001b[1;33m,\u001b[0m\u001b[1;33m\u001b[0m\u001b[1;33m\u001b[0m\u001b[0m\n\u001b[0;32m    193\u001b[0m         precision=precision, fontsize=fontsize)\n\u001b[1;32m--> 194\u001b[1;33m     \u001b[1;32mreturn\u001b[0m \u001b[0mexporter\u001b[0m\u001b[1;33m.\u001b[0m\u001b[0mexport\u001b[0m\u001b[1;33m(\u001b[0m\u001b[0mdecision_tree\u001b[0m\u001b[1;33m,\u001b[0m \u001b[0max\u001b[0m\u001b[1;33m=\u001b[0m\u001b[0max\u001b[0m\u001b[1;33m)\u001b[0m\u001b[1;33m\u001b[0m\u001b[1;33m\u001b[0m\u001b[0m\n\u001b[0m\u001b[0;32m    195\u001b[0m \u001b[1;33m\u001b[0m\u001b[0m\n\u001b[0;32m    196\u001b[0m \u001b[1;33m\u001b[0m\u001b[0m\n",
      "\u001b[1;32mC:\\ProgramData\\Anaconda3\\lib\\site-packages\\sklearn\\tree\\_export.py\u001b[0m in \u001b[0;36mexport\u001b[1;34m(self, decision_tree, ax)\u001b[0m\n\u001b[0;32m    582\u001b[0m         \u001b[0max\u001b[0m\u001b[1;33m.\u001b[0m\u001b[0mclear\u001b[0m\u001b[1;33m(\u001b[0m\u001b[1;33m)\u001b[0m\u001b[1;33m\u001b[0m\u001b[1;33m\u001b[0m\u001b[0m\n\u001b[0;32m    583\u001b[0m         \u001b[0max\u001b[0m\u001b[1;33m.\u001b[0m\u001b[0mset_axis_off\u001b[0m\u001b[1;33m(\u001b[0m\u001b[1;33m)\u001b[0m\u001b[1;33m\u001b[0m\u001b[1;33m\u001b[0m\u001b[0m\n\u001b[1;32m--> 584\u001b[1;33m         my_tree = self._make_tree(0, decision_tree.tree_,\n\u001b[0m\u001b[0;32m    585\u001b[0m                                   decision_tree.criterion)\n\u001b[0;32m    586\u001b[0m         \u001b[0mdraw_tree\u001b[0m \u001b[1;33m=\u001b[0m \u001b[0mbuchheim\u001b[0m\u001b[1;33m(\u001b[0m\u001b[0mmy_tree\u001b[0m\u001b[1;33m)\u001b[0m\u001b[1;33m\u001b[0m\u001b[1;33m\u001b[0m\u001b[0m\n",
      "\u001b[1;32mC:\\ProgramData\\Anaconda3\\lib\\site-packages\\sklearn\\tree\\_export.py\u001b[0m in \u001b[0;36m_make_tree\u001b[1;34m(self, node_id, et, criterion, depth)\u001b[0m\n\u001b[0;32m    563\u001b[0m         \u001b[1;31m# traverses _tree.Tree recursively, builds intermediate\u001b[0m\u001b[1;33m\u001b[0m\u001b[1;33m\u001b[0m\u001b[1;33m\u001b[0m\u001b[0m\n\u001b[0;32m    564\u001b[0m         \u001b[1;31m# \"_reingold_tilford.Tree\" object\u001b[0m\u001b[1;33m\u001b[0m\u001b[1;33m\u001b[0m\u001b[1;33m\u001b[0m\u001b[0m\n\u001b[1;32m--> 565\u001b[1;33m         \u001b[0mname\u001b[0m \u001b[1;33m=\u001b[0m \u001b[0mself\u001b[0m\u001b[1;33m.\u001b[0m\u001b[0mnode_to_str\u001b[0m\u001b[1;33m(\u001b[0m\u001b[0met\u001b[0m\u001b[1;33m,\u001b[0m \u001b[0mnode_id\u001b[0m\u001b[1;33m,\u001b[0m \u001b[0mcriterion\u001b[0m\u001b[1;33m=\u001b[0m\u001b[0mcriterion\u001b[0m\u001b[1;33m)\u001b[0m\u001b[1;33m\u001b[0m\u001b[1;33m\u001b[0m\u001b[0m\n\u001b[0m\u001b[0;32m    566\u001b[0m         if (et.children_left[node_id] != _tree.TREE_LEAF\n\u001b[0;32m    567\u001b[0m                 and (self.max_depth is None or depth <= self.max_depth)):\n",
      "\u001b[1;32mC:\\ProgramData\\Anaconda3\\lib\\site-packages\\sklearn\\tree\\_export.py\u001b[0m in \u001b[0;36mnode_to_str\u001b[1;34m(self, tree, node_id, criterion)\u001b[0m\n\u001b[0;32m    285\u001b[0m             \u001b[1;31m# Always write node decision criteria, except for leaves\u001b[0m\u001b[1;33m\u001b[0m\u001b[1;33m\u001b[0m\u001b[1;33m\u001b[0m\u001b[0m\n\u001b[0;32m    286\u001b[0m             \u001b[1;32mif\u001b[0m \u001b[0mself\u001b[0m\u001b[1;33m.\u001b[0m\u001b[0mfeature_names\u001b[0m \u001b[1;32mis\u001b[0m \u001b[1;32mnot\u001b[0m \u001b[1;32mNone\u001b[0m\u001b[1;33m:\u001b[0m\u001b[1;33m\u001b[0m\u001b[1;33m\u001b[0m\u001b[0m\n\u001b[1;32m--> 287\u001b[1;33m                 \u001b[0mfeature\u001b[0m \u001b[1;33m=\u001b[0m \u001b[0mself\u001b[0m\u001b[1;33m.\u001b[0m\u001b[0mfeature_names\u001b[0m\u001b[1;33m[\u001b[0m\u001b[0mtree\u001b[0m\u001b[1;33m.\u001b[0m\u001b[0mfeature\u001b[0m\u001b[1;33m[\u001b[0m\u001b[0mnode_id\u001b[0m\u001b[1;33m]\u001b[0m\u001b[1;33m]\u001b[0m\u001b[1;33m\u001b[0m\u001b[1;33m\u001b[0m\u001b[0m\n\u001b[0m\u001b[0;32m    288\u001b[0m             \u001b[1;32melse\u001b[0m\u001b[1;33m:\u001b[0m\u001b[1;33m\u001b[0m\u001b[1;33m\u001b[0m\u001b[0m\n\u001b[0;32m    289\u001b[0m                 feature = \"X%s%s%s\" % (characters[1],\n",
      "\u001b[1;32mC:\\ProgramData\\Anaconda3\\lib\\site-packages\\pandas\\core\\frame.py\u001b[0m in \u001b[0;36m__getitem__\u001b[1;34m(self, key)\u001b[0m\n\u001b[0;32m   3022\u001b[0m             \u001b[1;32mif\u001b[0m \u001b[0mself\u001b[0m\u001b[1;33m.\u001b[0m\u001b[0mcolumns\u001b[0m\u001b[1;33m.\u001b[0m\u001b[0mnlevels\u001b[0m \u001b[1;33m>\u001b[0m \u001b[1;36m1\u001b[0m\u001b[1;33m:\u001b[0m\u001b[1;33m\u001b[0m\u001b[1;33m\u001b[0m\u001b[0m\n\u001b[0;32m   3023\u001b[0m                 \u001b[1;32mreturn\u001b[0m \u001b[0mself\u001b[0m\u001b[1;33m.\u001b[0m\u001b[0m_getitem_multilevel\u001b[0m\u001b[1;33m(\u001b[0m\u001b[0mkey\u001b[0m\u001b[1;33m)\u001b[0m\u001b[1;33m\u001b[0m\u001b[1;33m\u001b[0m\u001b[0m\n\u001b[1;32m-> 3024\u001b[1;33m             \u001b[0mindexer\u001b[0m \u001b[1;33m=\u001b[0m \u001b[0mself\u001b[0m\u001b[1;33m.\u001b[0m\u001b[0mcolumns\u001b[0m\u001b[1;33m.\u001b[0m\u001b[0mget_loc\u001b[0m\u001b[1;33m(\u001b[0m\u001b[0mkey\u001b[0m\u001b[1;33m)\u001b[0m\u001b[1;33m\u001b[0m\u001b[1;33m\u001b[0m\u001b[0m\n\u001b[0m\u001b[0;32m   3025\u001b[0m             \u001b[1;32mif\u001b[0m \u001b[0mis_integer\u001b[0m\u001b[1;33m(\u001b[0m\u001b[0mindexer\u001b[0m\u001b[1;33m)\u001b[0m\u001b[1;33m:\u001b[0m\u001b[1;33m\u001b[0m\u001b[1;33m\u001b[0m\u001b[0m\n\u001b[0;32m   3026\u001b[0m                 \u001b[0mindexer\u001b[0m \u001b[1;33m=\u001b[0m \u001b[1;33m[\u001b[0m\u001b[0mindexer\u001b[0m\u001b[1;33m]\u001b[0m\u001b[1;33m\u001b[0m\u001b[1;33m\u001b[0m\u001b[0m\n",
      "\u001b[1;32mC:\\ProgramData\\Anaconda3\\lib\\site-packages\\pandas\\core\\indexes\\base.py\u001b[0m in \u001b[0;36mget_loc\u001b[1;34m(self, key, method, tolerance)\u001b[0m\n\u001b[0;32m   3080\u001b[0m                 \u001b[1;32mreturn\u001b[0m \u001b[0mself\u001b[0m\u001b[1;33m.\u001b[0m\u001b[0m_engine\u001b[0m\u001b[1;33m.\u001b[0m\u001b[0mget_loc\u001b[0m\u001b[1;33m(\u001b[0m\u001b[0mcasted_key\u001b[0m\u001b[1;33m)\u001b[0m\u001b[1;33m\u001b[0m\u001b[1;33m\u001b[0m\u001b[0m\n\u001b[0;32m   3081\u001b[0m             \u001b[1;32mexcept\u001b[0m \u001b[0mKeyError\u001b[0m \u001b[1;32mas\u001b[0m \u001b[0merr\u001b[0m\u001b[1;33m:\u001b[0m\u001b[1;33m\u001b[0m\u001b[1;33m\u001b[0m\u001b[0m\n\u001b[1;32m-> 3082\u001b[1;33m                 \u001b[1;32mraise\u001b[0m \u001b[0mKeyError\u001b[0m\u001b[1;33m(\u001b[0m\u001b[0mkey\u001b[0m\u001b[1;33m)\u001b[0m \u001b[1;32mfrom\u001b[0m \u001b[0merr\u001b[0m\u001b[1;33m\u001b[0m\u001b[1;33m\u001b[0m\u001b[0m\n\u001b[0m\u001b[0;32m   3083\u001b[0m \u001b[1;33m\u001b[0m\u001b[0m\n\u001b[0;32m   3084\u001b[0m         \u001b[1;32mif\u001b[0m \u001b[0mtolerance\u001b[0m \u001b[1;32mis\u001b[0m \u001b[1;32mnot\u001b[0m \u001b[1;32mNone\u001b[0m\u001b[1;33m:\u001b[0m\u001b[1;33m\u001b[0m\u001b[1;33m\u001b[0m\u001b[0m\n",
      "\u001b[1;31mKeyError\u001b[0m: 5"
     ]
    },
    {
     "data": {
      "image/png": "[encoded data removed]",
      "text/plain": [
       "<Figure size 1800x1440 with 1 Axes>"
      ]
     },
     "metadata": {
      "needs_background": "light"
     },
     "output_type": "display_data"
    }
   ],
   "source": [
    "from six import StringIO  \n",
    "from IPython.display import Image  \n",
    "from sklearn.tree import export_graphviz\n",
    "import pydotplus\n",
    "from sklearn import tree\n",
    "\n",
    "fig = plt.figure(figsize=(25,20))\n",
    "_ = tree.plot_tree(clf, \n",
    "                   feature_names=X_hot,  \n",
    "                   class_names=Y,\n",
    "                   filled=True)"
   ]
  }
 ],
 "metadata": {
  "kernelspec": {
   "display_name": "Python 3",
   "language": "python",
   "name": "python3"
  },
  "language_info": {
   "codemirror_mode": {
    "name": "ipython",
    "version": 3
   },
   "file_extension": ".py",
   "mimetype": "text/x-python",
   "name": "python",
   "nbconvert_exporter": "python",
   "pygments_lexer": "ipython3",
   "version": "3.8.8"
  }
 },
 "nbformat": 4,
 "nbformat_minor": 5
}
