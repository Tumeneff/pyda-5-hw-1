{
 "cells": [
  {
   "cell_type": "code",
   "execution_count": 2,
   "id": "63cf8764",
   "metadata": {},
   "outputs": [],
   "source": [
    "import numpy as np\n",
    "import sympy as sym"
   ]
  },
  {
   "cell_type": "code",
   "execution_count": 3,
   "id": "0faf7ae0",
   "metadata": {},
   "outputs": [],
   "source": [
    "imitation = np.array([0,0,0,0,1,0])      # Игра в имитацию\n",
    "\n",
    "fury = np.array([0,1,0,1,0,0])      # Ярость\n",
    "\n",
    "slavery = np.array([0,0,1,1,1,0])      # 12 лет рабства\n",
    "\n",
    "ouatih = np.array([1,0,0,1,0,1])      # Однажды в Голливуде"
   ]
  },
  {
   "cell_type": "markdown",
   "id": "0468ff8f",
   "metadata": {},
   "source": [
    "**Задание 0**\n",
    "\n",
    "Тут в другом файле (отличном от того, что был в исходной ссылке к ДЗ) выяснилось, что есть еще задача сделать нормирование каждого из векторов. Ну, вот делаю"
   ]
  },
  {
   "cell_type": "code",
   "execution_count": 4,
   "id": "c9203306",
   "metadata": {},
   "outputs": [
    {
     "name": "stdout",
     "output_type": "stream",
     "text": [
      "(1.0, 1.4142135623730951, 1.7320508075688772, 1.7320508075688772)\n"
     ]
    }
   ],
   "source": [
    "def norm(v1,v2,v3,v4):\n",
    "    return np.linalg.norm(v1), np.linalg.norm(v2), np.linalg.norm(v3), np.linalg.norm(v4)\n",
    "\n",
    "print(norm(imitation,fury,slavery,ouatih))"
   ]
  },
  {
   "cell_type": "markdown",
   "id": "c003e86b",
   "metadata": {},
   "source": [
    "**Задание 1**\n",
    "\n",
    "Найти угол между векторами-фильмами \"Ярость\" и \"12 лет рабства\". Результатом будет являться косинусная мера, которую можно использовать для определения похожести векторов."
   ]
  },
  {
   "cell_type": "code",
   "execution_count": 104,
   "id": "0381c050",
   "metadata": {},
   "outputs": [
    {
     "name": "stdout",
     "output_type": "stream",
     "text": [
      "Угол косинуса между векторами фильмов \"Ярость\" и \"12 лет рабства\" составляет:  65.9052 °\n"
     ]
    }
   ],
   "source": [
    "def angle_between(v1, v2):\n",
    "    scalar_value = v1.dot(v2)\n",
    "    norms = np.linalg.norm(v1) * np.linalg.norm(v2)\n",
    " \n",
    "    return np.rad2deg(np.arccos(scalar_value / norms))\n",
    "degree= u'\\N{DEGREE SIGN}'\n",
    "print('Угол косинуса между векторами фильмов \"Ярость\" и \"12 лет рабства\" составляет: ', round(angle_between(fury, slavery),4),degree)"
   ]
  },
  {
   "cell_type": "markdown",
   "id": "6b4bcb44",
   "metadata": {},
   "source": [
    "**Задание 2**\n",
    "\n",
    "Вычислить с помощью Python значение первой и второй производной для функции $3x(x^2+x)^3$ в точке $x=1$"
   ]
  },
  {
   "cell_type": "code",
   "execution_count": 106,
   "id": "241a5cc1",
   "metadata": {},
   "outputs": [
    {
     "name": "stdout",
     "output_type": "stream",
     "text": [
      "Значение 1-ой производной: 132 \n",
      "Значение 2-ой производной: 612\n"
     ]
    }
   ],
   "source": [
    "x = sym.Symbol('x')\n",
    "func = 3*x*(x**2+x)**3\n",
    "diff_1 = sym.diff(func, x)\n",
    "diff_2 = sym.diff(diff_1, x)\n",
    "print('Значение 1-ой производной:', diff_1.subs(x,1),'\\n' \"Значение 2-ой производной:\", diff_2.subs(x,1))\n"
   ]
  },
  {
   "cell_type": "markdown",
   "id": "20e56fd4",
   "metadata": {},
   "source": [
    "**Задание 3**\n",
    "\n",
    "Объединить векторы, полученные в Задании 1 в матрицу, где каждый вектор является строкой матрицы. Умножьте вектор [1,2,3,4] на полученную матрицу"
   ]
  },
  {
   "cell_type": "code",
   "execution_count": 103,
   "id": "6d054db0",
   "metadata": {},
   "outputs": [
    {
     "data": {
      "text/plain": [
       "array([4, 2, 3, 9, 4, 4])"
      ]
     },
     "execution_count": 103,
     "metadata": {},
     "output_type": "execute_result"
    }
   ],
   "source": [
    "films = np.array((imitation,fury,slavery,ouatih)) #объединяем векторы в матрицу\n",
    "# print(films)\n",
    "vector =  np.array([1,2,3,4])\n",
    "multiply = vector.dot(films) #перемножаем вектор на матрицу\n",
    "multiply"
   ]
  }
 ],
 "metadata": {
  "kernelspec": {
   "display_name": "Python 3",
   "language": "python",
   "name": "python3"
  },
  "language_info": {
   "codemirror_mode": {
    "name": "ipython",
    "version": 3
   },
   "file_extension": ".py",
   "mimetype": "text/x-python",
   "name": "python",
   "nbconvert_exporter": "python",
   "pygments_lexer": "ipython3",
   "version": "3.8.8"
  }
 },
 "nbformat": 4,
 "nbformat_minor": 5
}
