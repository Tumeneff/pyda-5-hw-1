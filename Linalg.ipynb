{
 "cells": [
  {
   "cell_type": "code",
   "execution_count": null,
   "id": "0951a1ef",
   "metadata": {},
   "outputs": [],
   "source": [
    "import numpy as np"
   ]
  },
  {
   "cell_type": "markdown",
   "id": "3822292f",
   "metadata": {},
   "source": [
    "**Уровень 0:**\n",
    "\n",
    "Задание 1"
   ]
  },
  {
   "cell_type": "markdown",
   "id": "df6ee47f",
   "metadata": {},
   "source": [
    "- Создайте матрицу 3 на 3, заполненную числами от 1 до 9,\n",
    "- Прибавьте к ней матрицу с единицами на диагонале,\n",
    "- Умножьте полученную матрицу на вектор (1, 2, 3),\n",
    "- Вычислить транспонированную матрицу $A^T$ от полученной в результате прибавления матрицы,\n",
    "- Посчитайте обратную матрицу к полученной в результате прибавления матрице\n",
    "        "
   ]
  },
  {
   "cell_type": "markdown",
   "id": "5e49d799",
   "metadata": {},
   "source": [
    "Создаем матрицу 3 на 3, заполненную числами от 1 до 9:"
   ]
  },
  {
   "cell_type": "code",
   "execution_count": 30,
   "id": "065e2bc6",
   "metadata": {},
   "outputs": [
    {
     "data": {
      "text/plain": [
       "array([[1, 2, 3],\n",
       "       [4, 5, 6],\n",
       "       [7, 8, 9]])"
      ]
     },
     "execution_count": 30,
     "metadata": {},
     "output_type": "execute_result"
    }
   ],
   "source": [
    "matrix = np.arange(1, 10, 1).reshape(3,3)\n",
    "matrix"
   ]
  },
  {
   "cell_type": "markdown",
   "id": "2c976540",
   "metadata": {},
   "source": [
    "Прибавьте к ней матрицу с единицами на диагонали:"
   ]
  },
  {
   "cell_type": "code",
   "execution_count": 31,
   "id": "55f1cb3b",
   "metadata": {},
   "outputs": [
    {
     "data": {
      "text/plain": [
       "array([[ 2.,  2.,  3.],\n",
       "       [ 4.,  6.,  6.],\n",
       "       [ 7.,  8., 10.]])"
      ]
     },
     "execution_count": 31,
     "metadata": {},
     "output_type": "execute_result"
    }
   ],
   "source": [
    "ones = np.eye(3) # единичная матрица\n",
    "res_mat = matrix+ones\n",
    "res_mat"
   ]
  },
  {
   "cell_type": "markdown",
   "id": "77af9314",
   "metadata": {},
   "source": [
    "Умножьте полученную матрицу на вектор (1, 2, 3):"
   ]
  },
  {
   "cell_type": "code",
   "execution_count": 34,
   "id": "7964b94f",
   "metadata": {},
   "outputs": [
    {
     "name": "stdout",
     "output_type": "stream",
     "text": [
      "[31. 38. 45.]\n"
     ]
    }
   ],
   "source": [
    "vector =  np.array([1,2,3])\n",
    "multiply = vector.dot(res_mat) #перемножаем вектор на матрицу\n",
    "print(multiply)"
   ]
  },
  {
   "cell_type": "markdown",
   "id": "141621c6",
   "metadata": {},
   "source": [
    "Вычислить транспонированную матрицу $A^T$ от полученной в результате прибавления матрицы:"
   ]
  },
  {
   "cell_type": "code",
   "execution_count": 36,
   "id": "9a701e04",
   "metadata": {},
   "outputs": [
    {
     "name": "stdout",
     "output_type": "stream",
     "text": [
      "[[ 2.  4.  7.]\n",
      " [ 2.  6.  8.]\n",
      " [ 3.  6. 10.]]\n"
     ]
    }
   ],
   "source": [
    "transp = np.transpose(res_mat)\n",
    "print(transp)"
   ]
  },
  {
   "cell_type": "markdown",
   "id": "56a9a9d7",
   "metadata": {},
   "source": [
    "Посчитайте обратную матрицу к полученной в результате прибавления матрице:"
   ]
  },
  {
   "cell_type": "code",
   "execution_count": 37,
   "id": "bd3a80ef",
   "metadata": {},
   "outputs": [
    {
     "data": {
      "text/plain": [
       "array([[-6.00000000e+00, -2.00000000e+00,  3.00000000e+00],\n",
       "       [-1.00000000e+00,  5.00000000e-01,  2.22044605e-17],\n",
       "       [ 5.00000000e+00,  1.00000000e+00, -2.00000000e+00]])"
      ]
     },
     "execution_count": 37,
     "metadata": {},
     "output_type": "execute_result"
    }
   ],
   "source": [
    "invert = np.linalg.inv(res_mat)\n",
    "invert"
   ]
  },
  {
   "cell_type": "markdown",
   "id": "4a5c69e1",
   "metadata": {},
   "source": [
    "Проверяем перемножением обратной матрицы на исходную, чтобы получить единичную матрицу:"
   ]
  },
  {
   "cell_type": "code",
   "execution_count": 39,
   "id": "7c2c0082",
   "metadata": {},
   "outputs": [
    {
     "name": "stdout",
     "output_type": "stream",
     "text": [
      "[[ 1.00000000e+00 -2.22044605e-16  4.44089210e-16]\n",
      " [-1.77635684e-15  1.00000000e+00  8.88178420e-16]\n",
      " [-1.77635684e-15  4.44089210e-16  1.00000000e+00]]\n"
     ]
    }
   ],
   "source": [
    "print(res_mat@invert)"
   ]
  },
  {
   "cell_type": "markdown",
   "id": "8d42d26d",
   "metadata": {},
   "source": [
    "**Уровень 1**\n",
    "\n",
    " Задание 2 \n",
    " \n",
    " Найдите собственные значения и собственные вектора матрицы:\n",
    "\n"
   ]
  },
  {
   "cell_type": "code",
   "execution_count": 43,
   "id": "22939f63",
   "metadata": {},
   "outputs": [
    {
     "data": {
      "text/plain": [
       "array([[2, 2],\n",
       "       [1, 3]])"
      ]
     },
     "execution_count": 43,
     "metadata": {},
     "output_type": "execute_result"
    }
   ],
   "source": [
    "m = np.array([[2, 2],\n",
    "              [1, 3]])\n",
    "m"
   ]
  },
  {
   "cell_type": "markdown",
   "id": "edbf7ef6",
   "metadata": {},
   "source": [
    "Найдите собственные значения матрицы:"
   ]
  },
  {
   "cell_type": "code",
   "execution_count": 42,
   "id": "790b2de3",
   "metadata": {},
   "outputs": [
    {
     "name": "stdout",
     "output_type": "stream",
     "text": [
      "[1. 4.]\n"
     ]
    }
   ],
   "source": [
    "print(np.linalg.eigvals(m))"
   ]
  },
  {
   "cell_type": "markdown",
   "id": "46584ecf",
   "metadata": {},
   "source": [
    "Найдите собственные векторы матрицы:"
   ]
  },
  {
   "cell_type": "code",
   "execution_count": 64,
   "id": "2416c9ae",
   "metadata": {},
   "outputs": [
    {
     "name": "stdout",
     "output_type": "stream",
     "text": [
      "Собственный вектор 1:\n",
      "  [1. 4.] \n",
      "\n",
      " Собственный вектор 2:\n",
      " [[-0.89442719 -0.70710678]\n",
      " [ 0.4472136  -0.70710678]]\n"
     ]
    }
   ],
   "source": [
    "print('Собственный вектор 1:\\n ', np.linalg.eig(m)[0],'\\n\\n', 'Собственный вектор 2:\\n',np.linalg.eig(m)[1])"
   ]
  },
  {
   "cell_type": "markdown",
   "id": "5ffb3a29",
   "metadata": {},
   "source": [
    "Задание 2 \n",
    " \n",
    "Придумайте матрицу, у которой определитель = 1, и все элементы не равны 0.\n",
    "\n",
    "P.S. Матрица должна быть ненулевой и размерностью не менее 2!"
   ]
  },
  {
   "cell_type": "code",
   "execution_count": 70,
   "id": "40cb0477",
   "metadata": {},
   "outputs": [
    {
     "name": "stdout",
     "output_type": "stream",
     "text": [
      "Нужная матрица:\n",
      " [[1.  1. ]\n",
      " [0.5 1.5]] \n",
      "\n",
      "Определитель матрицы:\n",
      " 1.0\n"
     ]
    }
   ],
   "source": [
    "new_matrix = m/2 # берем исходную матрицу m из предыдущего задания и смотрим ее определитель (равный 4). Далее просто делим матрицу на 2 и получаем то, что нам нужно\n",
    "print('Нужная матрица:\\n', new_matrix, '\\n')\n",
    "\n",
    "print('Определитель матрицы:\\n',np.linalg.det(new_matrix))"
   ]
  }
 ],
 "metadata": {
  "kernelspec": {
   "display_name": "Python 3",
   "language": "python",
   "name": "python3"
  },
  "language_info": {
   "codemirror_mode": {
    "name": "ipython",
    "version": 3
   },
   "file_extension": ".py",
   "mimetype": "text/x-python",
   "name": "python",
   "nbconvert_exporter": "python",
   "pygments_lexer": "ipython3",
   "version": "3.8.8"
  }
 },
 "nbformat": 4,
 "nbformat_minor": 5
}
