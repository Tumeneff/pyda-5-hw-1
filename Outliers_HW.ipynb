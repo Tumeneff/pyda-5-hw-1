{
 "cells": [
  {
   "cell_type": "code",
   "execution_count": 46,
   "id": "2240f9bd",
   "metadata": {},
   "outputs": [],
   "source": [
    "import numpy as np\n",
    "import seaborn as sns\n",
    "import pandas as pd # Для работы с данными\n",
    "import scipy.stats # При работе со статистикой\n",
    "import matplotlib.pyplot as plt  # Библиотека для визуализации результатов\n",
    "import matplotlib.font_manager \n",
    "from sklearn.model_selection import train_test_split"
   ]
  },
  {
   "cell_type": "markdown",
   "id": "57fd3a90",
   "metadata": {},
   "source": [
    "### Задание\n",
    "\n",
    "В домашнем задании нужно решить задачу классификации типа стекол. Целевая переменная – тип стекла «Type». Остальные признаки описывают химические элементы в составе материала. Датасет нужно исследовать на наличие выбросов, провести EDA.\n",
    "\n",
    "#### Этапы работы:\n",
    "\n",
    "1. Получите данные и загрузите их в рабочую среду (Jupyter Notebook или другую).\n",
    "2. Проведите первичный анализ.\n",
    "- а) Проверьте количество записей для каждого класса. Сделайте вывод.\n",
    "3. Разделите выборку на обучающее и тестовое подмножество. 80% данных оставить на обучающее множество, 20% на тестовое.\n",
    "4. Обучите модель дерева решений RandomForestClassifier на обучающем множестве.\n",
    "5. Для тестового множества предскажите тип стекла и сравните с истинным значением, посчитав точность предсказания модели (accuracy).\n",
    "6. Обработайте выбросы в данных.\n",
    "- а) Визуализируйте распределение значений для каждой переменной. Можно использовать функции sns.boxplot, sns.distplot. Есть ли признаки с нормальным распределением?\n",
    "- b) Исследуйте признаки на выбросы несколькими способами.\n",
    "- c) Удалите выбросы. *Посчитайте процент удаленных записей от общего числа записей для каждого класса.\n",
    "7. Повторите п. 4, п. 5.\n",
    "8. Сформулируйте выводы по проделанной работе.\n",
    "- а) Кратко опишите, какие преобразования были сделаны с данными.\n",
    "- b) Сравните точность двух моделей.\n",
    "- c) Напишите свое мнение, нужно ли исследовать данные на выбросы, для чего это делается, плюсы и минусы подхода.\n",
    "\n",
    "\n",
    "Для получения зачета по этому домашнему заданию минимально должны быть реализованы методы по поиску выбросов и построены две модели: «до» и «после» обработки экстремальных значений."
   ]
  },
  {
   "cell_type": "code",
   "execution_count": 27,
   "id": "cb4a0d72",
   "metadata": {},
   "outputs": [],
   "source": [
    "data = pd.read_csv('glass.csv')"
   ]
  },
  {
   "cell_type": "code",
   "execution_count": 28,
   "id": "0f553278",
   "metadata": {},
   "outputs": [
    {
     "data": {
      "text/html": [
       "<div>\n",
       "<style scoped>\n",
       "    .dataframe tbody tr th:only-of-type {\n",
       "        vertical-align: middle;\n",
       "    }\n",
       "\n",
       "    .dataframe tbody tr th {\n",
       "        vertical-align: top;\n",
       "    }\n",
       "\n",
       "    .dataframe thead th {\n",
       "        text-align: right;\n",
       "    }\n",
       "</style>\n",
       "<table border=\"1\" class=\"dataframe\">\n",
       "  <thead>\n",
       "    <tr style=\"text-align: right;\">\n",
       "      <th></th>\n",
       "      <th>RI</th>\n",
       "      <th>Na</th>\n",
       "      <th>Mg</th>\n",
       "      <th>Al</th>\n",
       "      <th>Si</th>\n",
       "      <th>K</th>\n",
       "      <th>Ca</th>\n",
       "      <th>Ba</th>\n",
       "      <th>Fe</th>\n",
       "      <th>Type</th>\n",
       "    </tr>\n",
       "  </thead>\n",
       "  <tbody>\n",
       "    <tr>\n",
       "      <th>0</th>\n",
       "      <td>1.52101</td>\n",
       "      <td>13.64</td>\n",
       "      <td>4.49</td>\n",
       "      <td>1.10</td>\n",
       "      <td>71.78</td>\n",
       "      <td>0.06</td>\n",
       "      <td>8.75</td>\n",
       "      <td>0.0</td>\n",
       "      <td>0.0</td>\n",
       "      <td>1</td>\n",
       "    </tr>\n",
       "    <tr>\n",
       "      <th>1</th>\n",
       "      <td>1.51761</td>\n",
       "      <td>13.89</td>\n",
       "      <td>3.60</td>\n",
       "      <td>1.36</td>\n",
       "      <td>72.73</td>\n",
       "      <td>0.48</td>\n",
       "      <td>7.83</td>\n",
       "      <td>0.0</td>\n",
       "      <td>0.0</td>\n",
       "      <td>1</td>\n",
       "    </tr>\n",
       "    <tr>\n",
       "      <th>2</th>\n",
       "      <td>1.51618</td>\n",
       "      <td>13.53</td>\n",
       "      <td>3.55</td>\n",
       "      <td>1.54</td>\n",
       "      <td>72.99</td>\n",
       "      <td>0.39</td>\n",
       "      <td>7.78</td>\n",
       "      <td>0.0</td>\n",
       "      <td>0.0</td>\n",
       "      <td>1</td>\n",
       "    </tr>\n",
       "    <tr>\n",
       "      <th>3</th>\n",
       "      <td>1.51766</td>\n",
       "      <td>13.21</td>\n",
       "      <td>3.69</td>\n",
       "      <td>1.29</td>\n",
       "      <td>72.61</td>\n",
       "      <td>0.57</td>\n",
       "      <td>8.22</td>\n",
       "      <td>0.0</td>\n",
       "      <td>0.0</td>\n",
       "      <td>1</td>\n",
       "    </tr>\n",
       "    <tr>\n",
       "      <th>4</th>\n",
       "      <td>1.51742</td>\n",
       "      <td>13.27</td>\n",
       "      <td>3.62</td>\n",
       "      <td>1.24</td>\n",
       "      <td>73.08</td>\n",
       "      <td>0.55</td>\n",
       "      <td>8.07</td>\n",
       "      <td>0.0</td>\n",
       "      <td>0.0</td>\n",
       "      <td>1</td>\n",
       "    </tr>\n",
       "  </tbody>\n",
       "</table>\n",
       "</div>"
      ],
      "text/plain": [
       "        RI     Na    Mg    Al     Si     K    Ca   Ba   Fe  Type\n",
       "0  1.52101  13.64  4.49  1.10  71.78  0.06  8.75  0.0  0.0     1\n",
       "1  1.51761  13.89  3.60  1.36  72.73  0.48  7.83  0.0  0.0     1\n",
       "2  1.51618  13.53  3.55  1.54  72.99  0.39  7.78  0.0  0.0     1\n",
       "3  1.51766  13.21  3.69  1.29  72.61  0.57  8.22  0.0  0.0     1\n",
       "4  1.51742  13.27  3.62  1.24  73.08  0.55  8.07  0.0  0.0     1"
      ]
     },
     "execution_count": 28,
     "metadata": {},
     "output_type": "execute_result"
    }
   ],
   "source": [
    "data.head()"
   ]
  },
  {
   "cell_type": "markdown",
   "id": "5c85a946",
   "metadata": {},
   "source": [
    "#### 2. Проведите первичный анализ.\n",
    "- а) Проверьте количество записей для каждого класса. Сделайте вывод."
   ]
  },
  {
   "cell_type": "code",
   "execution_count": 29,
   "id": "57ce76f2",
   "metadata": {},
   "outputs": [
    {
     "data": {
      "text/plain": [
       "array([1, 2, 3, 5, 6, 7], dtype=int64)"
      ]
     },
     "execution_count": 29,
     "metadata": {},
     "output_type": "execute_result"
    }
   ],
   "source": [
    "data['Type'].unique()"
   ]
  },
  {
   "cell_type": "code",
   "execution_count": 30,
   "id": "9c7c2f02",
   "metadata": {},
   "outputs": [
    {
     "data": {
      "text/plain": [
       "2    76\n",
       "1    70\n",
       "7    29\n",
       "3    17\n",
       "5    13\n",
       "6     9\n",
       "Name: Type, dtype: int64"
      ]
     },
     "execution_count": 30,
     "metadata": {},
     "output_type": "execute_result"
    }
   ],
   "source": [
    "data['Type'].value_counts()"
   ]
  },
  {
   "cell_type": "markdown",
   "id": "909dd7de",
   "metadata": {},
   "source": [
    "По количеству значений классы не сбалансированы: диапазон колебаний значений по классам от 76 до 9, то есть 6-го класса более чем в 8 раз меньше, чем 2-го класса, к примеру.\n",
    "Более наглядно все отображено на графике"
   ]
  },
  {
   "cell_type": "code",
   "execution_count": 47,
   "id": "1121e087",
   "metadata": {},
   "outputs": [
    {
     "data": {
      "image/png": "[encoded data removed]",
      "text/plain": [
       "<Figure size 936x720 with 1 Axes>"
      ]
     },
     "metadata": {
      "needs_background": "light"
     },
     "output_type": "display_data"
    }
   ],
   "source": [
    "plt.hist(x = data['Type'], bins = 20);"
   ]
  },
  {
   "cell_type": "code",
   "execution_count": 48,
   "id": "64f5e762",
   "metadata": {},
   "outputs": [],
   "source": [
    "X = data.drop('Type', axis=1)"
   ]
  },
  {
   "cell_type": "code",
   "execution_count": 49,
   "id": "3ce74957",
   "metadata": {},
   "outputs": [],
   "source": [
    "Y = data.Type"
   ]
  },
  {
   "cell_type": "code",
   "execution_count": 157,
   "id": "0cec1633",
   "metadata": {},
   "outputs": [],
   "source": [
    "from sklearn.tree import DecisionTreeClassifier\n",
    "from sklearn.ensemble import RandomForestClassifier"
   ]
  },
  {
   "cell_type": "markdown",
   "id": "b6f3013c",
   "metadata": {},
   "source": [
    "#### 3. Разделите выборку на обучающее и тестовое подмножество. 80% данных оставить на обучающее множество, 20% на тестовое."
   ]
  },
  {
   "cell_type": "code",
   "execution_count": 159,
   "id": "9950caf0",
   "metadata": {},
   "outputs": [],
   "source": [
    "# clf = DecisionTreeClassifier(max_depth=3, min_samples_leaf=3, random_state=10)\n",
    "rfc = RandomForestClassifier(max_depth=2, random_state=0)"
   ]
  },
  {
   "cell_type": "code",
   "execution_count": 52,
   "id": "13297895",
   "metadata": {},
   "outputs": [],
   "source": [
    "X_train, X_test, y_train, y_test = train_test_split(X, Y, test_size=0.2, random_state=2)"
   ]
  },
  {
   "cell_type": "markdown",
   "id": "cdae8a01",
   "metadata": {},
   "source": [
    "#### 4. Обучите модель дерева решений RandomForestClassifier на обучающем множестве."
   ]
  },
  {
   "cell_type": "code",
   "execution_count": 160,
   "id": "4af69e9a",
   "metadata": {},
   "outputs": [
    {
     "data": {
      "text/plain": [
       "RandomForestClassifier(max_depth=2, random_state=0)"
      ]
     },
     "execution_count": 160,
     "metadata": {},
     "output_type": "execute_result"
    }
   ],
   "source": [
    "# clf.fit(X_train, y_train)\n",
    "rfc.fit(X_train, y_train)"
   ]
  },
  {
   "cell_type": "markdown",
   "id": "ee2cd262",
   "metadata": {},
   "source": [
    "#### 5. Для тестового множества предскажите тип стекла и сравните с истинным значением, посчитав точность предсказания модели (accuracy)."
   ]
  },
  {
   "cell_type": "code",
   "execution_count": 161,
   "id": "ea21ea39",
   "metadata": {},
   "outputs": [
    {
     "data": {
      "text/plain": [
       "0.6976744186046512"
      ]
     },
     "execution_count": 161,
     "metadata": {},
     "output_type": "execute_result"
    }
   ],
   "source": [
    "clf.score(X_test, y_test)"
   ]
  },
  {
   "cell_type": "code",
   "execution_count": 162,
   "id": "0d11d827",
   "metadata": {},
   "outputs": [
    {
     "data": {
      "text/plain": [
       "0.6511627906976745"
      ]
     },
     "execution_count": 162,
     "metadata": {},
     "output_type": "execute_result"
    }
   ],
   "source": [
    "rfc.score(X_test, y_test)"
   ]
  },
  {
   "cell_type": "markdown",
   "id": "54d995a0",
   "metadata": {},
   "source": [
    "#### 6. Обработайте выбросы в данных.\n",
    "- а) Визуализируйте распределение значений для каждой переменной. Можно использовать функции sns.boxplot, sns.distplot. Есть ли признаки с нормальным распределением?\n",
    "- b) Исследуйте признаки на выбросы несколькими способами.\n",
    "- c) Удалите выбросы. *Посчитайте процент удаленных записей от общего числа записей для каждого класса."
   ]
  },
  {
   "cell_type": "code",
   "execution_count": 33,
   "id": "86ab4e74",
   "metadata": {},
   "outputs": [],
   "source": [
    "from pylab import rcParams\n",
    "rcParams['figure.figsize'] = 13,10"
   ]
  },
  {
   "cell_type": "code",
   "execution_count": 72,
   "id": "0b91de5d",
   "metadata": {},
   "outputs": [
    {
     "data": {
      "text/plain": [
       "<AxesSubplot:xlabel='variable', ylabel='value'>"
      ]
     },
     "execution_count": 72,
     "metadata": {},
     "output_type": "execute_result"
    },
    {
     "data": {
      "image/png": "[encoded data removed]",
      "text/plain": [
       "<Figure size 936x720 with 1 Axes>"
      ]
     },
     "metadata": {
      "needs_background": "light"
     },
     "output_type": "display_data"
    }
   ],
   "source": [
    "sns.boxplot(x=\"variable\", y=\"value\", data=pd.melt(X))"
   ]
  },
  {
   "cell_type": "code",
   "execution_count": 109,
   "id": "16cf9288",
   "metadata": {},
   "outputs": [],
   "source": [
    "# features = X.columns[:-1].tolist()\n",
    "# rcParams['figure.figsize'] = 10,9\n",
    "# for feat in features:\n",
    "#     skew = X[feat].skew()\n",
    "#     sns.distplot(X[feat], kde= False, label='Сдвиг = %.3f' %(skew), bins=30, rug=True);\n",
    "#     plt.legend(loc='best');\n",
    "#     plt.show();\n",
    "\n"
   ]
  },
  {
   "cell_type": "markdown",
   "id": "aab8cbc2",
   "metadata": {},
   "source": [
    "А теперь попробуем посмотреть на выбросы по каждому из элементов, но в разрезе типов стекол:"
   ]
  },
  {
   "cell_type": "code",
   "execution_count": 112,
   "id": "30221abb",
   "metadata": {},
   "outputs": [
    {
     "data": {
      "image/png": "[encoded data removed]",
      "text/plain": [
       "<Figure size 720x648 with 1 Axes>"
      ]
     },
     "metadata": {
      "needs_background": "light"
     },
     "output_type": "display_data"
    },
    {
     "data": {
      "image/png": "[encoded data removed]",
      "text/plain": [
       "<Figure size 720x648 with 1 Axes>"
      ]
     },
     "metadata": {
      "needs_background": "light"
     },
     "output_type": "display_data"
    },
    {
     "data": {
      "image/png": "[encoded data removed]",
      "text/plain": [
       "<Figure size 720x648 with 1 Axes>"
      ]
     },
     "metadata": {
      "needs_background": "light"
     },
     "output_type": "display_data"
    },
    {
     "data": {
      "image/png": "[encoded data removed]",
      "text/plain": [
       "<Figure size 720x648 with 1 Axes>"
      ]
     },
     "metadata": {
      "needs_background": "light"
     },
     "output_type": "display_data"
    },
    {
     "data": {
      "image/png": "[encoded data removed]",
      "text/plain": [
       "<Figure size 720x648 with 1 Axes>"
      ]
     },
     "metadata": {
      "needs_background": "light"
     },
     "output_type": "display_data"
    },
    {
     "data": {
      "image/png": "[encoded data removed]",
      "text/plain": [
       "<Figure size 720x648 with 1 Axes>"
      ]
     },
     "metadata": {
      "needs_background": "light"
     },
     "output_type": "display_data"
    },
    {
     "data": {
      "image/png": "[encoded data removed]",
      "text/plain": [
       "<Figure size 720x648 with 1 Axes>"
      ]
     },
     "metadata": {
      "needs_background": "light"
     },
     "output_type": "display_data"
    },
    {
     "data": {
      "image/png": "[encoded data removed]",
      "text/plain": [
       "<Figure size 720x648 with 1 Axes>"
      ]
     },
     "metadata": {
      "needs_background": "light"
     },
     "output_type": "display_data"
    },
    {
     "data": {
      "image/png": "[encoded data removed]",
      "text/plain": [
       "<Figure size 720x648 with 1 Axes>"
      ]
     },
     "metadata": {
      "needs_background": "light"
     },
     "output_type": "display_data"
    }
   ],
   "source": [
    "feature_names = data.columns\n",
    "for i in range(len(feature_names)-1):\n",
    "    figure = plt.figure()\n",
    "    ax = sns.boxplot(x='Type', y=feature_names[i], data=data)"
   ]
  },
  {
   "cell_type": "markdown",
   "id": "effbdb59",
   "metadata": {},
   "source": [
    "Выбросы видны.\n",
    "Для того, чтобы от них избавиться правильно, нужно преддварительно переработать сам дата-сет"
   ]
  },
  {
   "cell_type": "code",
   "execution_count": 114,
   "id": "d6833003",
   "metadata": {},
   "outputs": [],
   "source": [
    "#Создаем словарь из дата фрейма\n",
    "\n",
    "types = data['Type'].unique()\n",
    "d = {type: data[data['Type'] == type] for type in types}\n"
   ]
  },
  {
   "cell_type": "markdown",
   "id": "1dffd197",
   "metadata": {},
   "source": [
    "Выбросами будем считать все, что не попадает в 1,5 межквантильного размаха"
   ]
  },
  {
   "cell_type": "code",
   "execution_count": 115,
   "id": "0a6ac07a",
   "metadata": {},
   "outputs": [],
   "source": [
    "# считаем межквантильный размах и создаем словарь с этими данными по каждому типу стекла\n",
    "low = .25\n",
    "high = .75\n",
    "\n",
    "limits = {}\n",
    "for type in types:\n",
    "    filt_df = d[type].loc[:, d[type].columns != 'Type'] # Remove 'Type' Column\n",
    "    quant_df = filt_df.quantile([low, high])\n",
    "    IQR = quant_df.iloc[1,:]-  quant_df.iloc[0,:]\n",
    "    quant_df.iloc[0,:] = quant_df.iloc[0,:] - 1.5*IQR\n",
    "    quant_df.iloc[1,:] = quant_df.iloc[1,:] + 1.5*IQR\n",
    "    limits[type] = quant_df"
   ]
  },
  {
   "cell_type": "code",
   "execution_count": 116,
   "id": "a26e344e",
   "metadata": {},
   "outputs": [
    {
     "data": {
      "text/html": [
       "<div>\n",
       "<style scoped>\n",
       "    .dataframe tbody tr th:only-of-type {\n",
       "        vertical-align: middle;\n",
       "    }\n",
       "\n",
       "    .dataframe tbody tr th {\n",
       "        vertical-align: top;\n",
       "    }\n",
       "\n",
       "    .dataframe thead th {\n",
       "        text-align: right;\n",
       "    }\n",
       "</style>\n",
       "<table border=\"1\" class=\"dataframe\">\n",
       "  <thead>\n",
       "    <tr style=\"text-align: right;\">\n",
       "      <th></th>\n",
       "      <th>RI</th>\n",
       "      <th>Na</th>\n",
       "      <th>Mg</th>\n",
       "      <th>Al</th>\n",
       "      <th>Si</th>\n",
       "      <th>K</th>\n",
       "      <th>Ca</th>\n",
       "      <th>Ba</th>\n",
       "      <th>Fe</th>\n",
       "    </tr>\n",
       "  </thead>\n",
       "  <tbody>\n",
       "    <tr>\n",
       "      <th>0.25</th>\n",
       "      <td>1.509865</td>\n",
       "      <td>11.92</td>\n",
       "      <td>-2.565</td>\n",
       "      <td>0.645</td>\n",
       "      <td>70.365</td>\n",
       "      <td>-0.505</td>\n",
       "      <td>6.955</td>\n",
       "      <td>0.0</td>\n",
       "      <td>0.0</td>\n",
       "    </tr>\n",
       "    <tr>\n",
       "      <th>0.75</th>\n",
       "      <td>1.527985</td>\n",
       "      <td>14.08</td>\n",
       "      <td>4.275</td>\n",
       "      <td>3.085</td>\n",
       "      <td>75.205</td>\n",
       "      <td>1.855</td>\n",
       "      <td>14.275</td>\n",
       "      <td>0.0</td>\n",
       "      <td>0.0</td>\n",
       "    </tr>\n",
       "  </tbody>\n",
       "</table>\n",
       "</div>"
      ],
      "text/plain": [
       "            RI     Na     Mg     Al      Si      K      Ca   Ba   Fe\n",
       "0.25  1.509865  11.92 -2.565  0.645  70.365 -0.505   6.955  0.0  0.0\n",
       "0.75  1.527985  14.08  4.275  3.085  75.205  1.855  14.275  0.0  0.0"
      ]
     },
     "execution_count": 116,
     "metadata": {},
     "output_type": "execute_result"
    }
   ],
   "source": [
    "limits[5]"
   ]
  },
  {
   "cell_type": "code",
   "execution_count": 119,
   "id": "15eee5ac",
   "metadata": {},
   "outputs": [
    {
     "data": {
      "text/plain": [
       "array([1, 2, 3, 5, 6, 7], dtype=int64)"
      ]
     },
     "execution_count": 119,
     "metadata": {},
     "output_type": "execute_result"
    }
   ],
   "source": [
    "# убираем выбросы\n",
    "\n",
    "for type in types:\n",
    "    filt_df = d[type].loc[:, d[type].columns != 'Type'] # убираем колонку с типом стекла\n",
    "    # далее добавляем в датафрейм только те значения, что меньше положитеьных выбросов и больше отрицательных выбросов\n",
    "    filt_df = filt_df.apply(lambda x: x[(x>limits[type].loc[low,x.name]) & (x < limits[type].loc[high,x.name])], axis=0)\n",
    "    df_new[type] = pd.concat([filt_df,d[type].loc[:,'Type']], axis=1)\n",
    "\n",
    "\n",
    "glassdata = result = pd.concat(df_new)\n",
    "glassdata.Type.unique()"
   ]
  },
  {
   "cell_type": "code",
   "execution_count": 163,
   "id": "74b710a2",
   "metadata": {},
   "outputs": [
    {
     "data": {
      "text/plain": [
       "<AxesSubplot:xlabel='variable', ylabel='value'>"
      ]
     },
     "execution_count": 163,
     "metadata": {},
     "output_type": "execute_result"
    },
    {
     "data": {
      "image/png": "[encoded data removed]",
      "text/plain": [
       "<Figure size 720x648 with 1 Axes>"
      ]
     },
     "metadata": {
      "needs_background": "light"
     },
     "output_type": "display_data"
    }
   ],
   "source": [
    "sns.boxplot(x=\"variable\", y=\"value\", data=pd.melt(glassdata.drop('Type', axis=1))) "
   ]
  },
  {
   "cell_type": "markdown",
   "id": "1866eaf2",
   "metadata": {},
   "source": [
    "Посчитаем % уменьшения данных"
   ]
  },
  {
   "cell_type": "code",
   "execution_count": 153,
   "id": "6ad33d7a",
   "metadata": {},
   "outputs": [
    {
     "data": {
      "text/plain": [
       "['RI', 'Na', 'Mg', 'Al', 'Si', 'K', 'Ca', 'Ba', 'Fe']"
      ]
     },
     "execution_count": 153,
     "metadata": {},
     "output_type": "execute_result"
    }
   ],
   "source": [
    "features = X.columns.tolist()\n",
    "features"
   ]
  },
  {
   "cell_type": "code",
   "execution_count": 156,
   "id": "e400d747",
   "metadata": {},
   "outputs": [
    {
     "name": "stdout",
     "output_type": "stream",
     "text": [
      "Сокращение колонки RI: 12.15 %\n",
      "Сокращение колонки Na: 6.07 %\n",
      "Сокращение колонки Mg: 21.5 %\n",
      "Сокращение колонки Al: 7.94 %\n",
      "Сокращение колонки Si: 5.14 %\n",
      "Сокращение колонки K: 13.55 %\n",
      "Сокращение колонки Ca: 12.15 %\n",
      "Сокращение колонки Ba: 86.45 %\n",
      "Сокращение колонки Fe: 25.7 %\n"
     ]
    }
   ],
   "source": [
    "for col in features:\n",
    "    print('Сокращение колонки', col+':', round(100 - ((len(glassdata[col])-glassdata[col].isnull().sum())/len(glassdata[col])*100), 2), '%')"
   ]
  },
  {
   "cell_type": "markdown",
   "id": "2fb3b6e3",
   "metadata": {},
   "source": [
    "Итак, самое сильное (критически сильное) уменьшение данных случилось в колонке по баррию. Вполне возможно, что имеет смысл именно эту колонку оставить неизменой"
   ]
  },
  {
   "cell_type": "code",
   "execution_count": 186,
   "id": "6b42f3b6",
   "metadata": {},
   "outputs": [],
   "source": [
    "glassdata.Ba = data.Ba "
   ]
  },
  {
   "cell_type": "markdown",
   "id": "5e3ab438",
   "metadata": {},
   "source": [
    "#### 7. Повторите п. 4, п. 5."
   ]
  },
  {
   "cell_type": "markdown",
   "id": "cf125aad",
   "metadata": {},
   "source": [
    "Также для нормальной работы random forest необходимо избавиться от Nan в колонках. Заменим их на медианные значения."
   ]
  },
  {
   "cell_type": "code",
   "execution_count": 180,
   "id": "0a268fa0",
   "metadata": {},
   "outputs": [],
   "source": [
    "for col in features:\n",
    "    glassdata[col] = glassdata[col].fillna(data[col].median())\n"
   ]
  },
  {
   "cell_type": "code",
   "execution_count": 181,
   "id": "89b4633c",
   "metadata": {},
   "outputs": [],
   "source": [
    "Xx_train, Xx_test, yy_train, yy_test = train_test_split(glassdata.drop('Type', axis=1), Y, test_size=0.2, random_state=2)"
   ]
  },
  {
   "cell_type": "code",
   "execution_count": 204,
   "id": "719ba174",
   "metadata": {},
   "outputs": [],
   "source": [
    "rfc_n = RandomForestClassifier(max_depth=4, random_state=0)\n",
    "clf_n = DecisionTreeClassifier(max_depth=4, random_state=5)"
   ]
  },
  {
   "cell_type": "code",
   "execution_count": 205,
   "id": "822118e3",
   "metadata": {},
   "outputs": [
    {
     "data": {
      "text/plain": [
       "RandomForestClassifier(max_depth=4, random_state=0)"
      ]
     },
     "execution_count": 205,
     "metadata": {},
     "output_type": "execute_result"
    }
   ],
   "source": [
    "rfc_n.fit(Xx_train, yy_train)"
   ]
  },
  {
   "cell_type": "code",
   "execution_count": 206,
   "id": "d718a31f",
   "metadata": {},
   "outputs": [
    {
     "data": {
      "text/plain": [
       "DecisionTreeClassifier(max_depth=4, random_state=5)"
      ]
     },
     "execution_count": 206,
     "metadata": {},
     "output_type": "execute_result"
    }
   ],
   "source": [
    "clf_n.fit(Xx_train, yy_train) "
   ]
  },
  {
   "cell_type": "code",
   "execution_count": 207,
   "id": "5645b240",
   "metadata": {},
   "outputs": [
    {
     "data": {
      "text/plain": [
       "0.6511627906976745"
      ]
     },
     "execution_count": 207,
     "metadata": {},
     "output_type": "execute_result"
    }
   ],
   "source": [
    "rfc_n.score(Xx_test, yy_test)"
   ]
  },
  {
   "cell_type": "code",
   "execution_count": 208,
   "id": "64fff8d2",
   "metadata": {},
   "outputs": [
    {
     "data": {
      "text/plain": [
       "0.6511627906976745"
      ]
     },
     "execution_count": 208,
     "metadata": {},
     "output_type": "execute_result"
    }
   ],
   "source": [
    "clf_n.score(Xx_test, yy_test)"
   ]
  },
  {
   "cell_type": "markdown",
   "id": "ab42bc59",
   "metadata": {},
   "source": [
    "#### Вывод:\n",
    "- стало только хуже: если до этого хватало глубины модели в 2, то сейчас для 65% необходимо уже иметь глубину 4;\n",
    "- скорее всего, я что-то не то сделал и, возможно, надо было не удалять значения в колонках, а удалять сразу строки. Но в этом случае, DF бы сильно сократился, что не привело бы к сохранению релевантности модели.\n",
    "- в целом, еще и не факт, что те значения, которые изначально были определены как выбросы, вообще этими самыми выбросами являются"
   ]
  },
  {
   "cell_type": "code",
   "execution_count": null,
   "id": "c6b7e29d",
   "metadata": {},
   "outputs": [],
   "source": []
  }
 ],
 "metadata": {
  "kernelspec": {
   "display_name": "Python 3",
   "language": "python",
   "name": "python3"
  },
  "language_info": {
   "codemirror_mode": {
    "name": "ipython",
    "version": 3
   },
   "file_extension": ".py",
   "mimetype": "text/x-python",
   "name": "python",
   "nbconvert_exporter": "python",
   "pygments_lexer": "ipython3",
   "version": "3.8.8"
  }
 },
 "nbformat": 4,
 "nbformat_minor": 5
}
