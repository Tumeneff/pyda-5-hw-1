{
 "cells": [
  {
   "cell_type": "markdown",
   "metadata": {
    "toc": true
   },
   "source": [
    "<h1>Table of Contents<span class=\"tocSkip\"></span></h1>\n",
    "<div class=\"toc\"><ul class=\"toc-item\"></ul></div>"
   ]
  },
  {
   "cell_type": "markdown",
   "metadata": {},
   "source": [
    "***Задание 1***\n",
    "\n",
    "Скачайте с сайта https://grouplens.org/datasets/movielens/ датасет любого размера. Определите какому фильму было выставлено больше всего оценок 5.0."
   ]
  },
  {
   "cell_type": "code",
   "execution_count": 10,
   "metadata": {},
   "outputs": [],
   "source": [
    "import pandas as pd"
   ]
  },
  {
   "cell_type": "code",
   "execution_count": 83,
   "metadata": {},
   "outputs": [
    {
     "name": "stdout",
     "output_type": "stream",
     "text": [
      "Лидером по оценкам \"5\" является фильм  Shawshank Redemption, The (1994). Число оценок: 318\n"
     ]
    }
   ],
   "source": [
    "data = pd.read_csv('ratings.csv', skiprows=0)\n",
    "data_5 = data[ data.rating == 5 ]\n",
    "results = data_5['movieId'].value_counts().head(1)\n",
    "names_base = pd.read_csv('movies.csv', skiprows=0)\n",
    "pop_movie = names_base[ names_base.movieId == results.index[0] ]\n",
    "print('Лидером по оценкам \"5\" является фильм {}. Число оценок: {}'.format(pop_movie['title'].to_string(index=False), results.index[0]) )\n",
    "\n"
   ]
  },
  {
   "cell_type": "markdown",
   "metadata": {},
   "source": [
    "***Задание 2***\n",
    "\n",
    "По данным файла power.csv посчитайте суммарное потребление стран Прибалтики (Латвия, Литва и Эстония) категорий 4, 12 и 21 за период с 2005 по 2010 года. Не учитывайте в расчетах отрицательные значения quantity."
   ]
  },
  {
   "cell_type": "code",
   "execution_count": 115,
   "metadata": {},
   "outputs": [
    {
     "data": {
      "text/plain": [
       "18386020.7285401"
      ]
     },
     "execution_count": 115,
     "metadata": {},
     "output_type": "execute_result"
    }
   ],
   "source": [
    "countries = pd.read_csv('power.csv', skiprows=0)\n",
    "filtered_countries = countries[ (countries['country']=='Lithuania') | (countries['country']=='Latvia') | (countries['country']=='Estonia') ]\n",
    "countries_by_period = filtered_countries[ (filtered_countries['year'] > 2005 ) & (filtered_countries['year'] < 2011 )]\n",
    "countries_by_category = countries_by_period[ (countries_by_period['category'] == 4) | (countries_by_period['category'] == 12) | (countries_by_period['category'] == 21)]\n",
    "\n",
    "countries_by_period[(countries_by_period.quantity > 0)]['quantity'].sum()\n",
    "\n",
    "\n"
   ]
  },
  {
   "cell_type": "markdown",
   "metadata": {},
   "source": [
    "**Задание 3***\n",
    "\n",
    "Выберите страницу любого сайта с табличными данными. Импортируйте таблицы в pandas dataframe.\n",
    "Примеры страниц (необязательно брать именно эти):\n",
    "    \n",
    "https://fortrader.org/quotes\n",
    "https://www.finanz.ru/valyuty/v-realnom-vremeni\n",
    "\n"
   ]
  },
  {
   "cell_type": "code",
   "execution_count": 127,
   "metadata": {},
   "outputs": [
    {
     "name": "stdout",
     "output_type": "stream",
     "text": [
      "<class 'pandas.core.frame.DataFrame'>\n",
      "                 0           1\n",
      "0  рублей за грамм  13.03.2021\n",
      "1       Золото  Au    4 026,77\n",
      "2      Серебро  Ag        6204\n",
      "3      Платина  Pt    2 772,20\n",
      "4     Палладий  Pd    5 525,49\n"
     ]
    }
   ],
   "source": [
    "a = pd.read_html('http://cbr.ru/key-indicators/')[1]\n",
    "type(a[0])# исключительно для проверки того, что pd.read_html выводт список из объектов data frame\n",
    "print(type(a))\n",
    "print(a"
   ]
  }
 ],
 "metadata": {
  "kernelspec": {
   "display_name": "Python 3",
   "language": "python",
   "name": "python3"
  },
  "language_info": {
   "codemirror_mode": {
    "name": "ipython",
    "version": 3
   },
   "file_extension": ".py",
   "mimetype": "text/x-python",
   "name": "python",
   "nbconvert_exporter": "python",
   "pygments_lexer": "ipython3",
   "version": "3.8.3"
  },
  "toc": {
   "base_numbering": 1,
   "nav_menu": {},
   "number_sections": true,
   "sideBar": true,
   "skip_h1_title": false,
   "title_cell": "Table of Contents",
   "title_sidebar": "Contents",
   "toc_cell": true,
   "toc_position": {},
   "toc_section_display": true,
   "toc_window_display": false
  }
 },
 "nbformat": 4,
 "nbformat_minor": 4
}
