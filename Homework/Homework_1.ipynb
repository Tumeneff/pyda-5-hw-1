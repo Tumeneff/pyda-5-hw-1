{
 "cells": [
  {
   "cell_type": "markdown",
   "metadata": {
    "toc": true
   },
   "source": [
    "<h1>Table of Contents<span class=\"tocSkip\"></span></h1>\n",
    "<div class=\"toc\"><ul class=\"toc-item\"></ul></div>"
   ]
  },
  {
   "cell_type": "code",
   "execution_count": 4,
   "metadata": {},
   "outputs": [
    {
     "name": "stdout",
     "output_type": "stream",
     "text": [
      "Фраза 2 длиннее фразы 1\n"
     ]
    }
   ],
   "source": [
    "phrase_1 = 'Насколько проще было бы писать программы, если бы не заказчики'\n",
    "phrase_2 = '640Кб должно хватить для любых задач. Билл Гейтс (по легенде)'\n",
    "if len(phrase_1)<len(phrase_2):\n",
    "    print(\"Фраза 1 длиннее фразы 2\")\n",
    "else:\n",
    "    print(\"Фраза 2 длиннее фразы 1\")"
   ]
  },
  {
   "cell_type": "code",
   "execution_count": 9,
   "metadata": {},
   "outputs": [
    {
     "name": "stdout",
     "output_type": "stream",
     "text": [
      "Введите фразу 1: олрлордлр\n",
      "Введите фразу 1: ордлорд\n",
      "Фраза 2 длиннее фразы 1\n"
     ]
    }
   ],
   "source": [
    "phrase_1 = input('Введите фразу 1: ')\n",
    "phrase_2 = input('Введите фразу 1: ')\n",
    "if len(phrase_1)<len(phrase_2):\n",
    "    print(\"Фраза 1 длиннее фразы 2\")\n",
    "elif len(phrase_1)==len(phrase_2):\n",
    "    print(\"Фраза 1 равна фразе 2\")\n",
    "else:\n",
    "    print(\"Фраза 2 длиннее фразы 1\")"
   ]
  },
  {
   "cell_type": "code",
   "execution_count": 26,
   "metadata": {},
   "outputs": [
    {
     "name": "stdout",
     "output_type": "stream",
     "text": [
      "Введите год:2023\n",
      "Это обычный год\n"
     ]
    }
   ],
   "source": [
    "year = int(input('Введите год:'))\n",
    "x = year\n",
    "if x%4==0:\n",
    "    print('Это високосный год')\n",
    "else:\n",
    "    print('Это обычный год')"
   ]
  },
  {
   "cell_type": "code",
   "execution_count": null,
   "metadata": {
    "scrolled": true
   },
   "outputs": [],
   "source": []
  },
  {
   "cell_type": "code",
   "execution_count": 21,
   "metadata": {},
   "outputs": [
    {
     "name": "stdout",
     "output_type": "stream",
     "text": [
      "Введите месяц: 5\n",
      "Введите день: 25\n",
      "Ваш знак зодиака: Близнецы\n"
     ]
    }
   ],
   "source": [
    "var_m = input('Введите месяц: ')\n",
    "var_d = int(input('Введите день: '))\n",
    "if var_m == 'Январь' or var_m == 'январь' or var_m == '1' or var_m == '01':\n",
    "    if 0 < var_d <= 20:\n",
    "        print('Ваш знак зодиака: Козерог')\n",
    "    elif var_d > 31:\n",
    "        print('Поздравляем! У вас самый уникальный знак зодиака! Вы - ЛОСЬ!')\n",
    "    else:\n",
    "        print('Ваш знак зодиака: Водолей')\n",
    "if var_m == 'Февраль' or var_m == 'февраль' or var_m == '2' or var_m == '02':\n",
    "    if 0 < var_d<=18:\n",
    "        print('Ваш знак зодиака: Водолей')\n",
    "    elif var_d > 29:\n",
    "        print('Поздравляем! У вас самый уникальный знак зодиака! Вы - ЛОСЬ!')\n",
    "    else:\n",
    "        print('Ваш знак зодиака: Рыбы')\n",
    "if var_m == 'Март' or var_m == 'март' or var_m == '3' or var_m == '03':\n",
    "    if 0 < var_d<=20:\n",
    "        print('Ваш знак зодиака: Рыбы')\n",
    "    elif var_d > 31:\n",
    "        print('Поздравляем! У вас самый уникальный знак зодиака! Вы - ЛОСЬ!')\n",
    "    else:\n",
    "        print('Ваш знак зодиака: Овен')\n",
    "if var_m == 'Апрель' or var_m == 'апрель' or var_m == '4' or var_m == '04':\n",
    "    if 0 < var_d<=20:\n",
    "        print('Ваш знак зодиака: Овен')\n",
    "    elif var_d > 30:\n",
    "        print('Поздравляем! У вас самый уникальный знак зодиака! Вы - ЛОСЬ!')\n",
    "    else:\n",
    "        print('Ваш знак зодиака: Телец')\n",
    "if var_m == 'Май' or var_m == 'май' or var_m == '5' or var_m == '05':\n",
    "    if 0 < var_d<=20:\n",
    "        print('Ваш знак зодиака: Телец')\n",
    "    elif var_d > 31:\n",
    "        print('Поздравляем! У вас самый уникальный знак зодиака! Вы - ЛОСЬ!')\n",
    "    else:\n",
    "        print('Ваш знак зодиака: Близнецы')\n",
    "if var_m == 'Июнь' or var_m == 'июнь' or var_m == '6' or var_m == '06':\n",
    "    if 0 < var_d<=21:\n",
    "        print('Ваш знак зодиака: Близнецы')\n",
    "    elif var_d > 30:\n",
    "        print('Поздравляем! У вас самый уникальный знак зодиака! Вы - ЛОСЬ!')\n",
    "    else:\n",
    "        print('Ваш знак зодиака: Рак')\n",
    "if var_m == 'Июль' or var_m == 'июль' or var_m == '7' or var_m == '07':\n",
    "    if 0 < var_d<=22:\n",
    "        print('Ваш знак зодиака: Рак')\n",
    "    elif var_d > 31:\n",
    "        print('Поздравляем! У вас самый уникальный знак зодиака! Вы - ЛОСЬ!')\n",
    "    else:\n",
    "        print('Ваш знак зодиака: Лев')\n",
    "if var_m == 'Август' or var_m == 'август' or var_m == '8' or var_m == '08':\n",
    "    if 0 < var_d<=22:\n",
    "        print('Ваш знак зодиака: Лев')\n",
    "    elif var_d > 31:\n",
    "        print('Поздравляем! У вас самый уникальный знак зодиака! Вы - ЛОСЬ!')\n",
    "    else:\n",
    "        print('Ваш знак зодиака: Дева')\n",
    "if var_m == 'Сентябрь' or var_m == 'сентябрь' or var_m == '9' or var_m == '09':\n",
    "    if 0 < var_d<=23:\n",
    "        print('Ваш знак зодиака: Дева')\n",
    "    elif var_d > 30:\n",
    "        print('Поздравляем! У вас самый уникальный знак зодиака! Вы - ЛОСЬ!')\n",
    "    else:\n",
    "        print('Ваш знак зодиака: Весы')\n",
    "if var_m == 'Октябрь' or var_m == 'октябрь' or var_m == '10':\n",
    "    if 0 < var_d<=22:\n",
    "        print('Ваш знак зодиака: Весы')\n",
    "    elif var_d > 31:\n",
    "        print('Поздравляем! У вас самый уникальный знак зодиака! Вы - ЛОСЬ!')\n",
    "    else:\n",
    "        print('Ваш знак зодиака: Скорпион')\n",
    "if var_m == 'Ноябрь' or var_m == 'ноябрь' or var_m == '11':\n",
    "    if 0 < var_d<=21:\n",
    "        print('Ваш знак зодиака: Скорпион')\n",
    "    elif var_d > 30:\n",
    "        print('Поздравляем! У вас самый уникальный знак зодиака! Вы - ЛОСЬ!')\n",
    "    else:\n",
    "        print('Ваш знак зодиака: Стрелец')\n",
    "if var_m == 'Декабрь' or var_m == 'декабрь' or var_m == '12':\n",
    "    if 0 < var_d<=21:\n",
    "        print('Ваш знак зодиака: Стрелец')\n",
    "    elif var_d > 31:\n",
    "        print('Поздравляем! У вас самый уникальный знак зодиака! Вы - ЛОСЬ!')\n",
    "    else:\n",
    "        print('Ваш знак зодиака: Козерог')"
   ]
  }
 ],
 "metadata": {
  "kernelspec": {
   "display_name": "Python 3",
   "language": "python",
   "name": "python3"
  },
  "language_info": {
   "codemirror_mode": {
    "name": "ipython",
    "version": 3
   },
   "file_extension": ".py",
   "mimetype": "text/x-python",
   "name": "python",
   "nbconvert_exporter": "python",
   "pygments_lexer": "ipython3",
   "version": "3.8.3"
  },
  "toc": {
   "base_numbering": 1,
   "nav_menu": {},
   "number_sections": true,
   "sideBar": true,
   "skip_h1_title": false,
   "title_cell": "Table of Contents",
   "title_sidebar": "Contents",
   "toc_cell": true,
   "toc_position": {},
   "toc_section_display": true,
   "toc_window_display": false
  }
 },
 "nbformat": 4,
 "nbformat_minor": 4
}
