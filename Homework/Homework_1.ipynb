{
 "cells": [
  {
   "cell_type": "markdown",
   "metadata": {
    "toc": true
   },
   "source": [
    "<h1>Table of Contents<span class=\"tocSkip\"></span></h1>\n",
    "<div class=\"toc\"><ul class=\"toc-item\"></ul></div>"
   ]
  },
  {
   "cell_type": "code",
   "execution_count": 4,
   "metadata": {},
   "outputs": [
    {
     "name": "stdout",
     "output_type": "stream",
     "text": [
      "Фраза 2 длиннее фразы 1\n"
     ]
    }
   ],
   "source": [
    "phrase_1 = 'Насколько проще было бы писать программы, если бы не заказчики'\n",
    "phrase_2 = '640Кб должно хватить для любых задач. Билл Гейтс (по легенде)'\n",
    "if len(phrase_1)<len(phrase_2):\n",
    "    print(\"Фраза 1 длиннее фразы 2\")\n",
    "else:\n",
    "    print(\"Фраза 2 длиннее фразы 1\")"
   ]
  },
  {
   "cell_type": "code",
   "execution_count": 9,
   "metadata": {},
   "outputs": [
    {
     "name": "stdout",
     "output_type": "stream",
     "text": [
      "Введите фразу 1: олрлордлр\n",
      "Введите фразу 1: ордлорд\n",
      "Фраза 2 длиннее фразы 1\n"
     ]
    }
   ],
   "source": [
    "# Задача №1\n",
    "phrase_1 = input('Введите фразу 1: ')\n",
    "phrase_2 = input('Введите фразу 1: ')\n",
    "if len(phrase_1)<len(phrase_2):\n",
    "    print(\"Фраза 1 длиннее фразы 2\")\n",
    "elif len(phrase_1)==len(phrase_2):\n",
    "    print(\"Фраза 1 равна фразе 2\")\n",
    "else:\n",
    "    print(\"Фраза 2 длиннее фразы 1\")"
   ]
  },
  {
   "cell_type": "code",
   "execution_count": 26,
   "metadata": {},
   "outputs": [
    {
     "name": "stdout",
     "output_type": "stream",
     "text": [
      "Введите год:2023\n",
      "Это обычный год\n"
     ]
    }
   ],
   "source": [
    "# Задача №2\n",
    "year = int(input('Введите год:'))\n",
    "x = year\n",
    "if x%4==0:\n",
    "    print('Это високосный год')\n",
    "else:\n",
    "    print('Это обычный год')"
   ]
  },
  {
   "cell_type": "code",
   "execution_count": 22,
   "metadata": {
    "scrolled": true
   },
   "outputs": [
    {
     "name": "stdout",
     "output_type": "stream",
     "text": [
      "Введите месяц: 5\n",
      "Введите день: 4\n",
      "Ваш знак зодиака: Телец\n"
     ]
    }
   ],
   "source": [
    "# Задача №3\n",
    "var_m = input('Введите месяц: ')\n",
    "var_d = int(input('Введите день: '))\n",
    "if var_m == 'Январь' or var_m == 'январь' or var_m == '1' or var_m == '01':\n",
    "    if 0 < var_d <= 20:\n",
    "        print('Ваш знак зодиака: Козерог')\n",
    "    elif var_d > 31:\n",
    "        print('Поздравляем! У вас самый уникальный знак зодиака! Вы - ЛОСЬ!')\n",
    "    else:\n",
    "        print('Ваш знак зодиака: Водолей')\n",
    "if var_m == 'Февраль' or var_m == 'февраль' or var_m == '2' or var_m == '02':\n",
    "    if 0 < var_d<=18:\n",
    "        print('Ваш знак зодиака: Водолей')\n",
    "    elif var_d > 29:\n",
    "        print('Поздравляем! У вас самый уникальный знак зодиака! Вы - ЛОСЬ!')\n",
    "    else:\n",
    "        print('Ваш знак зодиака: Рыбы')\n",
    "if var_m == 'Март' or var_m == 'март' or var_m == '3' or var_m == '03':\n",
    "    if 0 < var_d<=20:\n",
    "        print('Ваш знак зодиака: Рыбы')\n",
    "    elif var_d > 31:\n",
    "        print('Поздравляем! У вас самый уникальный знак зодиака! Вы - ЛОСЬ!')\n",
    "    else:\n",
    "        print('Ваш знак зодиака: Овен')\n",
    "if var_m == 'Апрель' or var_m == 'апрель' or var_m == '4' or var_m == '04':\n",
    "    if 0 < var_d<=20:\n",
    "        print('Ваш знак зодиака: Овен')\n",
    "    elif var_d > 30:\n",
    "        print('Поздравляем! У вас самый уникальный знак зодиака! Вы - ЛОСЬ!')\n",
    "    else:\n",
    "        print('Ваш знак зодиака: Телец')\n",
    "if var_m == 'Май' or var_m == 'май' or var_m == '5' or var_m == '05':\n",
    "    if 0 < var_d<=20:\n",
    "        print('Ваш знак зодиака: Телец')\n",
    "    elif var_d > 31:\n",
    "        print('Поздравляем! У вас самый уникальный знак зодиака! Вы - ЛОСЬ!')\n",
    "    else:\n",
    "        print('Ваш знак зодиака: Близнецы')\n",
    "if var_m == 'Июнь' or var_m == 'июнь' or var_m == '6' or var_m == '06':\n",
    "    if 0 < var_d<=21:\n",
    "        print('Ваш знак зодиака: Близнецы')\n",
    "    elif var_d > 30:\n",
    "        print('Поздравляем! У вас самый уникальный знак зодиака! Вы - ЛОСЬ!')\n",
    "    else:\n",
    "        print('Ваш знак зодиака: Рак')\n",
    "if var_m == 'Июль' or var_m == 'июль' or var_m == '7' or var_m == '07':\n",
    "    if 0 < var_d<=22:\n",
    "        print('Ваш знак зодиака: Рак')\n",
    "    elif var_d > 31:\n",
    "        print('Поздравляем! У вас самый уникальный знак зодиака! Вы - ЛОСЬ!')\n",
    "    else:\n",
    "        print('Ваш знак зодиака: Лев')\n",
    "if var_m == 'Август' or var_m == 'август' or var_m == '8' or var_m == '08':\n",
    "    if 0 < var_d<=22:\n",
    "        print('Ваш знак зодиака: Лев')\n",
    "    elif var_d > 31:\n",
    "        print('Поздравляем! У вас самый уникальный знак зодиака! Вы - ЛОСЬ!')\n",
    "    else:\n",
    "        print('Ваш знак зодиака: Дева')\n",
    "if var_m == 'Сентябрь' or var_m == 'сентябрь' or var_m == '9' or var_m == '09':\n",
    "    if 0 < var_d<=23:\n",
    "        print('Ваш знак зодиака: Дева')\n",
    "    elif var_d > 30:\n",
    "        print('Поздравляем! У вас самый уникальный знак зодиака! Вы - ЛОСЬ!')\n",
    "    else:\n",
    "        print('Ваш знак зодиака: Весы')\n",
    "if var_m == 'Октябрь' or var_m == 'октябрь' or var_m == '10':\n",
    "    if 0 < var_d<=22:\n",
    "        print('Ваш знак зодиака: Весы')\n",
    "    elif var_d > 31:\n",
    "        print('Поздравляем! У вас самый уникальный знак зодиака! Вы - ЛОСЬ!')\n",
    "    else:\n",
    "        print('Ваш знак зодиака: Скорпион')\n",
    "if var_m == 'Ноябрь' or var_m == 'ноябрь' or var_m == '11':\n",
    "    if 0 < var_d<=21:\n",
    "        print('Ваш знак зодиака: Скорпион')\n",
    "    elif var_d > 30:\n",
    "        print('Поздравляем! У вас самый уникальный знак зодиака! Вы - ЛОСЬ!')\n",
    "    else:\n",
    "        print('Ваш знак зодиака: Стрелец')\n",
    "if var_m == 'Декабрь' or var_m == 'декабрь' or var_m == '12':\n",
    "    if 0 < var_d<=21:\n",
    "        print('Ваш знак зодиака: Стрелец')\n",
    "    elif var_d > 31:\n",
    "        print('Поздравляем! У вас самый уникальный знак зодиака! Вы - ЛОСЬ!')\n",
    "    else:\n",
    "        print('Ваш знак зодиака: Козерог')"
   ]
  },
  {
   "cell_type": "code",
   "execution_count": 35,
   "metadata": {},
   "outputs": [
    {
     "name": "stdout",
     "output_type": "stream",
     "text": [
      "Введите длину в сантиметрах: 5\n",
      "Введите высоту в сантиметрах: 5\n",
      "Введите ширину в сантиметрах: 5\n",
      "Коробка №1\n"
     ]
    }
   ],
   "source": [
    "# Задача №4\n",
    "var_length = int(input('Введите длину в сантиметрах: '))\n",
    "var_height = int(input('Введите высоту в сантиметрах: '))\n",
    "var_width = int(input('Введите ширину в сантиметрах: '))\n",
    "x = var_length\n",
    "y = var_width\n",
    "z = var_height\n",
    "if (x > 200 and y<50 and z<50):\n",
    "    print('Упаковка для лыж')\n",
    "elif x <= 15 and y <= 15 and z <= 15:\n",
    "    print('Коробка №1')\n",
    "elif 15 < x <=50 or 15 < y <= 50 or 15 < z <= 50:\n",
    "    if x <= 50 and y <= 50 and z <= 50:\n",
    "        print('Коробка №2')\n",
    "    else:\n",
    "        print ('Стандартная коробка №3')\n",
    "else:\n",
    "    print ('Стандартная коробка №3')"
   ]
  },
  {
   "cell_type": "code",
   "execution_count": 21,
   "metadata": {},
   "outputs": [
    {
     "name": "stdout",
     "output_type": "stream",
     "text": [
      "Введите шесть цифр билетика: 234458\n",
      "Лузер!\n"
     ]
    }
   ],
   "source": [
    "# Задача №5\n",
    "n = input(\"Введите шесть цифр билетика: \")\n",
    "n = int(n)\n",
    "d1 = n % 10 # шестая цифра в ряду\n",
    "d2 = n % 100 // 10 # пятая цифра в ряду\n",
    "d3 = n % 1000 // 100 # четвертая цифра в ряду\n",
    "d4 = n % 10000 // 1000 # третья цифра в ряду\n",
    "d5 = n % 100000 // 10000 # вторая цифра в ряду\n",
    "d6 = n % 1000000 // 100000 # перваяая цифра в ряду\n",
    "\n",
    "var_ft = (d1 + d2 + d3)\n",
    "var_st = (d4 + d5 + d6)\n",
    "if var_ft == var_st:\n",
    "    print(\"Счастливый билет\")\n",
    "else:\n",
    "    print(\"Лузер!\")"
   ]
  },
  {
   "cell_type": "code",
   "execution_count": 20,
   "metadata": {},
   "outputs": [
    {
     "name": "stdout",
     "output_type": "stream",
     "text": [
      "Введите название фигуры: треугольник\n",
      "Введите длину стороны А:45\n",
      "Введите длину стороны B:85\n",
      "Введите длину стороны C:95\n",
      "Площадь треугольника равна:  1911.6726151462233 каких-то единиц в квадрате\n"
     ]
    }
   ],
   "source": [
    "# Задача №6\n",
    "var_f = input('Введите название фигуры: ')\n",
    "if var_f == 'круг' or var_f == 'Круг' or var_f == 'Circle' or var_f == 'circle':\n",
    "    var_r = int(input('Введите радиус:'))\n",
    "    var_s = 3.14*(var_r**2)\n",
    "    print('Площадь круга равна: ', var_s, 'каких-то единиц в квадрате')\n",
    "elif var_f == 'прямоугольник' or var_f == 'Прямоугольник' or var_f == 'Rectangle' or var_f == 'rectangle':\n",
    "    var_a = int(input('Введите длину стороны А:'))\n",
    "    var_b = int(input('Введите длину стороны B:'))\n",
    "    var_sr = (var_a*var_b)\n",
    "    print('Площадь прямоугольника равна: ', var_sr, 'каких-то единиц в квадрате')\n",
    "elif var_f == 'треугольник' or var_f == 'Треугольник' or var_f == 'Triangle' or var_f == 'triangle':\n",
    "    var_at = int(input('Введите длину стороны А:'))\n",
    "    var_bt = int(input('Введите длину стороны B:'))\n",
    "    var_c = int(input('Введите длину стороны C:'))\n",
    "    var_p = (var_at + var_bt + var_c)/2\n",
    "    var_st = (var_p*((var_p - var_at)*(var_p - var_bt)*(var_p - var_c)))**.5\n",
    "    print('Площадь треугольника равна: ', var_st, 'каких-то единиц в квадрате')\n",
    "else:\n",
    "    print('Введите \"круг\", \"прямоугольник\" или \"треугольник\"')"
   ]
  }
 ],
 "metadata": {
  "kernelspec": {
   "display_name": "Python 3",
   "language": "python",
   "name": "python3"
  },
  "language_info": {
   "codemirror_mode": {
    "name": "ipython",
    "version": 3
   },
   "file_extension": ".py",
   "mimetype": "text/x-python",
   "name": "python",
   "nbconvert_exporter": "python",
   "pygments_lexer": "ipython3",
   "version": "3.8.3"
  },
  "toc": {
   "base_numbering": 1,
   "nav_menu": {},
   "number_sections": true,
   "sideBar": true,
   "skip_h1_title": false,
   "title_cell": "Table of Contents",
   "title_sidebar": "Contents",
   "toc_cell": true,
   "toc_position": {},
   "toc_section_display": true,
   "toc_window_display": false
  }
 },
 "nbformat": 4,
 "nbformat_minor": 4
}
