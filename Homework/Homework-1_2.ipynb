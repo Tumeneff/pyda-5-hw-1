{
 "cells": [
  {
   "cell_type": "markdown",
   "metadata": {
    "toc": true
   },
   "source": [
    "<h1>Table of Contents<span class=\"tocSkip\"></span></h1>\n",
    "<div class=\"toc\"><ul class=\"toc-item\"></ul></div>"
   ]
  },
  {
   "cell_type": "code",
   "execution_count": null,
   "metadata": {},
   "outputs": [],
   "source": [
    "#Задача №1\n",
    "var_text = input(\"Введите слово: \\n\")\n",
    "list(var_text)\n",
    "a = ' '\n",
    "if a not in var_text:\n",
    "    if len(var_text)%2!=0:\n",
    "        a = len(var_text)\n",
    "        b = a//2\n",
    "        print('Буква посередине: ', var_text[b])\n",
    "    else:\n",
    "        a = len(var_text)\n",
    "        b = a//2\n",
    "        var_text_1 = (var_text[0:b])\n",
    "        var_text_2 = (var_text[b:-1])\n",
    "        print('Две буквы посередине: ',var_text_1[-1]+var_text_2[0])\n",
    "else:\n",
    "    print('Вас просили ввести одно слово, а не фразу!')"
   ]
  },
  {
   "cell_type": "code",
   "execution_count": 4,
   "metadata": {},
   "outputs": [
    {
     "name": "stdout",
     "output_type": "stream",
     "text": [
      "Введите число: 2\n",
      "Введите еще одно число: 2\n",
      "Введите еще одно число: 2\n",
      "Введите еще одно число: 5\n",
      "Введите еще одно число: 8\n",
      "Введите еще одно число: 0\n",
      "Сумма введенных чисел:  19\n"
     ]
    }
   ],
   "source": [
    "# Задача №2\n",
    "var_i = int(input(\"Введите число: \"))\n",
    "var_sum = 0\n",
    "while var_i!=0:\n",
    "    var_sum += var_i\n",
    "    var_i = int(input(\"Введите еще одно число: \"))\n",
    "print('Сумма введенных чисел: ', var_sum)"
   ]
  },
  {
   "cell_type": "code",
   "execution_count": null,
   "metadata": {},
   "outputs": [],
   "source": [
    "# Задача №3\n",
    "boys_string = input(\"Введите имена молодых людей через запятую:\\n\")\n",
    "boys_string = boys_string.title()\n",
    "boys = boys_string.split(', ')\n",
    "\n",
    "girls_string = input(\"\\nВведите имена девушек через запятую:\\n\")\n",
    "girls_string = girls_string.title()\n",
    "girls = girls_string.split(', ')\n",
    "\n",
    "boys_sorted = sorted(boys)\n",
    "girls_sorted = sorted(girls)\n",
    "boys_and_girls = zip(boys_sorted, girls_sorted)\n",
    "mvp_list = list(boys_and_girls)\n",
    "print('\\nИдеальные пары:\\n')\n",
    "for out_list in mvp_list:\n",
    "    if out_list [0:1]:\n",
    "        print(out_list[0], 'и', out_list[1])\n",
    "        "
   ]
  },
  {
   "cell_type": "code",
   "execution_count": null,
   "metadata": {},
   "outputs": [],
   "source": [
    "#Задача №4\n",
    "countries_temperature = [\n",
    "    ['Thailand', [75.2, 77, 78.8, 73.4, 68, 75.2, 77]],\n",
    "    ['Germany', [57.2, 55.4, 59, 59, 53.6]],\n",
    "    ['Russia', [35.6, 37.4, 39.2, 41, 42.8, 39.2, 35.6]],\n",
    "    ['Poland', [50, 50, 53.6, 57.2, 55.4, 55.4]]\n",
    "]\n",
    "print('Средняя температура в странах:')\n",
    "for country in countries_temperature:\n",
    "    a_f_average = ((sum(country[1]))/len(country[1]))\n",
    "    a_c_average = 5/9*(a_f_average - 32)\n",
    "    print(country[0], '-', round(a_c_average,1), 'С')"
   ]
  },
  {
   "cell_type": "code",
   "execution_count": null,
   "metadata": {},
   "outputs": [],
   "source": [
    "#Задача №5 (хоть и практически решили на онлайн-занятии, все же, выложу)\n",
    "stream = [\n",
    "    '2018-01-01,user1,3',\n",
    "    '2018-01-07,user1,4',\n",
    "    '2018-03-29,user1,1',\n",
    "    '2018-04-04,user1,13',\n",
    "    '2018-01-05,user2,7',\n",
    "    '2018-06-14,user3,4',\n",
    "    '2018-07-02,user3,10',\n",
    "    '2018-03-21,user4,19',\n",
    "    '2018-03-22,user4,4',\n",
    "    '2018-04-22,user4,8',\n",
    "    '2018-05-03,user4,9',\n",
    "    '2018-05-11,user4,11',\n",
    "]\n",
    "uniq_views = 0\n",
    "stream_list = []\n",
    "for s in stream:\n",
    "    splitted_s = s.split(',')\n",
    "    uniq_views += int(splitted_s[2])\n",
    "    if splitted_s[1] not in stream_list:\n",
    "        stream_list.append(splitted_s[1])\n",
    "a = (uniq_views/len(stream_list))\n",
    "print('Среднее количество просмотров на уникального пользователя:', round(a,1))"
   ]
  },
  {
   "cell_type": "code",
   "execution_count": null,
   "metadata": {
    "scrolled": true
   },
   "outputs": [],
   "source": [
    "#Задача №6 (отдельная хитрость была в том, что сортировка объектов string не подходила и нужно бфло все перевести в int, \n",
    "# а потом для вывода итоговых значений без скобок, обратно все перевести в string, поскольку метод .join с int не работает.\n",
    "# И вот это я честно гуглил)\n",
    "var_int = input('Введите числовой ряд, разделенный пробелами: ')\n",
    "var_list = var_int.split(' ')\n",
    "#' '.join(var_list[::1])\n",
    "#print(var_list)\n",
    "nd_list = []\n",
    "for i in var_list:\n",
    "    if var_list.count(i)>=2:\n",
    "        if i not in nd_list:\n",
    "            nd_list.append(i)\n",
    "int_duplicates = [int(i) for i in nd_list]\n",
    "int_sorted = sorted(int_duplicates)\n",
    "print('Дубликатами являются:\\n', (', '.join(str(i) for i in int_sorted)))"
   ]
  }
 ],
 "metadata": {
  "kernelspec": {
   "display_name": "Python 3",
   "language": "python",
   "name": "python3"
  },
  "language_info": {
   "codemirror_mode": {
    "name": "ipython",
    "version": 3
   },
   "file_extension": ".py",
   "mimetype": "text/x-python",
   "name": "python",
   "nbconvert_exporter": "python",
   "pygments_lexer": "ipython3",
   "version": "3.8.3"
  },
  "toc": {
   "base_numbering": 1,
   "nav_menu": {},
   "number_sections": true,
   "sideBar": true,
   "skip_h1_title": false,
   "title_cell": "Table of Contents",
   "title_sidebar": "Contents",
   "toc_cell": true,
   "toc_position": {},
   "toc_section_display": true,
   "toc_window_display": false
  }
 },
 "nbformat": 4,
 "nbformat_minor": 4
}
