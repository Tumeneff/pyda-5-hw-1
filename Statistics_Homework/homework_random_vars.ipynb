{
 "cells": [
  {
   "cell_type": "markdown",
   "metadata": {
    "toc": true
   },
   "source": [
    "<h1>Table of Contents<span class=\"tocSkip\"></span></h1>\n",
    "<div class=\"toc\"><ul class=\"toc-item\"></ul></div>"
   ]
  },
  {
   "cell_type": "code",
   "execution_count": 2,
   "metadata": {},
   "outputs": [],
   "source": [
    "import numpy as np"
   ]
  },
  {
   "cell_type": "code",
   "execution_count": 72,
   "metadata": {},
   "outputs": [
    {
     "data": {
      "text/plain": [
       "0.5965965965965967"
      ]
     },
     "execution_count": 72,
     "metadata": {},
     "output_type": "execute_result"
    }
   ],
   "source": [
    "ph_3n = (1/999) #для всех вариантов с 3 одинаковыми числами\n",
    "ph_2n = (9/999) #для *77\n",
    "ph_0n = (10/999) #для *00\n",
    "ph_1n = (90/999) #для **7 и для **0\n",
    "ph_n = (795/999) #для проигрыша. Рассчитывается, как 999 минус сумма всех вышеописанных случаев выигрыша. \n",
    "P_a = (ph_3n*(200-1))+(ph_3n*(100-1))+(ph_3n*(50-1))+(ph_3n*(15-1))+(ph_3n*(10-1))+(ph_2n*(5-1))+(ph_1n*(3-1))+(ph_1n*(1-1))+(ph_0n*(2-1))\n",
    "P_a #Общая полная вероятность выигрыша.Сюда входит и результат **0, который для игрока абсолютно нулевой.\n"
   ]
  },
  {
   "cell_type": "markdown",
   "metadata": {},
   "source": [
    "Таким образом в **59%** случаев игрок что-то, да выиграет. Однако, в данную вероятность входят и случаи когда, выигрыш составляет 1 руб., что при минимальной цене участия также в 1 руб. делает его нулевым. "
   ]
  },
  {
   "cell_type": "markdown",
   "metadata": {},
   "source": [
    "**И здесь мы подходим к вопросу о рентабельности игры:**"
   ]
  },
  {
   "cell_type": "code",
   "execution_count": 73,
   "metadata": {},
   "outputs": [
    {
     "name": "stdout",
     "output_type": "stream",
     "text": [
      "Вероятность выпадания любых 3 одинаковых цифр:  0.5 %\n",
      "Вероятность выпадания по отдельности 777, 999, 555, 333 или 111:  0.1 %\n",
      "Вероятность выпадания *77:  0.9 %\n",
      "Вероятность 7 или 0 в конце :  9.01 %\n",
      "Вероятность конкретных двух нулей:  1.0 %\n",
      "Вероятность отсутствия выигрыша вообще:  79.58 %\n"
     ]
    }
   ],
   "source": [
    "print('Вероятность выпадания любых 3 одинаковых цифр: ', round((ph_3n*5)*100, 2), '%')\n",
    "print('Вероятность выпадания по отдельности 777, 999, 555, 333 или 111: ', round(ph_3n*100, 2), '%')\n",
    "print('Вероятность выпадания *77: ', round(ph_2n*100, 2), '%')\n",
    "print('Вероятность 7 или 0 в конце : ', round(ph_1n*100, 2), '%')\n",
    "print('Вероятность конкретных двух нулей: ', round(ph_0n*100, 2), '%')\n",
    "print('Вероятность отсутствия выигрыша вообще: ',  round(ph_n*100, 2), '%')"
   ]
  },
  {
   "cell_type": "markdown",
   "metadata": {},
   "source": [
    "Выше рассчитанные вероятности выигрыша показывают, что:\n",
    "- даже для достижения самого вероятного заработка в 2 рубля (то есть при выпадании 7 в конце) игроку в среднем потребуется потратить сверху ***11 рублей*** (100/9.01 = 11.09);\n",
    "- чтобы заработать 1 рубль (то есть при выпадании 00) игроку, в среднем, потребуется потратить сверху ***100 рублей*** (100/1 = 100);\n",
    "- чтобы заработать 4 рубля (то есть при выпадании 77) игроку, в среднем, потребуется потратить сверху ***200 руб.***  (100/0,9 = 111);\n",
    "- с вероятностью в 20% игроку потребуется всего лишь ***200 руб.*** (100/0,5= 200), чтобы заработать те же 200 руб., (диапазон от 111 до 777делим на количество вариантов = 5,получаем 20%), но если игрок намерился гарантированно получить эти самые 200 руб., то ему надо готовить всю ***1000*** (100*0,1 = 1000)."
   ]
  },
  {
   "cell_type": "code",
   "execution_count": 75,
   "metadata": {},
   "outputs": [
    {
     "name": "stdout",
     "output_type": "stream",
     "text": [
      "Сумма выигрышей:  587854\n",
      "Количество попыток:  1000000\n",
      "Смоделированная вероятность выигрыша:  0.587854\n",
      "Смоделированная вероятность проигрыша:  0.795284\n",
      "Полная вероятность выигрыша:  0.5965965965965967\n",
      "Полная вероятность проигрыша:  0.7957957957957958\n"
     ]
    }
   ],
   "source": [
    "trials = 1000000    # Количество испытуемых\n",
    "\n",
    "successes = 0    # Количество успехов\n",
    "loses = 0\n",
    "for i in range(trials):\n",
    "    random_score = np.random.randint(0, 1000)    # Случайное число от 0 до 999\n",
    "    if random_score == 777:\n",
    "        successes += 199\n",
    "    elif random_score == 999:\n",
    "        successes += 99\n",
    "    elif random_score == 555:\n",
    "        successes += 49\n",
    "    elif random_score == 333:\n",
    "        successes += 14\n",
    "    elif random_score == 111:\n",
    "        successes += 9\n",
    "    elif random_score%100 == 77:\n",
    "        successes += 4\n",
    "    elif random_score%100 == 0:\n",
    "        successes += 1\n",
    "    elif random_score%10 == 7:\n",
    "        successes += 2\n",
    "    elif random_score%10 == 0:\n",
    "        successes += 0\n",
    "    else:\n",
    "        loses +=1\n",
    "        \n",
    "p_monte_carlo_of_successes = successes / trials    # Вероятность выигрыша из моделирования\n",
    "p_monte_carlo_of_loses = loses / trials    # Вероятность проигрыша из моделирования\n",
    "\n",
    "print('Сумма выигрышей: ', successes)\n",
    "print('Количество попыток: ', trials)\n",
    "print('Смоделированная вероятность выигрыша: ', p_monte_carlo_of_successes)\n",
    "print('Смоделированная вероятность проигрыша: ', p_monte_carlo_of_loses)\n",
    "print('Полная вероятность выигрыша: ', P_a)\n",
    "print('Полная вероятность проигрыша: ', ph_n)"
   ]
  },
  {
   "cell_type": "markdown",
   "metadata": {},
   "source": [
    "**Все сошлось**"
   ]
  }
 ],
 "metadata": {
  "kernelspec": {
   "display_name": "Python 3",
   "language": "python",
   "name": "python3"
  },
  "language_info": {
   "codemirror_mode": {
    "name": "ipython",
    "version": 3
   },
   "file_extension": ".py",
   "mimetype": "text/x-python",
   "name": "python",
   "nbconvert_exporter": "python",
   "pygments_lexer": "ipython3",
   "version": "3.8.3"
  },
  "toc": {
   "base_numbering": 1,
   "nav_menu": {},
   "number_sections": true,
   "sideBar": true,
   "skip_h1_title": false,
   "title_cell": "Table of Contents",
   "title_sidebar": "Contents",
   "toc_cell": true,
   "toc_position": {},
   "toc_section_display": true,
   "toc_window_display": false
  }
 },
 "nbformat": 4,
 "nbformat_minor": 4
}
