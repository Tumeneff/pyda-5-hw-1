{
 "cells": [
  {
   "cell_type": "markdown",
   "metadata": {
    "toc": true
   },
   "source": [
    "<h1>Table of Contents<span class=\"tocSkip\"></span></h1>\n",
    "<div class=\"toc\"><ul class=\"toc-item\"></ul></div>"
   ]
  },
  {
   "cell_type": "markdown",
   "metadata": {},
   "source": [
    "**Задание 1**\n",
    "\n",
    "Печатные газеты использовали свой формат дат для каждого выпуска. Для каждой газеты из списка напишите формат указанной даты для перевода в объект datetime:\n",
    "The Moscow Times - Wednesday, October 2, 2002\n",
    "The Guardian - Friday, 11.10.13\n",
    "Daily News - Thursday, 18 August 1977"
   ]
  },
  {
   "cell_type": "code",
   "execution_count": null,
   "metadata": {},
   "outputs": [],
   "source": [
    "from datetime import datetime\n",
    "\n",
    "Moscow_t = \"Wednesday, October 2, 2002\" #The Moscow Times time and date format\n",
    "Guardian_t = 'Friday, 11.10.13' #The Guardian time and date format\n",
    "DNews_t = 'Thursday, 18 August 1977' #Daily News time and date format\n",
    "Moscow_datetime = datetime.strptime(Moscow_t, '%A, %B %d, %Y')\n",
    "Guardian_datetime = datetime.strptime(Guardian_t, '%A, %m.%d.%y')\n",
    "DNews_datetime = datetime.strptime(DNews_t, '%A, %d %B %Y')\n",
    "\n",
    "# Moscow_datetime\n",
    "# Guardian_datetime\n",
    "DNews_datetime"
   ]
  },
  {
   "cell_type": "markdown",
   "metadata": {},
   "source": [
    "**Задание 2**\n",
    "\n",
    "Дан поток дат в формате YYYY-MM-DD, в которых встречаются некорректные значения:\n",
    "stream = [‘2018-04-02’, ‘2018-02-29’, ‘2018-19-02’]\n",
    "\n",
    "Напишите функцию, которая проверяет эти даты на корректность. Т. е. для каждой даты возвращает True (дата корректна) или False (некорректная дата)."
   ]
  },
  {
   "cell_type": "markdown",
   "metadata": {},
   "source": [
    "**Ниже приведены три варианта решения:**\n",
    "1. Решение без помощи библиотеки check_date, а только с помощью цикла. Данное решение предполагает исключительно проверку на правильность написания месяца, но так же вполне легко реализовать и по году и дню. В общем, для примера. Сделал только по тому, что в лекции было сказано, что использование библиотеки при обработке больших массивов данных может замедлять процесс работы машины.\n",
    "2. Использование библиотеки check_date с выводом в итоге словаря со списком правильных и неправильных дат. Можно и просто списком с True, False, но так мне показалось нагляднее\n",
    "3. Решение налогично второму, но с печатью реультата."
   ]
  },
  {
   "cell_type": "code",
   "execution_count": 14,
   "metadata": {},
   "outputs": [
    {
     "name": "stdout",
     "output_type": "stream",
     "text": [
      "2018-04-02: True\n",
      "2018-02-29: True\n",
      "2018-19-02: False\n"
     ]
    }
   ],
   "source": [
    "stream = ['2018-04-02', '2018-02-29', '2018-19-02']\n",
    "def check_date(massive):\n",
    "    check_d = {}\n",
    "    for el in massive:\n",
    "        a = int(el[5:7])\n",
    "        if a in range(12):\n",
    "            check_d[el] = True\n",
    "        else:\n",
    "            check_d[el] = False\n",
    "    return print('\\n'.join(\"{}: {}\".format(k, v) for k, v in check_d.items()))\n",
    "check_date(stream)"
   ]
  },
  {
   "cell_type": "code",
   "execution_count": 13,
   "metadata": {},
   "outputs": [
    {
     "data": {
      "text/plain": [
       "{'2018-04-02': True, '2018-02-29': False, '2018-19-02': False}"
      ]
     },
     "execution_count": 13,
     "metadata": {},
     "output_type": "execute_result"
    }
   ],
   "source": [
    "stream = ['2018-04-02', '2018-02-29', '2018-19-02']\n",
    "\n",
    "def check_date(el):\n",
    "    from datetime import datetime\n",
    "    try:\n",
    "        datetime.strptime(el, '%Y-%m-%d' )\n",
    "        return True\n",
    "    except:\n",
    "        return False\n",
    "\n",
    "def el_monitor(massive):\n",
    "    check_dict = {}\n",
    "    for el in massive:\n",
    "        if check_date(el):\n",
    "            check_dict[el] = True\n",
    "        else:\n",
    "            check_dict[el] = False\n",
    "    return check_dict\n",
    "el_monitor(stream)"
   ]
  },
  {
   "cell_type": "code",
   "execution_count": 17,
   "metadata": {},
   "outputs": [
    {
     "name": "stdout",
     "output_type": "stream",
     "text": [
      "2018-04-02  правильный\n",
      "2018-02-29  НЕ правильный\n",
      "2018-19-02  НЕ правильный\n"
     ]
    }
   ],
   "source": [
    "stream = ['2018-04-02', '2018-02-29', '2018-19-02']\n",
    "stream1 = ['2018-04-02', '2018-02-29', '2018-12-02']\n",
    "\n",
    "def check_date(el):\n",
    "    from datetime import datetime\n",
    "    try:\n",
    "        datetime.strptime(el, '%Y-%m-%d' )\n",
    "        return True\n",
    "    except:\n",
    "        return False\n",
    "\n",
    "def el_monitor(massive):\n",
    "    for el in massive:\n",
    "        if check_date(el):\n",
    "            print(el, ' правильный' )\n",
    "        else:\n",
    "            print(el, ' НЕ правильный' )\n",
    "el_monitor(stream)\n"
   ]
  },
  {
   "cell_type": "markdown",
   "metadata": {},
   "source": [
    "**Задание №3**\n",
    "\n",
    "Напишите функцию date_range, которая возвращает список дат за период от start_date до end_date. Даты должны вводиться в формате \n",
    "YYYY-MM-DD. \n",
    "В случае неверного формата или при start_date > end_date должен возвращаться пустой список."
   ]
  },
  {
   "cell_type": "markdown",
   "metadata": {},
   "source": [
    "**Решение задачи №3**"
   ]
  },
  {
   "cell_type": "code",
   "execution_count": 36,
   "metadata": {},
   "outputs": [
    {
     "name": "stdout",
     "output_type": "stream",
     "text": [
      "Введите начальную дату: 2027-02-08\n",
      "Введите конечную дату: 2025-05-08\n"
     ]
    },
    {
     "data": {
      "text/plain": [
       "[]"
      ]
     },
     "execution_count": 36,
     "metadata": {},
     "output_type": "execute_result"
    }
   ],
   "source": [
    "def date_range():\n",
    "    from datetime import datetime\n",
    "    from datetime import timedelta\n",
    "    start_date = input('Введите начальную дату: ')\n",
    "    end_date = input('Введите конечную дату: ')\n",
    "    dates_list = []\n",
    "    if start_date > end_date:\n",
    "        return dates_list\n",
    "    else: \n",
    "        try:\n",
    "            start_date_dt = datetime.strptime(start_date, '%Y-%m-%d')\n",
    "            end_date_dt = datetime.strptime(end_date, '%Y-%m-%d')\n",
    "            if start_date_dt and end_date_dt:\n",
    "                current_dt = start_date_dt\n",
    "                while current_dt <= end_date_dt:\n",
    "                    dates_list.append(current_dt.strftime('%Y-%m-%d'))\n",
    "                    current_dt += timedelta(days=1)\n",
    "                return dates_list\n",
    "        except:\n",
    "            return dates_list\n",
    "date_range()"
   ]
  },
  {
   "cell_type": "markdown",
   "metadata": {},
   "source": [
    "**Задача №4**\n",
    "\n",
    "Ваш коллега прислал код функции:\n",
    "```\n",
    "def delete_and_return_last_user(default_list=['A100', 'A101', 'A102']):\n",
    "    \"\"\"\n",
    "    Удаляет из списка default_list последнего пользователя\n",
    "    и возвращает ID нового последнего пользователя.\n",
    "    \"\"\"\n",
    "    element_to_delete = default_list[-1]\n",
    "    default_list.remove(element_to_delete)\n",
    "\n",
    "    return default_list[DEFAULT_USER_COUNT-2]\n",
    "delete_and_return_last_user(default_list=['A100', 'A101', 'A102'])\n",
    "```\n",
    "\n",
    "При однократном вызове этой функции все работает корректно:\n",
    "delete_and_return_last_user(1)\n",
    "‘A101’\n",
    "\n",
    "Однако, при повторном вызове получается ошибка IndexError: list index out of range.\n",
    "\n",
    "**Задание:**\n",
    "\n",
    "1. Что значит ошибка list index out of range?\n",
    "2. Почему при первом запуске функция работает корректно, а при втором - нет?\n"
   ]
  },
  {
   "cell_type": "markdown",
   "metadata": {},
   "source": [
    "***Решение задачи 4***\n",
    "\n",
    "1. 'list index out of range' - означает то, что индекс вне списка\n",
    "2. почему этот код не работает:\n",
    "    во-первых, там вообще непонятно, что такое [DEFAULT_USER_COUNT-2]. Т.е., если б там было просто [-2]? то понятно, \n",
    "    а так python ругается, что DEFAULT_USER_COUNT не определен.\n",
    "    во-вторых, я думал, что проблема в номере индекса, но даже после первой итерации, -2 индекс остается \n",
    "    (им станоится индекс [0]), так что пока проблема лично для меня не ясна.\n",
    "    Возможно, проблема бы решилась, если бы было понятно, что такое DEFAULT_USER_COUNT"
   ]
  },
  {
   "cell_type": "code",
   "execution_count": 89,
   "metadata": {},
   "outputs": [
    {
     "data": {
      "text/plain": [
       "'A100'"
      ]
     },
     "execution_count": 89,
     "metadata": {},
     "output_type": "execute_result"
    }
   ],
   "source": [
    "default_list = ['A100', 'A101', 'A102']\n",
    "def delete_and_return_last_user(default_list): \n",
    "    \"\"\" \n",
    "    Удаляет из списка default_list последнего пользователя \n",
    "    и возвращает ID нового последнего пользователя. \n",
    "    \"\"\" \n",
    "    element_to_delete = default_list[-1] \n",
    "    default_list.remove(element_to_delete)\n",
    "\n",
    "    return default_list[DEFAULT_USER_COUNT-2]\n",
    "\n",
    "delete_and_return_last_user(default_list)"
   ]
  }
 ],
 "metadata": {
  "kernelspec": {
   "display_name": "Python 3",
   "language": "python",
   "name": "python3"
  },
  "language_info": {
   "codemirror_mode": {
    "name": "ipython",
    "version": 3
   },
   "file_extension": ".py",
   "mimetype": "text/x-python",
   "name": "python",
   "nbconvert_exporter": "python",
   "pygments_lexer": "ipython3",
   "version": "3.8.3"
  },
  "toc": {
   "base_numbering": 1,
   "nav_menu": {},
   "number_sections": true,
   "sideBar": true,
   "skip_h1_title": false,
   "title_cell": "Table of Contents",
   "title_sidebar": "Contents",
   "toc_cell": true,
   "toc_position": {},
   "toc_section_display": true,
   "toc_window_display": false
  }
 },
 "nbformat": 4,
 "nbformat_minor": 4
}
