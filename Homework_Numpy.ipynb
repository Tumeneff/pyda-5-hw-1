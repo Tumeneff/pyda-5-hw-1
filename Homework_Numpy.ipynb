{
 "cells": [
  {
   "cell_type": "markdown",
   "metadata": {
    "toc": true
   },
   "source": [
    "<h1>Table of Contents<span class=\"tocSkip\"></span></h1>\n",
    "<div class=\"toc\"><ul class=\"toc-item\"></ul></div>"
   ]
  },
  {
   "cell_type": "markdown",
   "metadata": {},
   "source": [
    "***Задание 1***\n",
    "Создайте numpy array с элементами от числа N до 0 (например, для N = 10 это будет array([9, 8, 7, 6, 5, 4, 3, 2, 1, 0]))."
   ]
  },
  {
   "cell_type": "code",
   "execution_count": 2,
   "metadata": {},
   "outputs": [],
   "source": [
    "import numpy as np"
   ]
  },
  {
   "cell_type": "code",
   "execution_count": 39,
   "metadata": {},
   "outputs": [
    {
     "data": {
      "text/plain": [
       "array([9, 8, 7, 6, 5, 4, 3, 2, 1, 0])"
      ]
     },
     "execution_count": 39,
     "metadata": {},
     "output_type": "execute_result"
    }
   ],
   "source": [
    "a = np.arange(0, 10)\n",
    "np.flip(a) #не знаю, что нужно было сделать, но прочитал про этот методи решил использовать его"
   ]
  },
  {
   "cell_type": "markdown",
   "metadata": {},
   "source": [
    "***Задание 2***\n",
    "Создайте диагональную матрицу с элементами от N до 0. Посчитайте сумму ее значений на диагонали."
   ]
  },
  {
   "cell_type": "code",
   "execution_count": 96,
   "metadata": {},
   "outputs": [
    {
     "name": "stdout",
     "output_type": "stream",
     "text": [
      "20\n"
     ]
    }
   ],
   "source": [
    "x = np.flip(np.diag(np.arange(0, 10, 2), k=0))# создаем дигональную матрицу от 0 до 10 с шагом 2 и сразу переворачиваем ее методом np.flip\n",
    "print(np.trace(x))# выводим на печать сумму элементов по диагонали с помощью метода np.trace"
   ]
  },
  {
   "cell_type": "code",
   "execution_count": 73,
   "metadata": {},
   "outputs": [
    {
     "data": {
      "text/plain": [
       "20"
      ]
     },
     "execution_count": 73,
     "metadata": {},
     "output_type": "execute_result"
    }
   ],
   "source": [
    "#вариант решения через цикл, только придется помучиться, чтобы первести матрицу \n",
    "#в адекватный вариант списка из объекта numpy.ndarray\n",
    "\n",
    "matr = [[8, 0, 0, 0, 0],\n",
    "       [0, 6, 0, 0, 0],\n",
    "       [0, 0, 4, 0, 0],\n",
    "       [0, 0, 0, 2, 0],\n",
    "       [0, 0, 0, 0, 0]]\n",
    "n = len(matr[0])\n",
    "sum_diagonal = sum(matr[i][i] for i in range(n))\n",
    "sum_diagonal"
   ]
  },
  {
   "cell_type": "markdown",
   "metadata": {},
   "source": [
    "***Задание 3***\n",
    "\n",
    "Решите систему уравнений:\n",
    "\n",
    "4x + 2y + z = 4\n",
    "\n",
    "x + 3y = 12\n",
    "\n",
    "5y + 4z = -3"
   ]
  },
  {
   "cell_type": "code",
   "execution_count": 77,
   "metadata": {},
   "outputs": [
    {
     "data": {
      "text/plain": [
       "array([ 3.73170732, -2.75609756, -5.41463415])"
      ]
     },
     "execution_count": 77,
     "metadata": {},
     "output_type": "execute_result"
    }
   ],
   "source": [
    "from numpy import linalg\n",
    "\n",
    "left_part = np.array( [ [4, 2, 1], [1, -3, 0], [5, 0, 4] ] )\n",
    "right_part = np.array( [4, 12, -3] )\n",
    "\n",
    "linalg.solve(left_part, right_part)"
   ]
  },
  {
   "cell_type": "markdown",
   "metadata": {},
   "source": [
    "***Задача 4***\n",
    "\n",
    "Имеется матрица покупок в интернет-магазине. Столбец А - ID пользователя. Остальные столбцы - количество покупок категорий товаров этим пользователем:"
   ]
  },
  {
   "cell_type": "code",
   "execution_count": 82,
   "metadata": {},
   "outputs": [],
   "source": [
    "users_stats = np.array(\n",
    "    [\n",
    "        [2, 1, 0, 0, 0, 0],\n",
    "        [1, 1, 2, 1, 0, 0],\n",
    "        [2, 0, 1, 0, 0, 0],\n",
    "        [1, 1, 2, 1, 0, 1],\n",
    "        [0, 0, 1, 2, 0, 0],\n",
    "        [0, 0, 0, 0, 0, 5],\n",
    "        [1, 0, 0, 0, 0, 0],\n",
    "        [0, 1, 1, 0, 0, 0],\n",
    "        [0, 0, 0, 1, 1, 3],\n",
    "        [1, 0, 0, 2, 1, 4]\n",
    "    ], \n",
    "    np.int32\n",
    ")"
   ]
  },
  {
   "cell_type": "markdown",
   "metadata": {},
   "source": [
    "На сайт заходит очередной посетитель, о покупках которого известно следующее:"
   ]
  },
  {
   "cell_type": "code",
   "execution_count": 83,
   "metadata": {},
   "outputs": [],
   "source": [
    "next_user_stats = np.array([0, 1, 2, 0, 0, 0])"
   ]
  },
  {
   "cell_type": "markdown",
   "metadata": {},
   "source": [
    "Найдите самого похожего пользователя. Т. е. посчитайте косинусное сходство между этим пользователем и всеми пользователями из массива user_stats"
   ]
  },
  {
   "cell_type": "code",
   "execution_count": 95,
   "metadata": {},
   "outputs": [
    {
     "name": "stdout",
     "output_type": "stream",
     "text": [
      "Поведение нового пользователя максимально схоже с пользователем 8, значение: 0.9486832980505138\n"
     ]
    }
   ],
   "source": [
    "#Поскольку матрица дана без индексов, в итоге я их добавлю в конце \n",
    "import matplotlib.pyplot as plt #импорт библиотеки\n",
    "nxuLength = np.linalg.norm(next_user_stats) #длина вектора по новому пользователю\n",
    "simmilarity_list = [] #пустой список, куда впоследствии будут загоняться значения сходства\n",
    "for line in users_stats:\n",
    "    simmilarity_list.append(np.dot(next_user_stats, line) / (nxuLength * np.linalg.norm(line)))#считаем косинус для пары каждого пользователя в базе и нового пользователя  \n",
    "#тут можно было бы и закончить, вернув max(simmilarity_list),но захотелось красоты\n",
    "for i, cos in enumerate(simmilarity_list): #в цикле нумеруем список с косинусами и идем по элементам\n",
    "    if cos == max(simmilarity_list): #если элемент равен максимальному значению в списке, то выводим его вместе с индексом +1, поскольку индекс идет от 0, а реальные ID начинаются от 1.\n",
    "        print('Поведение нового пользователя максимально схоже с пользователем {}, значение: {}'.format(i+1, cos))"
   ]
  }
 ],
 "metadata": {
  "kernelspec": {
   "display_name": "Python 3",
   "language": "python",
   "name": "python3"
  },
  "language_info": {
   "codemirror_mode": {
    "name": "ipython",
    "version": 3
   },
   "file_extension": ".py",
   "mimetype": "text/x-python",
   "name": "python",
   "nbconvert_exporter": "python",
   "pygments_lexer": "ipython3",
   "version": "3.8.3"
  },
  "toc": {
   "base_numbering": 1,
   "nav_menu": {},
   "number_sections": true,
   "sideBar": true,
   "skip_h1_title": false,
   "title_cell": "Table of Contents",
   "title_sidebar": "Contents",
   "toc_cell": true,
   "toc_position": {},
   "toc_section_display": true,
   "toc_window_display": false
  }
 },
 "nbformat": 4,
 "nbformat_minor": 4
}
