{
 "cells": [
  {
   "cell_type": "markdown",
   "metadata": {
    "toc": true
   },
   "source": [
    "<h1>Table of Contents<span class=\"tocSkip\"></span></h1>\n",
    "<div class=\"toc\"><ul class=\"toc-item\"></ul></div>"
   ]
  },
  {
   "cell_type": "code",
   "execution_count": 55,
   "metadata": {},
   "outputs": [],
   "source": [
    "#1-ая часть ДЗ\n",
    "import json \n",
    "with open('purchase_log.txt', 'r', encoding='utf-8') as purchase: \n",
    "    content = purchase.readlines() #загружаем в память весь файл\n",
    "    purchases = {} #пустой словарь\n",
    "    for line in content: #для каждой строки в массиве...\n",
    "        purchases_dict = json.loads(line) #превращаем строку в словарь\n",
    "        acc_list = list(purchases_dict.values()) #список только из значений словаря\n",
    "        purchases.setdefault(acc_list[0], acc_list[1]) #словарь из списка, где i[0] - ключ, а i[1] - значение \n",
    "\n",
    "#2-ая часть ДЗ\n",
    "with open('visit_log.csv', 'r',  encoding='utf-8') as visits:\n",
    "    with open('funnel.csv', 'w') as thats_we_need:\n",
    "        for el in visits: #для каждой строки в visits:\n",
    "            el = el.strip('\\n').split(',') #создаем список, попутно очищая его и разделяя\n",
    "            if el[0] in purchases: #если el[0] есть в purchases\n",
    "                x = [el[0], el[1], purchases[el[0]]]  #тогда формируем список, в который добавляем индексы из el\n",
    "                                                     #и значение по ключу, совпадающему с el[0]\n",
    "                thats_we_need.write(str(x) + '\\n')  #пишем получившийся список в файл"
   ]
  },
  {
   "cell_type": "code",
   "execution_count": 56,
   "metadata": {},
   "outputs": [],
   "source": [
    "f = open('funnel.csv', 'r')"
   ]
  },
  {
   "cell_type": "code",
   "execution_count": 72,
   "metadata": {},
   "outputs": [
    {
     "data": {
      "text/plain": [
       "\"['e8447c40e2', 'email', 'Досуг']\\n\""
      ]
     },
     "execution_count": 72,
     "metadata": {},
     "output_type": "execute_result"
    }
   ],
   "source": [
    "f.readline()"
   ]
  }
 ],
 "metadata": {
  "kernelspec": {
   "display_name": "Python 3",
   "language": "python",
   "name": "python3"
  },
  "language_info": {
   "codemirror_mode": {
    "name": "ipython",
    "version": 3
   },
   "file_extension": ".py",
   "mimetype": "text/x-python",
   "name": "python",
   "nbconvert_exporter": "python",
   "pygments_lexer": "ipython3",
   "version": "3.8.3"
  },
  "toc": {
   "base_numbering": 1,
   "nav_menu": {},
   "number_sections": true,
   "sideBar": true,
   "skip_h1_title": false,
   "title_cell": "Table of Contents",
   "title_sidebar": "Contents",
   "toc_cell": true,
   "toc_position": {},
   "toc_section_display": true,
   "toc_window_display": false
  }
 },
 "nbformat": 4,
 "nbformat_minor": 4
}
